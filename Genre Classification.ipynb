{
 "cells": [
  {
   "cell_type": "markdown",
   "metadata": {},
   "source": [
    "# Automatic Audio-based Genre Classification"
   ]
  },
  {
   "cell_type": "markdown",
   "metadata": {},
   "source": [
    "## I. Prepare Data\n",
    "\n",
    "Both FMA and GTZAN split up the audio files into multiple folders. This section will loop through all the folders and extract the necessary features. The features are the 34 pyAudioAnalysis features collect in by small-frame of 1024 samples and step of 512 samples condensed into their means, standard deviations, skewnesses, and kurtosises, totaling 136 features. The genres for the FMA are retrieved from a metadata file called tracks.csv. The genres for GTZAN are simply the folder names the audio files are in. FMA had 16 genres originally, but many are unwanted and 6 will be removed. Only the remaining 10 FMA genres are extracted for features. The features are combined in a Pandas DataFrame and indexed by their dataset given index.\n",
    "\n",
    "In the end, 20,075 of the 25,000 FMA files and all 1,000 GTZAN files were extracted successfully. All the extracted features were saved to a data.csv file for both datasets."
   ]
  },
  {
   "cell_type": "code",
   "execution_count": null,
   "metadata": {},
   "outputs": [],
   "source": [
    "from pyAudioAnalysis import audioBasicIO\n",
    "from pyAudioAnalysis import audioFeatureExtraction\n",
    "import matplotlib as plt\n",
    "import numpy as np\n",
    "import pandas as pd\n",
    "import scipy as sp\n",
    "import glob\n",
    "import numpy\n",
    "import os\n",
    "from pyAudioAnalysis.audioFeatureExtraction import stFeatureExtraction"
   ]
  },
  {
   "cell_type": "code",
   "execution_count": null,
   "metadata": {},
   "outputs": [],
   "source": [
    "# Load FMA Track MetaData\n",
    "\n",
    "tracks = pd.read_csv(\"datasets/genres/fma/tracks.csv\", header = 1, dtype = {'track_id': str, 'genre_top': str})\n",
    "tracks.set_index('track_id', inplace=True)\n",
    "print(\"Tracks Loaded\")"
   ]
  },
  {
   "cell_type": "code",
   "execution_count": null,
   "metadata": {},
   "outputs": [],
   "source": [
    "# Extracts features from a FMA folder\n",
    "\n",
    "def FMA_feature_extraction(folder, outfile, extension = \".mp3\"\n",
    "                           ,genres = [\"Rock\", \"Electronic\", \"Hip-Hop\", \"Folk\", \"Pop\", \"Classical\", \"Old-Time / Historic\", \"Blues\", \"Jazz\", \"Country\"]):\n",
    "    \n",
    "    # Locates MP3 files in the specified folder\n",
    "    print(\"Extracting from folder: \" + folder)\n",
    "    files = []\n",
    "    files.extend(glob.glob(folder + \"\\\\*\" + extension))\n",
    "    print(\"\\t\" + str(len(files)) + \" files found\")\n",
    "    \n",
    "    ids = [] # FMA given id for each track\n",
    "    y = [] # FMA given genre for each track\n",
    "    X = [] # statistics of pyAudioAnalysis generated short term features\n",
    "    \n",
    "    # Loops through each file\n",
    "    for f in files:\n",
    "        name = f[len(folder) + 1 :]\n",
    "        name = name[: len(name) - len(extension)]\n",
    "        i = str(int(name))\n",
    "        track_genre = tracks.loc[i][\"genre_top\"]\n",
    "        if track_genre in genres: # Check if genre of the track is one the reduced genres\n",
    "            \n",
    "            [fs, x] = audioBasicIO.readAudioFile(f)\n",
    "            if isinstance(x, int):\n",
    "                print(f + \" Failed!\")\n",
    "                continue\n",
    "                \n",
    "            ids.append(i)\n",
    "            y.append(track_genre)\n",
    "\n",
    "            win = 1024\n",
    "            step = win / 2\n",
    "            x = audioBasicIO.stereo2mono(x)\n",
    "            [st_features, _] = stFeatureExtraction(x, fs, win, step) # Extracts short term features\n",
    "            \n",
    "            means = np.mean(st_features, axis = 1)\n",
    "            stds = np.std(st_features, axis = 1)\n",
    "            skew = sp.stats.skew(st_features, axis = 1, bias = False)\n",
    "            kurtosis = sp.stats.kurtosis(st_features, axis = 1, bias = False)\n",
    "            \n",
    "            features = np.concatenate([means, stds, skew, kurtosis])\n",
    "            X.append(features)\n",
    "            \n",
    "    print(\"\\tSuccessfully extracted from \" + str(len(ids)) + \" files\")\n",
    "    \n",
    "    # Create DataFrame\n",
    "    df_y = pd.DataFrame(index = ids, data = y)\n",
    "    df_X = pd.DataFrame(index = ids, data = X)\n",
    "    \n",
    "    df = pd.concat([df_y, df_X], axis = 1)\n",
    "\n",
    "    print(\"\\tSaving DataFrame to \" + outfile)\n",
    "    df.to_csv(path_or_buf = outfile)\n",
    "    \n",
    "    print(\"Finished folder \" + folder + \"\\n\")\n",
    "    return df"
   ]
  },
  {
   "cell_type": "code",
   "execution_count": null,
   "metadata": {},
   "outputs": [],
   "source": [
    "# Extracts features from a GTZAN folder\n",
    "\n",
    "def GTZAN_feature_extraction(genre, folder, outfile, extension = \".au\"):\n",
    "    \n",
    "    # Locates audio files in the specified folder\n",
    "    print(\"Extracting from folder: \" + folder)\n",
    "    files = []\n",
    "    files.extend(glob.glob(folder + \"\\\\*\" + extension))\n",
    "    print(\"\\t\" + str(len(files)) + \" files found\")\n",
    "    \n",
    "    ids = [] # GTZAN given id for each track\n",
    "    y = [] # GTZAN given genre for each track\n",
    "    X = [] # statistics of pyAudioAnalysis generated short term features\n",
    "    \n",
    "    # Loops through each file\n",
    "    for f in files:\n",
    "        name = f[len(folder) + 1 :]\n",
    "        name = name[: len(name) - len(extension)]\n",
    "        \n",
    "\n",
    "        [fs, x] = audioBasicIO.readAudioFile(f)\n",
    "        if isinstance(x, int):\n",
    "            print(f + \" Failed!\")\n",
    "            continue\n",
    "\n",
    "        ids.append(name)\n",
    "        y.append(genre)\n",
    "\n",
    "        win = 1024\n",
    "        step = win / 2\n",
    "        x = audioBasicIO.stereo2mono(x)\n",
    "        [st_features, _] = stFeatureExtraction(x, fs, win, step) # Extracts short term features\n",
    "\n",
    "        means = np.mean(st_features, axis = 1)\n",
    "        stds = np.std(st_features, axis = 1)\n",
    "        skew = sp.stats.skew(st_features, axis = 1, bias = False)\n",
    "        kurtosis = sp.stats.kurtosis(st_features, axis = 1, bias = False)\n",
    "\n",
    "        features = np.concatenate([means, stds, skew, kurtosis])\n",
    "        X.append(features)\n",
    "            \n",
    "    print(\"\\tSuccessfully extracted from \" + str(len(ids)) + \" files\")\n",
    "    \n",
    "    # Create DataFrame\n",
    "    df_y = pd.DataFrame(index = ids, data = y)\n",
    "    df_X = pd.DataFrame(index = ids, data = X)\n",
    "    \n",
    "    df = pd.concat([df_y, df_X], axis = 1)\n",
    "\n",
    "    print(\"\\tSaving DataFrame to \" + outfile)\n",
    "    df.to_csv(path_or_buf = outfile)\n",
    "    \n",
    "    print(\"Finished folder \" + folder + \"\\n\")\n",
    "    return df"
   ]
  },
  {
   "cell_type": "code",
   "execution_count": null,
   "metadata": {},
   "outputs": [],
   "source": [
    "# Sets up folders for feature extraction\n",
    "\n",
    "gtzan_folders = [\"blues\", \"classical\", \"country\", \"disco\", \"hiphop\", \"jazz\", \"metal\", \"pop\", \"reggae\", \"rock\"]\n",
    "def fma_folders(number = 155):\n",
    "    folders = []\n",
    "    for i in range(0, number + 1):\n",
    "        name = str(i)\n",
    "        while (len(name) < 3):\n",
    "            name = \"0\" + name\n",
    "        folders.append(name)\n",
    "    return folders\n",
    "\n",
    "data_temp = []\n",
    "rendered = []\n",
    "data_temp2 = []\n",
    "rendered2 = []"
   ]
  },
  {
   "cell_type": "code",
   "execution_count": null,
   "metadata": {},
   "outputs": [],
   "source": [
    "end = 155\n",
    "\n",
    "# Extracts features from each folder in both datasets\n",
    "\n",
    "for i, folder in enumerate(fma_folders()):\n",
    "    if (i <= end and folder not in rendered):\n",
    "        data_temp.append(FMA_feature_extraction(\"datasets\\\\genres\\\\fma\\\\\" + folder, \"datasets\\\\genres\\\\fma\\\\\" + folder + \"\\\\rendered.csv\"))\n",
    "        rendered.append(folder)\n",
    "    else:\n",
    "        print(\"Skipped \" + folder)\n",
    "\n",
    "for i, folder in enumerate(gtzan_folders):\n",
    "    if folder not in rendered2:\n",
    "        data_temp2.append(GTZAN_feature_extraction(folder, \"datasets\\\\genres\\\\gtzan\\\\\" + folder, \"datasets\\\\genres\\\\gtzan\\\\\" + folder + \"\\\\rendered.csv\"))\n",
    "        rendered2.append(folder)\n",
    "    else:\n",
    "        print(\"Skipped \" + folder)"
   ]
  },
  {
   "cell_type": "code",
   "execution_count": null,
   "metadata": {},
   "outputs": [],
   "source": [
    "# Generates columns names\n",
    "\n",
    "col_names = [\"genre\"]\n",
    "stats = [\"_mean\", \"_std\", \"_skew\", \"_kurtosis\"]\n",
    "features = ['zcr', 'energy', 'energy_entropy', 'spectral_centroid', 'spectral_spread', 'spectral_entropy', 'spectral_flux', 'spectral_rolloff', 'mfcc_1', 'mfcc_2', 'mfcc_3', 'mfcc_4', 'mfcc_5', 'mfcc_6', 'mfcc_7', 'mfcc_8', 'mfcc_9', 'mfcc_10', 'mfcc_11', 'mfcc_12', 'mfcc_13', 'chroma_1', 'chroma_2', 'chroma_3', 'chroma_4', 'chroma_5', 'chroma_6', 'chroma_7', 'chroma_8', 'chroma_9', 'chroma_10', 'chroma_11', 'chroma_12', 'chroma_std']\n",
    "for stat in stats:\n",
    "    for feature in features:\n",
    "        col_names.append(feature + stat)\n",
    "        \n",
    "print(col_names)\n",
    "print(len(col_names))"
   ]
  },
  {
   "cell_type": "code",
   "execution_count": null,
   "metadata": {},
   "outputs": [],
   "source": [
    "# Gathers all the extracted features for FMA and combines them\n",
    "\n",
    "fma_data = [];\n",
    "for i, folder in enumerate(fma_folders()):\n",
    "    fma_data.append(pd.read_csv(\"datasets\\\\genres\\\\fma\\\\\" + folder + \"\\\\rendered.csv\", index_col = 0, header = 0, names = col_names))\n",
    "                    \n",
    "fma_data = pd.concat(fma_data)"
   ]
  },
  {
   "cell_type": "code",
   "execution_count": 103,
   "metadata": {},
   "outputs": [],
   "source": [
    "# Gathers all the extracted features for GTZAN and combines them\n",
    "\n",
    "gtzan_data = [];\n",
    "for i, folder in enumerate(gtzan_folders):\n",
    "    gtzan_data.append(pd.read_csv(\"datasets\\\\genres\\\\gtzan\\\\\" + folder + \"\\\\rendered.csv\", index_col = 0, header = 0, names = col_names))\n",
    "    \n",
    "gtzan_data = pd.concat(gtzan_data)"
   ]
  },
  {
   "cell_type": "code",
   "execution_count": 106,
   "metadata": {
    "scrolled": true
   },
   "outputs": [
    {
     "name": "stdout",
     "output_type": "stream",
     "text": [
      "             genre  zcr_mean  energy_mean  energy_entropy_mean  \\\n",
      "2          Hip-Hop  0.098553     0.028831             3.127077   \n",
      "3          Hip-Hop  0.089063     0.040205             3.131836   \n",
      "5          Hip-Hop  0.059400     0.075680             3.048581   \n",
      "10             Pop  0.081091     0.037589             3.218621   \n",
      "134        Hip-Hop  0.068045     0.034920             3.026914   \n",
      "136           Rock  0.037911     0.084420             3.115693   \n",
      "139           Folk  0.073453     0.022375             3.166191   \n",
      "140           Folk  0.027288     0.008333             2.993362   \n",
      "141           Folk  0.034156     0.020099             3.104905   \n",
      "181           Rock  0.078953     0.041433             3.213017   \n",
      "182           Rock  0.051574     0.084065             3.183429   \n",
      "190           Folk  0.048071     0.021965             3.170332   \n",
      "193           Folk  0.041970     0.015284             3.110046   \n",
      "194           Folk  0.037928     0.015847             3.119923   \n",
      "197           Folk  0.027548     0.010124             3.097980   \n",
      "198           Folk  0.046000     0.031176             3.127382   \n",
      "200           Folk  0.052214     0.019170             3.125286   \n",
      "203           Folk  0.027090     0.017617             3.132445   \n",
      "204           Folk  0.044114     0.025546             3.120268   \n",
      "207           Folk  0.034058     0.013020             3.131615   \n",
      "208           Folk  0.051132     0.013780             3.145515   \n",
      "209           Folk  0.044820     0.028327             3.155470   \n",
      "210           Folk  0.045403     0.028420             3.146307   \n",
      "211           Folk  0.041441     0.023172             3.121656   \n",
      "212           Folk  0.063627     0.023523             3.116499   \n",
      "213            Pop  0.028192     0.014162             3.098907   \n",
      "237           Jazz  0.067029     0.054071             3.171458   \n",
      "247           Rock  0.037585     0.031530             3.151233   \n",
      "249           Rock  0.023155     0.036146             3.051483   \n",
      "255           Rock  0.030650     0.027379             3.087095   \n",
      "...            ...       ...          ...                  ...   \n",
      "154512  Electronic  0.064894     0.100413             3.023102   \n",
      "154513  Electronic  0.059743     0.100177             3.094187   \n",
      "154514  Electronic  0.039275     0.087115             3.073003   \n",
      "154567        Folk  0.031526     0.059795             2.904392   \n",
      "154656        Rock  0.080045     0.089240             3.155454   \n",
      "154747        Rock  0.073633     0.027616             3.175286   \n",
      "154853        Rock  0.125591     0.078345             3.154548   \n",
      "154894  Electronic  0.060822     0.015024             2.982821   \n",
      "154896  Electronic  0.070830     0.037750             3.199914   \n",
      "154897  Electronic  0.071951     0.032505             3.139212   \n",
      "154920  Electronic  0.200176     0.045048             3.182438   \n",
      "154925  Electronic  0.019027     0.049386             2.928226   \n",
      "154926  Electronic  0.008051     0.061354             2.698817   \n",
      "154962  Electronic  0.094206     0.053558             3.141128   \n",
      "154963  Electronic  0.066614     0.062251             3.064581   \n",
      "154964  Electronic  0.109063     0.066422             3.081069   \n",
      "154965  Electronic  0.098769     0.059752             3.044122   \n",
      "154966  Electronic  0.069473     0.055273             3.149395   \n",
      "155063     Hip-Hop  0.019975     0.043061             2.952276   \n",
      "155064     Hip-Hop  0.028209     0.047313             3.053050   \n",
      "155065     Hip-Hop  0.006741     0.163427             2.998967   \n",
      "155066     Hip-Hop  0.009079     0.065153             2.992796   \n",
      "155130  Electronic  0.123662     0.030190             3.065297   \n",
      "155138  Electronic  0.037881     0.219411             2.987906   \n",
      "155140  Electronic  0.050287     0.119727             2.870996   \n",
      "155141  Electronic  0.063239     0.028116             3.010862   \n",
      "155142  Electronic  0.059969     0.034536             2.961920   \n",
      "155298        Folk  0.022329     0.053692             3.064906   \n",
      "155306        Folk  0.021478     0.023313             3.045218   \n",
      "155314        Rock  0.038004     0.023143             3.038153   \n",
      "\n",
      "        spectral_centroid_mean  spectral_spread_mean  spectral_entropy_mean  \\\n",
      "2                     0.176841              0.179232               0.875694   \n",
      "3                     0.164871              0.178884               0.825032   \n",
      "5                     0.148413              0.183072               0.493078   \n",
      "10                    0.139872              0.159912               0.848371   \n",
      "134                   0.150608              0.178505               0.626510   \n",
      "136                   0.120096              0.182181               0.252263   \n",
      "139                   0.134824              0.155867               0.740057   \n",
      "140                   0.119428              0.185443               0.180379   \n",
      "141                   0.108275              0.163328               0.212106   \n",
      "181                   0.129886              0.147956               0.726791   \n",
      "182                   0.108527              0.141360               0.404134   \n",
      "190                   0.119934              0.164944               0.366802   \n",
      "193                   0.108405              0.158728               0.305887   \n",
      "194                   0.101501              0.151263               0.265069   \n",
      "197                   0.091423              0.152868               0.149224   \n",
      "198                   0.111533              0.156871               0.394203   \n",
      "200                   0.115052              0.150902               0.451490   \n",
      "203                   0.105296              0.173196               0.130662   \n",
      "204                   0.118833              0.172243               0.275571   \n",
      "207                   0.112920              0.177191               0.163110   \n",
      "208                   0.109799              0.148008               0.434096   \n",
      "209                   0.105183              0.153491               0.299039   \n",
      "210                   0.112648              0.158130               0.333058   \n",
      "211                   0.105867              0.155613               0.268727   \n",
      "212                   0.138610              0.180955               0.433191   \n",
      "213                   0.093195              0.157499               0.130949   \n",
      "237                   0.130762              0.160160               0.661249   \n",
      "247                   0.095739              0.146858               0.168718   \n",
      "249                   0.078358              0.142937               0.077187   \n",
      "255                   0.091099              0.149669               0.114737   \n",
      "...                        ...                   ...                    ...   \n",
      "154512                0.165535              0.194504               0.607284   \n",
      "154513                0.143822              0.177871               0.553579   \n",
      "154514                0.161812              0.208089               0.307997   \n",
      "154567                0.118208              0.178950               0.238156   \n",
      "154656                0.168065              0.190693               0.805129   \n",
      "154747                0.136830              0.154388               0.785281   \n",
      "154853                0.190329              0.161881               1.340828   \n",
      "154894                0.190372              0.252459               0.310222   \n",
      "154896                0.133664              0.153978               0.736712   \n",
      "154897                0.161421              0.216749               0.432225   \n",
      "154920                0.282777              0.226972               1.936565   \n",
      "154925                0.098870              0.176136               0.075553   \n",
      "154926                0.123067              0.216249               0.063641   \n",
      "154962                0.195279              0.198006               0.910500   \n",
      "154963                0.182109              0.214066               0.609708   \n",
      "154964                0.183757              0.171793               0.955205   \n",
      "154965                0.221506              0.224328               0.850212   \n",
      "154966                0.142466              0.172171               0.607702   \n",
      "155063                0.084186              0.160569               0.041024   \n",
      "155064                0.101121              0.169404               0.099689   \n",
      "155065                0.081553              0.166950               0.048732   \n",
      "155066                0.076735              0.162506               0.021835   \n",
      "155130                0.215571              0.216899               0.977987   \n",
      "155138                0.169398              0.220898               0.291445   \n",
      "155140                0.150165              0.205656               0.319749   \n",
      "155141                0.162507              0.196890               0.538218   \n",
      "155142                0.222681              0.273994               0.315221   \n",
      "155298                0.100150              0.170654               0.110213   \n",
      "155306                0.093542              0.166382               0.092836   \n",
      "155314                0.112776              0.162193               0.323738   \n",
      "\n",
      "        spectral_flux_mean  spectral_rolloff_mean  mfcc_1_mean  \\\n",
      "2                 0.004871               0.162539   -25.085137   \n",
      "3                 0.004553               0.152044   -24.566593   \n",
      "5                 0.007414               0.088632   -24.337810   \n",
      "10                0.003141               0.129868   -22.941693   \n",
      "134               0.008034               0.106037   -25.076365   \n",
      "136               0.005670               0.048097   -22.413957   \n",
      "139               0.003454               0.124885   -24.510361   \n",
      "140               0.010643               0.035232   -28.887741   \n",
      "141               0.004539               0.047514   -26.798865   \n",
      "181               0.003605               0.133002   -23.516342   \n",
      "182               0.004936               0.082256   -22.418264   \n",
      "190               0.003291               0.074597   -25.009689   \n",
      "193               0.005061               0.063698   -25.694553   \n",
      "194               0.004217               0.058572   -25.832003   \n",
      "197               0.004928               0.041189   -27.644851   \n",
      "198               0.004188               0.073217   -23.944300   \n",
      "200               0.004352               0.082226   -24.987865   \n",
      "203               0.006418               0.038454   -26.399552   \n",
      "204               0.004616               0.068185   -24.719155   \n",
      "207               0.006617               0.042678   -29.813335   \n",
      "208               0.003793               0.084857   -24.737684   \n",
      "209               0.004034               0.065921   -23.991391   \n",
      "210               0.004204               0.072839   -24.314699   \n",
      "211               0.003967               0.063515   -24.412303   \n",
      "212               0.004068               0.092022   -24.382862   \n",
      "213               0.005663               0.042749   -26.107503   \n",
      "237               0.003269               0.105924   -22.458088   \n",
      "247               0.005637               0.052762   -23.949647   \n",
      "249               0.007841               0.036314   -24.288740   \n",
      "255               0.007967               0.045959   -24.501177   \n",
      "...                    ...                    ...          ...   \n",
      "154512            0.006918               0.097099   -23.534699   \n",
      "154513            0.006636               0.096384   -24.612995   \n",
      "154514            0.006965               0.053528   -25.223266   \n",
      "154567            0.007305               0.032877   -24.492686   \n",
      "154656            0.003408               0.125240   -21.995047   \n",
      "154747            0.003189               0.131440   -23.494237   \n",
      "154853            0.003278               0.216077   -24.242331   \n",
      "154894            0.009514               0.055157   -28.385400   \n",
      "154896            0.004371               0.104573   -23.067820   \n",
      "154897            0.004619               0.081142   -23.480076   \n",
      "154920            0.002501               0.379593   -25.041618   \n",
      "154925            0.012393               0.025872   -23.778005   \n",
      "154926            0.036058               0.011068   -27.252152   \n",
      "154962            0.005091               0.181204   -23.976440   \n",
      "154963            0.008054               0.115001   -23.968105   \n",
      "154964            0.006371               0.169137   -25.621822   \n",
      "154965            0.004466               0.170275   -24.090338   \n",
      "154966            0.004851               0.113629   -23.672826   \n",
      "155063            0.011981               0.025095   -27.476138   \n",
      "155064            0.007539               0.037991   -24.609960   \n",
      "155065            0.013960               0.013341   -25.585615   \n",
      "155066            0.008377               0.018648   -25.666890   \n",
      "155130            0.005539               0.213845   -25.436472   \n",
      "155138            0.013129               0.056587   -24.327124   \n",
      "155140            0.014539               0.061207   -24.791846   \n",
      "155141            0.007409               0.092854   -26.119254   \n",
      "155142            0.009441               0.065075   -26.228422   \n",
      "155298            0.008194               0.027347   -24.689729   \n",
      "155306            0.009081               0.028853   -26.004849   \n",
      "155314            0.006065               0.053682   -24.483819   \n",
      "\n",
      "               ...           chroma_4_kurtosis  chroma_5_kurtosis  \\\n",
      "2              ...                    2.710265          11.595119   \n",
      "3              ...                    3.269309          27.811441   \n",
      "5              ...                    1.756994          20.503213   \n",
      "10             ...                   12.740649          30.313776   \n",
      "134            ...                    4.514047          34.862384   \n",
      "136            ...                   -0.006145           6.315884   \n",
      "139            ...                    0.992164           9.270007   \n",
      "140            ...                    0.474878          25.853802   \n",
      "141            ...                   -0.409889          40.179056   \n",
      "181            ...                    2.067047          26.740151   \n",
      "182            ...                    2.674095          52.825315   \n",
      "190            ...                    4.709114          12.362559   \n",
      "193            ...                    5.598211          29.842690   \n",
      "194            ...                    3.426743          30.880082   \n",
      "197            ...                    6.506950           6.633662   \n",
      "198            ...                    3.301611          75.947500   \n",
      "200            ...                    6.744213          24.810551   \n",
      "203            ...                   13.432682           7.416803   \n",
      "204            ...                    2.993625          38.186067   \n",
      "207            ...                    3.934988          16.037784   \n",
      "208            ...                    5.190855           4.959925   \n",
      "209            ...                    4.055691           9.706017   \n",
      "210            ...                    2.864244          55.049934   \n",
      "211            ...                    4.596819           5.422477   \n",
      "212            ...                    6.569503           7.432360   \n",
      "213            ...                    0.297937          38.633673   \n",
      "237            ...                    1.842135           6.410769   \n",
      "247            ...                   -0.053580          22.773649   \n",
      "249            ...                   -0.357716          13.144864   \n",
      "255            ...                    0.605007          29.847024   \n",
      "...            ...                         ...                ...   \n",
      "154512         ...                    0.495411          76.792571   \n",
      "154513         ...                   -0.480959          10.154245   \n",
      "154514         ...                   -1.126168          22.902443   \n",
      "154567         ...                    0.195306          63.105509   \n",
      "154656         ...                    0.375937          23.587458   \n",
      "154747         ...                   32.482669           0.323796   \n",
      "154853         ...                   36.620385           5.584766   \n",
      "154894         ...                    4.015706          14.586165   \n",
      "154896         ...                    1.886448           2.205508   \n",
      "154897         ...                   15.636577          13.046834   \n",
      "154920         ...                    3.926198           9.898203   \n",
      "154925         ...                   -0.517621           3.196022   \n",
      "154926         ...                    0.402749          58.489460   \n",
      "154962         ...                    1.298121          38.504362   \n",
      "154963         ...                    1.051177          34.009652   \n",
      "154964         ...                    0.641272           7.131188   \n",
      "154965         ...                   -0.031554          13.830271   \n",
      "154966         ...                    3.835512          24.526610   \n",
      "155063         ...                    2.660512           7.246585   \n",
      "155064         ...                   18.929152           5.672407   \n",
      "155065         ...                    3.126292          47.899013   \n",
      "155066         ...                   21.176412          11.021091   \n",
      "155130         ...                    7.999539          18.371882   \n",
      "155138         ...                    3.844882          13.006905   \n",
      "155140         ...                    0.387665          12.191363   \n",
      "155141         ...                    1.793378          11.698209   \n",
      "155142         ...                    6.614367          18.106349   \n",
      "155298         ...                    0.412480          19.941627   \n",
      "155306         ...                   -0.286541          26.220599   \n",
      "155314         ...                   13.836802           0.189294   \n",
      "\n",
      "        chroma_6_kurtosis  chroma_7_kurtosis  chroma_8_kurtosis  \\\n",
      "2                5.641821          71.713736          31.890129   \n",
      "3                5.571054          23.713202          41.887768   \n",
      "5                5.911858          51.468282          44.446432   \n",
      "10              24.820535          39.126683          50.591847   \n",
      "134             26.016862          88.466704          73.434647   \n",
      "136              5.123228          86.865856          25.129672   \n",
      "139             11.169312          45.713371          10.328058   \n",
      "140              5.083331          59.360133          66.667819   \n",
      "141             14.491220          70.500776          10.874067   \n",
      "181              4.425682          77.379077          22.249189   \n",
      "182             12.203064          20.361813          12.224524   \n",
      "190             13.230020          88.709197          11.651162   \n",
      "193              6.792891          39.281744          12.956821   \n",
      "194             11.950824         172.221682          11.580686   \n",
      "197              2.089291          88.217805          15.796998   \n",
      "198              5.933213         244.278849          11.596332   \n",
      "200              3.683549         137.885802          25.914453   \n",
      "203              2.018182          13.944355          43.119238   \n",
      "204              2.303359         103.800633          32.489238   \n",
      "207              3.226572          47.219934          26.015267   \n",
      "208              1.755458          28.966937           9.763923   \n",
      "209              4.749308          21.651090          22.794784   \n",
      "210              3.968995          12.781467          19.823410   \n",
      "211              8.615903          20.198610           6.741296   \n",
      "212              9.650396          31.102617           8.855168   \n",
      "213              1.188937          11.444858           5.613322   \n",
      "237              3.245639          17.446843           3.355665   \n",
      "247              5.597850          54.443330          37.168237   \n",
      "249              5.119278          57.244580          18.044270   \n",
      "255              4.862114          22.933673          12.896658   \n",
      "...                   ...                ...                ...   \n",
      "154512          12.803728         139.045032          17.228643   \n",
      "154513          38.841249          16.230681           3.694383   \n",
      "154514          21.007958         102.460485          46.363413   \n",
      "154567           9.273929          55.021353         114.549668   \n",
      "154656          25.818910          46.342552          54.236139   \n",
      "154747          34.142033          20.157268          11.334992   \n",
      "154853          40.569282          22.234339          20.046412   \n",
      "154894           7.431085          52.351699          71.450372   \n",
      "154896           2.099302          95.805927           4.405388   \n",
      "154897           5.325836          41.333847           3.806674   \n",
      "154920          10.660548           4.662240          22.331877   \n",
      "154925           1.191142          28.933072           8.924012   \n",
      "154926          16.765147         115.031298          84.798401   \n",
      "154962          26.197885          16.795170          23.742207   \n",
      "154963          40.599884          31.514358          44.152863   \n",
      "154964          27.833800          30.825427          21.887496   \n",
      "154965          22.743432         110.316998          15.379391   \n",
      "154966           7.522955          21.851018          32.213704   \n",
      "155063           8.026452         215.095006          20.084542   \n",
      "155064           4.484988          71.691478           4.647948   \n",
      "155065          10.477805          67.208094          25.009299   \n",
      "155066           8.709382         170.050967          35.123077   \n",
      "155130          13.485968          20.036583          35.854440   \n",
      "155138         132.564343          18.120143          30.918470   \n",
      "155140          16.293794         156.392765         111.541739   \n",
      "155141          10.022333          18.838073          21.593769   \n",
      "155142           3.553245          40.367218          41.272597   \n",
      "155298           1.775125          91.025158          24.095754   \n",
      "155306           6.163182          87.237445          94.598801   \n",
      "155314          22.877295          32.481650           5.877739   \n",
      "\n",
      "        chroma_9_kurtosis  chroma_10_kurtosis  chroma_11_kurtosis  \\\n",
      "2                1.819082           94.322590           26.278685   \n",
      "3                1.909578          113.920149           38.520539   \n",
      "5               -0.547247          132.693630           35.003929   \n",
      "10               4.164889            8.546381            1.326516   \n",
      "134             -0.536188           56.723975           40.669895   \n",
      "136              2.007490           43.134746            0.475872   \n",
      "139              2.065025           40.760663            9.826184   \n",
      "140             -0.661087          136.724779           16.025236   \n",
      "141              5.028838            7.318753           10.991415   \n",
      "181              1.788497           38.841774           21.997311   \n",
      "182              0.685172           15.988145           31.369338   \n",
      "190              5.886832           29.845341            6.399341   \n",
      "193             -0.063171           23.325919            6.643975   \n",
      "194              0.613991           20.684687            3.435636   \n",
      "197              0.083280           13.263205            4.639048   \n",
      "198             -0.318104           40.679116            4.869225   \n",
      "200              0.144719           44.590667           20.552026   \n",
      "203              3.134158           19.101319            2.467471   \n",
      "204              3.412679           32.435316            7.009314   \n",
      "207             -0.883990           24.350474           11.718982   \n",
      "208              0.453316           51.693812            7.803289   \n",
      "209              3.369619           11.762239            2.300410   \n",
      "210              0.204805           81.257226           12.272216   \n",
      "211              0.946503           19.491490            3.055127   \n",
      "212              0.919804           33.046693            3.370062   \n",
      "213              3.466345            4.761529            0.076420   \n",
      "237              3.356999           12.719891            6.097745   \n",
      "247              0.953167            9.627696            5.421579   \n",
      "249              1.116529           17.863862            4.578193   \n",
      "255              0.226942           20.559016            4.722929   \n",
      "...                   ...                 ...                 ...   \n",
      "154512          -0.830570           13.582408           13.086727   \n",
      "154513           1.424253           24.599436           13.620269   \n",
      "154514          -1.100468           44.238316           20.413901   \n",
      "154567          -0.568831           67.706292            8.405237   \n",
      "154656           0.638800           22.887149            3.247045   \n",
      "154747          28.277896            0.949498           19.680158   \n",
      "154853          31.904528           -0.091888           17.504991   \n",
      "154894          -0.633808           68.195351           19.494061   \n",
      "154896           3.630880            9.368205           10.693314   \n",
      "154897           7.709854           21.617323            9.056161   \n",
      "154920           3.058076            6.042947           15.910093   \n",
      "154925           0.148247            8.744499           -0.642710   \n",
      "154926          -0.980810           82.343411           26.818781   \n",
      "154962           0.040381           19.682691           28.613674   \n",
      "154963          -0.823249           21.594458           17.797686   \n",
      "154964          -0.219639           13.685687           34.454276   \n",
      "154965          -0.217531           22.080448           16.931378   \n",
      "154966          -0.564030           21.157557           11.900343   \n",
      "155063          -1.715327           17.016453            7.658494   \n",
      "155064          -1.466031           14.294406            2.807185   \n",
      "155065           0.523184           78.423153           45.948704   \n",
      "155066           1.244775           44.029006            3.866868   \n",
      "155130           2.329381           58.125088           13.353667   \n",
      "155138           0.501433           19.576060           20.174217   \n",
      "155140          -0.940197          137.576731           99.119874   \n",
      "155141          -0.309759           30.962310            7.677715   \n",
      "155142          -0.789813           60.722300           54.399865   \n",
      "155298           0.494268           30.019889           15.439986   \n",
      "155306          -0.493857           28.074892            4.695705   \n",
      "155314          12.200236           -0.286586           31.267935   \n",
      "\n",
      "        chroma_12_kurtosis  chroma_std_kurtosis  \n",
      "2                94.543306             0.195332  \n",
      "3                89.862563             1.099633  \n",
      "5                67.684265            -0.797603  \n",
      "10               10.461564             3.979428  \n",
      "134              73.797808            -0.508354  \n",
      "136              62.816784             1.118915  \n",
      "139              13.472871             2.893286  \n",
      "140              87.013676             0.280263  \n",
      "141              29.551249             0.368369  \n",
      "181              69.067674             0.358203  \n",
      "182              23.477286             1.509844  \n",
      "190              15.595150             0.870984  \n",
      "193              47.488493             2.396665  \n",
      "194              23.650746            -0.226998  \n",
      "197              82.858247            -0.051013  \n",
      "198              54.154316             0.368892  \n",
      "200              25.981415            -0.052757  \n",
      "203              41.589186             0.201694  \n",
      "204              25.852872             0.235156  \n",
      "207               6.063865             0.137208  \n",
      "208              13.130764             0.584947  \n",
      "209              11.130451             0.647905  \n",
      "210              48.326294             0.650193  \n",
      "211              46.364379             1.236525  \n",
      "212              60.460750             1.104681  \n",
      "213               9.929689             1.347581  \n",
      "237              13.674712             0.994694  \n",
      "247              14.378516             0.489008  \n",
      "249              43.098417             0.633936  \n",
      "255              34.807554             0.038765  \n",
      "...                    ...                  ...  \n",
      "154512           69.294026            -0.596472  \n",
      "154513            7.428316            -1.417072  \n",
      "154514          285.902391            -0.644385  \n",
      "154567           43.624692            -0.264517  \n",
      "154656           29.940921             0.632014  \n",
      "154747           10.622801             1.235497  \n",
      "154853           11.763242             0.187149  \n",
      "154894          106.124513             0.111870  \n",
      "154896           15.748606             1.075793  \n",
      "154897           13.768002             9.753607  \n",
      "154920            5.836448             1.095333  \n",
      "154925           10.668096            -0.283665  \n",
      "154926           84.575097            -0.573141  \n",
      "154962           34.431339             0.034087  \n",
      "154963           39.902513            -0.086018  \n",
      "154964            9.007425            -1.211979  \n",
      "154965            5.737934            -0.621396  \n",
      "154966           28.685568            -0.598276  \n",
      "155063           50.624441            -1.539731  \n",
      "155064           20.160180            -1.153004  \n",
      "155065           21.118843             0.707594  \n",
      "155066           70.734171            -0.080582  \n",
      "155130           22.486069             3.818485  \n",
      "155138           18.864636             0.270311  \n",
      "155140           29.148007            -0.112208  \n",
      "155141           48.141164             0.113048  \n",
      "155142          142.324874             1.619030  \n",
      "155298           27.634418             0.053758  \n",
      "155306           38.790538             0.963127  \n",
      "155314           21.564547             0.640479  \n",
      "\n",
      "[20075 rows x 137 columns]\n",
      "             genre  zcr_mean  energy_mean  energy_entropy_mean  \\\n",
      "blues.00000  blues  0.083176     0.025254             3.132583   \n",
      "blues.00001  blues  0.056142     0.024769             3.074820   \n",
      "blues.00002  blues  0.076398     0.046683             3.164007   \n",
      "blues.00003  blues  0.033354     0.036723             3.099016   \n",
      "blues.00004  blues  0.101631     0.014472             3.141340   \n",
      "blues.00005  blues  0.094175     0.014699             3.170869   \n",
      "blues.00006  blues  0.073126     0.031743             3.132492   \n",
      "blues.00007  blues  0.061515     0.023069             3.101646   \n",
      "blues.00008  blues  0.064113     0.033989             3.158755   \n",
      "blues.00009  blues  0.079317     0.019299             3.156310   \n",
      "blues.00010  blues  0.063057     0.036410             3.116458   \n",
      "blues.00011  blues  0.044003     0.018137             3.111482   \n",
      "blues.00012  blues  0.069190     0.030097             3.121706   \n",
      "blues.00013  blues  0.051437     0.028540             3.096492   \n",
      "blues.00014  blues  0.045111     0.011085             3.021183   \n",
      "blues.00015  blues  0.063847     0.011916             3.105101   \n",
      "blues.00016  blues  0.061411     0.018759             3.094177   \n",
      "blues.00017  blues  0.048403     0.020157             3.087723   \n",
      "blues.00018  blues  0.056192     0.017428             3.113339   \n",
      "blues.00019  blues  0.058887     0.018499             3.099610   \n",
      "blues.00020  blues  0.052697     0.010890             3.052582   \n",
      "blues.00021  blues  0.047984     0.021168             3.098120   \n",
      "blues.00022  blues  0.058659     0.016594             3.092882   \n",
      "blues.00023  blues  0.052483     0.019933             3.099234   \n",
      "blues.00024  blues  0.047403     0.011707             3.102640   \n",
      "blues.00025  blues  0.051780     0.015005             3.089421   \n",
      "blues.00026  blues  0.052026     0.014016             3.103898   \n",
      "blues.00027  blues  0.072507     0.024565             3.158372   \n",
      "blues.00028  blues  0.048048     0.014618             3.094102   \n",
      "blues.00029  blues  0.052984     0.026162             3.098680   \n",
      "...            ...       ...          ...                  ...   \n",
      "rock.00070    rock  0.139259     0.005597             3.163224   \n",
      "rock.00071    rock  0.091104     0.029597             3.031558   \n",
      "rock.00072    rock  0.081948     0.033965             3.093196   \n",
      "rock.00073    rock  0.110422     0.031129             2.989307   \n",
      "rock.00074    rock  0.091404     0.026305             3.100509   \n",
      "rock.00075    rock  0.112000     0.017894             2.989783   \n",
      "rock.00076    rock  0.071225     0.025962             3.097432   \n",
      "rock.00077    rock  0.106731     0.019044             2.938834   \n",
      "rock.00078    rock  0.071847     0.028043             3.082455   \n",
      "rock.00079    rock  0.109263     0.042416             3.186043   \n",
      "rock.00080    rock  0.149869     0.029838             3.207033   \n",
      "rock.00081    rock  0.136342     0.017588             3.183509   \n",
      "rock.00082    rock  0.183975     0.022233             3.207157   \n",
      "rock.00083    rock  0.092919     0.019180             3.132180   \n",
      "rock.00084    rock  0.139344     0.034274             3.187423   \n",
      "rock.00085    rock  0.121172     0.021132             3.225186   \n",
      "rock.00086    rock  0.147141     0.011599             3.153925   \n",
      "rock.00087    rock  0.128629     0.028507             3.194496   \n",
      "rock.00088    rock  0.163582     0.023250             3.197652   \n",
      "rock.00089    rock  0.073393     0.016128             3.104825   \n",
      "rock.00090    rock  0.120667     0.070871             3.251164   \n",
      "rock.00091    rock  0.150367     0.035543             3.240983   \n",
      "rock.00092    rock  0.151132     0.021214             3.222252   \n",
      "rock.00093    rock  0.098491     0.028194             3.219676   \n",
      "rock.00094    rock  0.146878     0.015127             3.233332   \n",
      "rock.00095    rock  0.089371     0.018167             3.194491   \n",
      "rock.00096    rock  0.097787     0.015782             3.197629   \n",
      "rock.00097    rock  0.121981     0.024989             3.192573   \n",
      "rock.00098    rock  0.048793     0.031935             3.114057   \n",
      "rock.00099    rock  0.076408     0.010296             3.185574   \n",
      "\n",
      "             spectral_centroid_mean  spectral_spread_mean  \\\n",
      "blues.00000                0.168850              0.193200   \n",
      "blues.00001                0.149197              0.201513   \n",
      "blues.00002                0.150782              0.176179   \n",
      "blues.00003                0.119658              0.184079   \n",
      "blues.00004                0.174921              0.174718   \n",
      "blues.00005                0.174928              0.180368   \n",
      "blues.00006                0.148396              0.162890   \n",
      "blues.00007                0.148039              0.176638   \n",
      "blues.00008                0.163820              0.198414   \n",
      "blues.00009                0.169296              0.191817   \n",
      "blues.00010                0.141046              0.164633   \n",
      "blues.00011                0.139841              0.192182   \n",
      "blues.00012                0.143580              0.176070   \n",
      "blues.00013                0.133286              0.185747   \n",
      "blues.00014                0.124711              0.181701   \n",
      "blues.00015                0.142723              0.180508   \n",
      "blues.00016                0.144111              0.185401   \n",
      "blues.00017                0.121200              0.166651   \n",
      "blues.00018                0.148810              0.201381   \n",
      "blues.00019                0.129580              0.169508   \n",
      "blues.00020                0.137795              0.191248   \n",
      "blues.00021                0.118876              0.171797   \n",
      "blues.00022                0.126488              0.170688   \n",
      "blues.00023                0.126773              0.166988   \n",
      "blues.00024                0.124158              0.171624   \n",
      "blues.00025                0.121770              0.167569   \n",
      "blues.00026                0.130331              0.177926   \n",
      "blues.00027                0.142357              0.167212   \n",
      "blues.00028                0.125152              0.169865   \n",
      "blues.00029                0.157781              0.212835   \n",
      "...                             ...                   ...   \n",
      "rock.00070                 0.231085              0.210050   \n",
      "rock.00071                 0.188313              0.208658   \n",
      "rock.00072                 0.180128              0.209295   \n",
      "rock.00073                 0.204909              0.213127   \n",
      "rock.00074                 0.195058              0.211112   \n",
      "rock.00075                 0.211046              0.219769   \n",
      "rock.00076                 0.158203              0.192368   \n",
      "rock.00077                 0.200693              0.219531   \n",
      "rock.00078                 0.174340              0.209123   \n",
      "rock.00079                 0.198714              0.199593   \n",
      "rock.00080                 0.236671              0.215521   \n",
      "rock.00081                 0.230168              0.207661   \n",
      "rock.00082                 0.269547              0.223547   \n",
      "rock.00083                 0.192897              0.210194   \n",
      "rock.00084                 0.234415              0.220242   \n",
      "rock.00085                 0.207000              0.195748   \n",
      "rock.00086                 0.230299              0.201011   \n",
      "rock.00087                 0.213662              0.205762   \n",
      "rock.00088                 0.237169              0.194961   \n",
      "rock.00089                 0.154836              0.182975   \n",
      "rock.00090                 0.228247              0.210397   \n",
      "rock.00091                 0.224745              0.199339   \n",
      "rock.00092                 0.225457              0.196054   \n",
      "rock.00093                 0.176859              0.183043   \n",
      "rock.00094                 0.234639              0.205035   \n",
      "rock.00095                 0.183846              0.199428   \n",
      "rock.00096                 0.184565              0.195807   \n",
      "rock.00097                 0.192411              0.185344   \n",
      "rock.00098                 0.138540              0.185429   \n",
      "rock.00099                 0.155570              0.181427   \n",
      "\n",
      "             spectral_entropy_mean  spectral_flux_mean  spectral_rolloff_mean  \\\n",
      "blues.00000               0.755260            0.004469               0.122929   \n",
      "blues.00001               0.389660            0.006572               0.072801   \n",
      "blues.00002               0.761078            0.004665               0.124458   \n",
      "blues.00003               0.197943            0.006435               0.043674   \n",
      "blues.00004               1.004355            0.004184               0.169613   \n",
      "blues.00005               0.754822            0.003756               0.164146   \n",
      "blues.00006               0.721816            0.005596               0.128604   \n",
      "blues.00007               0.592679            0.006317               0.100677   \n",
      "blues.00008               0.538577            0.004840               0.091264   \n",
      "blues.00009               0.596765            0.004563               0.116859   \n",
      "blues.00010               0.512427            0.005354               0.096042   \n",
      "blues.00011               0.303204            0.006514               0.061388   \n",
      "blues.00012               0.559521            0.006485               0.108455   \n",
      "blues.00013               0.363165            0.007455               0.072986   \n",
      "blues.00014               0.353123            0.012099               0.068033   \n",
      "blues.00015               0.516527            0.007768               0.086838   \n",
      "blues.00016               0.529275            0.007919               0.090391   \n",
      "blues.00017               0.416851            0.008543               0.083614   \n",
      "blues.00018               0.369050            0.007672               0.070399   \n",
      "blues.00019               0.449462            0.008577               0.087049   \n",
      "blues.00020               0.332582            0.007118               0.067160   \n",
      "blues.00021               0.388631            0.008469               0.076231   \n",
      "blues.00022               0.455590            0.007909               0.092013   \n",
      "blues.00023               0.421495            0.006323               0.075072   \n",
      "blues.00024               0.372779            0.009632               0.072983   \n",
      "blues.00025               0.401948            0.008192               0.074916   \n",
      "blues.00026               0.411449            0.008558               0.076217   \n",
      "blues.00027               0.649282            0.004991               0.115968   \n",
      "blues.00028               0.420504            0.008635               0.070438   \n",
      "blues.00029               0.273679            0.008822               0.069287   \n",
      "...                            ...                 ...                    ...   \n",
      "rock.00070                1.287460            0.002949               0.267695   \n",
      "rock.00071                0.786693            0.003783               0.133330   \n",
      "rock.00072                0.646489            0.004243               0.125100   \n",
      "rock.00073                0.924776            0.003011               0.169069   \n",
      "rock.00074                0.733514            0.002877               0.133578   \n",
      "rock.00075                0.894282            0.004014               0.171249   \n",
      "rock.00076                0.528379            0.004557               0.102033   \n",
      "rock.00077                0.830084            0.003378               0.141244   \n",
      "rock.00078                0.494669            0.004634               0.094325   \n",
      "rock.00079                1.059498            0.003241               0.192946   \n",
      "rock.00080                1.385728            0.002496               0.287987   \n",
      "rock.00081                1.283636            0.002680               0.243242   \n",
      "rock.00082                1.665885            0.002143               0.344582   \n",
      "rock.00083                0.800702            0.002848               0.141825   \n",
      "rock.00084                1.280084            0.002913               0.248915   \n",
      "rock.00085                1.159055            0.002969               0.217169   \n",
      "rock.00086                1.423143            0.002846               0.258312   \n",
      "rock.00087                1.338775            0.002241               0.217597   \n",
      "rock.00088                1.614750            0.002564               0.282610   \n",
      "rock.00089                0.649817            0.004175               0.112973   \n",
      "rock.00090                1.120312            0.003967               0.216581   \n",
      "rock.00091                1.567760            0.001999               0.278489   \n",
      "rock.00092                1.619720            0.002020               0.265794   \n",
      "rock.00093                1.041457            0.002538               0.171937   \n",
      "rock.00094                1.580914            0.001826               0.261876   \n",
      "rock.00095                0.827237            0.002688               0.151829   \n",
      "rock.00096                0.994199            0.002432               0.170574   \n",
      "rock.00097                1.270547            0.002657               0.215509   \n",
      "rock.00098                0.388455            0.005514               0.068895   \n",
      "rock.00099                0.749091            0.002632               0.126687   \n",
      "\n",
      "             mfcc_1_mean         ...           chroma_4_kurtosis  \\\n",
      "blues.00000   -23.863732         ...                    4.727706   \n",
      "blues.00001   -25.530171         ...                    1.059657   \n",
      "blues.00002   -22.624706         ...                    4.077493   \n",
      "blues.00003   -25.317060         ...                    9.159051   \n",
      "blues.00004   -24.818823         ...                    4.654220   \n",
      "blues.00005   -25.493209         ...                    9.536254   \n",
      "blues.00006   -25.144601         ...                    3.747454   \n",
      "blues.00007   -25.070066         ...                   -0.251950   \n",
      "blues.00008   -23.755043         ...                    8.542490   \n",
      "blues.00009   -26.037252         ...                    9.223697   \n",
      "blues.00010   -24.858699         ...                    2.980833   \n",
      "blues.00011   -27.205300         ...                   14.107155   \n",
      "blues.00012   -25.159320         ...                   -1.319604   \n",
      "blues.00013   -25.582412         ...                   -1.229165   \n",
      "blues.00014   -28.111787         ...                   -0.068919   \n",
      "blues.00015   -26.754915         ...                   -0.502772   \n",
      "blues.00016   -26.154628         ...                    4.423666   \n",
      "blues.00017   -25.844775         ...                    4.336712   \n",
      "blues.00018   -26.819204         ...                    1.712385   \n",
      "blues.00019   -25.979473         ...                    4.390018   \n",
      "blues.00020   -26.621111         ...                    1.065808   \n",
      "blues.00021   -26.530181         ...                    2.296053   \n",
      "blues.00022   -26.373833         ...                    4.063886   \n",
      "blues.00023   -25.784090         ...                    2.599052   \n",
      "blues.00024   -27.019345         ...                    0.307108   \n",
      "blues.00025   -26.482685         ...                   -0.954280   \n",
      "blues.00026   -27.743870         ...                    0.294467   \n",
      "blues.00027   -25.041813         ...                    4.151587   \n",
      "blues.00028   -26.508051         ...                    0.491590   \n",
      "blues.00029   -26.289842         ...                   17.695223   \n",
      "...                  ...         ...                         ...   \n",
      "rock.00070    -26.371058         ...                    2.012937   \n",
      "rock.00071    -23.607709         ...                    1.558276   \n",
      "rock.00072    -23.680480         ...                    0.523466   \n",
      "rock.00073    -23.262709         ...                    1.142005   \n",
      "rock.00074    -23.722545         ...                   -0.323403   \n",
      "rock.00075    -24.699854         ...                    0.508913   \n",
      "rock.00076    -24.316372         ...                    1.163145   \n",
      "rock.00077    -24.386021         ...                    1.899730   \n",
      "rock.00078    -24.466587         ...                    2.213228   \n",
      "rock.00079    -22.390711         ...                   10.944711   \n",
      "rock.00080    -22.910941         ...                    2.956223   \n",
      "rock.00081    -24.272320         ...                    1.080960   \n",
      "rock.00082    -23.612084         ...                    3.975349   \n",
      "rock.00083    -23.816502         ...                   -0.140805   \n",
      "rock.00084    -22.927700         ...                    3.923475   \n",
      "rock.00085    -24.331679         ...                    9.378120   \n",
      "rock.00086    -25.551769         ...                    7.706700   \n",
      "rock.00087    -22.630782         ...                    3.163314   \n",
      "rock.00088    -23.817964         ...                   29.781792   \n",
      "rock.00089    -24.663801         ...                    2.897454   \n",
      "rock.00090    -22.546750         ...                    1.184922   \n",
      "rock.00091    -22.117385         ...                    3.645073   \n",
      "rock.00092    -22.678392         ...                    3.392321   \n",
      "rock.00093    -22.828136         ...                    4.797766   \n",
      "rock.00094    -23.824288         ...                    8.422319   \n",
      "rock.00095    -23.895470         ...                    2.998537   \n",
      "rock.00096    -23.768264         ...                    0.971858   \n",
      "rock.00097    -22.852613         ...                    3.763988   \n",
      "rock.00098    -24.994557         ...                    1.110406   \n",
      "rock.00099    -25.524473         ...                    4.764984   \n",
      "\n",
      "             chroma_5_kurtosis  chroma_6_kurtosis  chroma_7_kurtosis  \\\n",
      "blues.00000          13.928818           3.091962          36.729235   \n",
      "blues.00001          10.122271           3.348362          76.000197   \n",
      "blues.00002          25.146640          15.097831         239.630431   \n",
      "blues.00003          35.355024           5.981061         104.856154   \n",
      "blues.00004          21.203452           4.607810          25.314674   \n",
      "blues.00005          27.724455          -0.581670          41.259380   \n",
      "blues.00006           3.907517          28.675133         101.363165   \n",
      "blues.00007          11.994882           5.602710          36.693010   \n",
      "blues.00008          12.303322          12.223747         295.714463   \n",
      "blues.00009          12.736828           3.321894          43.071663   \n",
      "blues.00010          20.319820          78.991342          58.115309   \n",
      "blues.00011          20.909764          22.901703         314.531366   \n",
      "blues.00012           2.557129          24.951305          49.344917   \n",
      "blues.00013          25.084277          12.205499         119.608633   \n",
      "blues.00014          19.213484          21.675860          53.725480   \n",
      "blues.00015           8.360291          21.291616          46.164842   \n",
      "blues.00016          19.258413          23.101847          82.906001   \n",
      "blues.00017          10.354428          38.277436          26.045319   \n",
      "blues.00018          33.137476          18.457104          25.395377   \n",
      "blues.00019          11.214074          16.426478          78.572787   \n",
      "blues.00020           6.531243          24.777328         154.012066   \n",
      "blues.00021          16.400664          15.442990          28.133962   \n",
      "blues.00022           4.396752           8.991786          54.021255   \n",
      "blues.00023          18.280736          12.379539          88.053474   \n",
      "blues.00024          19.990342           3.013788          51.591531   \n",
      "blues.00025          39.447753           8.454314          98.456532   \n",
      "blues.00026          11.665003           0.189127          69.731512   \n",
      "blues.00027           4.675339           0.228225          66.673580   \n",
      "blues.00028          18.783609           3.895975         143.162758   \n",
      "blues.00029          15.174404           6.515458         157.514045   \n",
      "...                        ...                ...                ...   \n",
      "rock.00070            7.880298          11.076470          36.568101   \n",
      "rock.00071           11.203693           4.939899          75.096831   \n",
      "rock.00072           23.042553           1.548995          78.088014   \n",
      "rock.00073           25.531740           0.913831          37.095458   \n",
      "rock.00074           25.034418          40.627440         125.947599   \n",
      "rock.00075           10.291298           3.972712          72.259375   \n",
      "rock.00076           12.390392           3.897629          65.242935   \n",
      "rock.00077           31.090687           2.030008          75.619867   \n",
      "rock.00078           12.227715           2.844094          93.830873   \n",
      "rock.00079           18.648615          12.688192          56.079263   \n",
      "rock.00080           50.179386           4.543099          75.580261   \n",
      "rock.00081           54.258364           7.109821         108.522586   \n",
      "rock.00082           13.345759          24.414010         307.848257   \n",
      "rock.00083           18.265266           3.311585         131.032983   \n",
      "rock.00084           22.552029          12.304353          56.784160   \n",
      "rock.00085            9.842984           7.464641          89.787762   \n",
      "rock.00086           17.589495           5.515589          77.804048   \n",
      "rock.00087           16.836962           3.439812          84.298645   \n",
      "rock.00088           13.569026          17.924035          71.643083   \n",
      "rock.00089           19.268598           5.770966          55.735933   \n",
      "rock.00090           18.876737          13.261113          45.868831   \n",
      "rock.00091           11.255656           2.145707          45.686799   \n",
      "rock.00092           14.775708           2.809617           7.902132   \n",
      "rock.00093           11.976442           4.011525          75.772238   \n",
      "rock.00094            2.325725           4.973830          11.644306   \n",
      "rock.00095           44.859884           4.361949          20.088744   \n",
      "rock.00096           11.612270           4.898860          44.800486   \n",
      "rock.00097            6.369721           5.987863          18.299951   \n",
      "rock.00098           64.737739           2.652009          41.991394   \n",
      "rock.00099            6.969308           1.430087          36.599994   \n",
      "\n",
      "             chroma_8_kurtosis  chroma_9_kurtosis  chroma_10_kurtosis  \\\n",
      "blues.00000          59.047702           2.184978           65.504206   \n",
      "blues.00001         113.743762           1.856426           29.163179   \n",
      "blues.00002           9.582833           2.494195           34.423470   \n",
      "blues.00003          29.660425          -0.464370           37.801119   \n",
      "blues.00004          12.521681           3.830984           13.422933   \n",
      "blues.00005           1.434014          20.378234           39.454256   \n",
      "blues.00006          91.876791          17.152045            6.658410   \n",
      "blues.00007          17.668725          14.071088           18.462671   \n",
      "blues.00008          20.994693          -0.199287           22.520925   \n",
      "blues.00009           8.514859           6.003660           36.572999   \n",
      "blues.00010           4.950820           6.650920            8.198549   \n",
      "blues.00011          55.487226           2.684808           78.073278   \n",
      "blues.00012          14.029829          14.514141           29.319374   \n",
      "blues.00013          34.517449           5.948751           53.106862   \n",
      "blues.00014          37.459988          -0.497511           46.076581   \n",
      "blues.00015          16.097891           3.534530           24.262230   \n",
      "blues.00016          21.157261           2.058543           41.423065   \n",
      "blues.00017          19.206650           3.328313           39.779492   \n",
      "blues.00018          26.045026           2.274358           18.262047   \n",
      "blues.00019           7.318263           7.560533           58.005735   \n",
      "blues.00020          13.641373           1.495075           35.445063   \n",
      "blues.00021          74.550285           7.200638           38.781772   \n",
      "blues.00022          14.122743           3.176360           46.421713   \n",
      "blues.00023          29.641261           0.880594           11.756118   \n",
      "blues.00024          20.755284           3.336782           22.383805   \n",
      "blues.00025          26.455549           2.265754            8.131831   \n",
      "blues.00026          66.945890           2.724035            5.190559   \n",
      "blues.00027          17.806320           3.711647           11.011644   \n",
      "blues.00028          21.715040           7.642290           19.469115   \n",
      "blues.00029          39.284079          -0.769712           27.943341   \n",
      "...                        ...                ...                 ...   \n",
      "rock.00070            5.937892           7.736302           54.383310   \n",
      "rock.00071            9.311252           0.914306           30.771876   \n",
      "rock.00072           17.105055           3.208843           22.700706   \n",
      "rock.00073           18.075506           3.320217           21.483847   \n",
      "rock.00074           43.594105           2.544076           50.805049   \n",
      "rock.00075           45.013183           2.444330           60.299305   \n",
      "rock.00076           45.558106           1.789100           32.036156   \n",
      "rock.00077           15.696795           1.596662           16.987001   \n",
      "rock.00078           43.164422           0.005659           44.408671   \n",
      "rock.00079           33.569890           4.588800           21.353177   \n",
      "rock.00080           20.286392           3.681307            9.725338   \n",
      "rock.00081            7.446314           1.696700           22.111246   \n",
      "rock.00082           53.288831           2.100607           16.787252   \n",
      "rock.00083           15.931465           1.058765           47.991291   \n",
      "rock.00084           22.583851           9.546071           33.251463   \n",
      "rock.00085           46.893911           2.118457            6.688582   \n",
      "rock.00086           10.017509           6.212962           13.713598   \n",
      "rock.00087            8.771402           3.415734           22.413272   \n",
      "rock.00088           23.781041           4.667643           85.915238   \n",
      "rock.00089           26.702915           1.290134           46.310154   \n",
      "rock.00090           46.982021           9.999251           33.067455   \n",
      "rock.00091            6.770087           1.276268           13.595782   \n",
      "rock.00092           23.640663           2.609732           31.101856   \n",
      "rock.00093           20.499456           0.248454            9.206265   \n",
      "rock.00094            9.134137           2.934502            7.422641   \n",
      "rock.00095            6.405098          -0.141724           26.350645   \n",
      "rock.00096            6.383560           3.763314            8.618612   \n",
      "rock.00097            3.318405           4.836517           34.454896   \n",
      "rock.00098           51.143291           3.010663           15.434751   \n",
      "rock.00099           34.883891           4.411747            6.278319   \n",
      "\n",
      "             chroma_11_kurtosis  chroma_12_kurtosis  chroma_std_kurtosis  \n",
      "blues.00000           11.173829           25.892426             2.585820  \n",
      "blues.00001           12.469238           32.868235             0.037375  \n",
      "blues.00002           14.339618           31.082643             2.560293  \n",
      "blues.00003           13.838276           88.385921            -0.693072  \n",
      "blues.00004           13.156735           15.020117             0.796955  \n",
      "blues.00005           30.761185           12.444521             3.013691  \n",
      "blues.00006            2.659871          127.854264             0.095154  \n",
      "blues.00007            7.945936           37.962365             0.549759  \n",
      "blues.00008           16.571287          131.180303             0.274485  \n",
      "blues.00009           11.790347           11.028919             1.511687  \n",
      "blues.00010            6.559766          185.725489             1.453219  \n",
      "blues.00011            4.923747           64.387199            -0.915294  \n",
      "blues.00012           11.189032           82.810451             0.346317  \n",
      "blues.00013            9.528008           35.632877            -0.376057  \n",
      "blues.00014           23.466919           49.469475            -0.311092  \n",
      "blues.00015           18.361472           59.120916             0.934131  \n",
      "blues.00016           23.885827           59.246409             0.611867  \n",
      "blues.00017           14.059518           41.973587             1.203883  \n",
      "blues.00018           19.635400           41.334016            -0.065783  \n",
      "blues.00019           24.654895           31.826043            -0.531936  \n",
      "blues.00020           10.190112           16.110192             0.810349  \n",
      "blues.00021            7.288624           50.388047            -0.637950  \n",
      "blues.00022            9.521462           87.483114             0.376306  \n",
      "blues.00023           21.610611           41.405856             0.651240  \n",
      "blues.00024           25.876369           97.729964             0.768583  \n",
      "blues.00025            8.910057          100.725745             1.897895  \n",
      "blues.00026           22.984906          132.825285             2.822179  \n",
      "blues.00027            5.092647           46.795993            -0.307858  \n",
      "blues.00028           14.107180           74.987895             0.053804  \n",
      "blues.00029            5.500616           38.369567            -0.274132  \n",
      "...                         ...                 ...                  ...  \n",
      "rock.00070             8.250628           32.487314             1.940079  \n",
      "rock.00071            29.218916           45.360505             0.570259  \n",
      "rock.00072             4.272931           15.296654             1.446261  \n",
      "rock.00073             1.887835           20.267232            -0.419024  \n",
      "rock.00074             3.097113           28.801410             0.191009  \n",
      "rock.00075             4.981302           39.309539             0.531376  \n",
      "rock.00076            10.166059           48.805184            -0.042946  \n",
      "rock.00077             6.037501           20.712048            -0.249203  \n",
      "rock.00078            31.178598          134.464489             0.391790  \n",
      "rock.00079            11.031332           11.787970             0.591615  \n",
      "rock.00080             8.645485           20.272579             1.640864  \n",
      "rock.00081            29.520985           37.299735             0.727252  \n",
      "rock.00082             9.088560           19.462958            -0.046814  \n",
      "rock.00083             3.217977           23.119874             0.876854  \n",
      "rock.00084             5.869366           12.788666             0.555783  \n",
      "rock.00085            10.214188           33.175667             2.832954  \n",
      "rock.00086            13.060414           24.503894             0.857310  \n",
      "rock.00087             2.238431           10.184970             2.279798  \n",
      "rock.00088            11.469646           28.637774             3.808072  \n",
      "rock.00089             7.239854           14.833668             0.847450  \n",
      "rock.00090             6.286956           16.231411             0.439171  \n",
      "rock.00091             2.953303           34.730538             1.326217  \n",
      "rock.00092             5.926040           14.332370             3.544021  \n",
      "rock.00093             2.698920           11.079180             1.725433  \n",
      "rock.00094             2.633578            1.762884             1.055777  \n",
      "rock.00095            20.612359            9.012289             0.762595  \n",
      "rock.00096             6.576283           62.672409             1.061280  \n",
      "rock.00097             5.914625           16.120241             2.618111  \n",
      "rock.00098             6.028466           43.922212             1.337052  \n",
      "rock.00099             3.482252           18.227634             3.119533  \n",
      "\n",
      "[1000 rows x 137 columns]\n"
     ]
    }
   ],
   "source": [
    "# Check to make sure FMA and GTZAN were successfully loaded\n",
    "\n",
    "print(fma_data) # Should be around 20,000 rows and 137 columns (20,075 X 137)\n",
    "print(gtzan_data) # Should be exactly 1,000 rows and 137 columns (1,000 X 137)"
   ]
  },
  {
   "cell_type": "code",
   "execution_count": 107,
   "metadata": {},
   "outputs": [],
   "source": [
    "# Save combined FMA and GTZAN data\n",
    "\n",
    "fma_data.to_csv(path_or_buf = \"datasets\\\\genres\\\\fma\\\\data.csv\")\n",
    "gtzan_data.to_csv(path_or_buf = \"datasets\\\\genres\\\\gtzan\\\\data.csv\")"
   ]
  },
  {
   "cell_type": "markdown",
   "metadata": {},
   "source": [
    "## II. Training\n",
    "\n",
    "The ML training algorithm that will be used is an SVM with a Gaussian kernel. This section will train 4 ML models, 2 models will include a hierarchical taxonomy and the other 2 will not. All models will use the SelectFromModel feature selection. All the model will under go a gridsearch for optimal hyperparameters using a 5-fold cross-validation. The SelectFromModel will use the default hyperparameters."
   ]
  },
  {
   "cell_type": "code",
   "execution_count": 4,
   "metadata": {},
   "outputs": [],
   "source": [
    "# Imports for Training section\n",
    "\n",
    "import numpy as np\n",
    "import pandas as pd\n",
    "import matplotlib as plt\n",
    "from sklearn.model_selection import StratifiedShuffleSplit, GridSearchCV\n",
    "from sklearn.svm import SVC\n",
    "from sklearn.preprocessing import StandardScaler\n",
    "from sklearn.metrics import accuracy_score, precision_score, recall_score, f1_score, confusion_matrix\n",
    "import pickle\n",
    "import datetime\n",
    "import copy"
   ]
  },
  {
   "cell_type": "code",
   "execution_count": 2,
   "metadata": {},
   "outputs": [],
   "source": [
    "# Load saved FMA and GTZAN data\n",
    "\n",
    "FMA_data = pd.read_csv(\"datasets\\\\genres\\\\fma\\\\data.csv\", index_col = 0)\n",
    "GTZAN_data = pd.read_csv(\"datasets\\\\genres\\\\gtzan\\\\data.csv\", index_col = 0)"
   ]
  },
  {
   "cell_type": "code",
   "execution_count": 5,
   "metadata": {},
   "outputs": [
    {
     "name": "stdout",
     "output_type": "stream",
     "text": [
      "             genre  zcr_mean  energy_mean  energy_entropy_mean  \\\n",
      "2          Hip-Hop  0.098553     0.028831             3.127077   \n",
      "3          Hip-Hop  0.089063     0.040205             3.131836   \n",
      "5          Hip-Hop  0.059400     0.075680             3.048581   \n",
      "10             Pop  0.081091     0.037589             3.218621   \n",
      "134        Hip-Hop  0.068045     0.034920             3.026914   \n",
      "136           Rock  0.037911     0.084420             3.115693   \n",
      "139           Folk  0.073453     0.022375             3.166191   \n",
      "140           Folk  0.027288     0.008333             2.993362   \n",
      "141           Folk  0.034156     0.020099             3.104905   \n",
      "181           Rock  0.078953     0.041433             3.213017   \n",
      "182           Rock  0.051574     0.084065             3.183429   \n",
      "190           Folk  0.048071     0.021965             3.170332   \n",
      "193           Folk  0.041970     0.015284             3.110046   \n",
      "194           Folk  0.037928     0.015847             3.119923   \n",
      "197           Folk  0.027548     0.010124             3.097980   \n",
      "198           Folk  0.046000     0.031176             3.127382   \n",
      "200           Folk  0.052214     0.019170             3.125286   \n",
      "203           Folk  0.027090     0.017617             3.132445   \n",
      "204           Folk  0.044114     0.025546             3.120268   \n",
      "207           Folk  0.034058     0.013020             3.131615   \n",
      "208           Folk  0.051132     0.013780             3.145515   \n",
      "209           Folk  0.044820     0.028327             3.155470   \n",
      "210           Folk  0.045403     0.028420             3.146307   \n",
      "211           Folk  0.041441     0.023172             3.121656   \n",
      "212           Folk  0.063627     0.023523             3.116499   \n",
      "213            Pop  0.028192     0.014162             3.098907   \n",
      "237           Jazz  0.067029     0.054071             3.171458   \n",
      "247           Rock  0.037585     0.031530             3.151233   \n",
      "249           Rock  0.023155     0.036146             3.051483   \n",
      "255           Rock  0.030650     0.027379             3.087095   \n",
      "...            ...       ...          ...                  ...   \n",
      "154512  Electronic  0.064894     0.100413             3.023102   \n",
      "154513  Electronic  0.059743     0.100177             3.094187   \n",
      "154514  Electronic  0.039275     0.087115             3.073003   \n",
      "154567        Folk  0.031526     0.059795             2.904392   \n",
      "154656        Rock  0.080045     0.089240             3.155454   \n",
      "154747        Rock  0.073633     0.027616             3.175286   \n",
      "154853        Rock  0.125591     0.078345             3.154548   \n",
      "154894  Electronic  0.060822     0.015024             2.982821   \n",
      "154896  Electronic  0.070830     0.037750             3.199914   \n",
      "154897  Electronic  0.071951     0.032505             3.139212   \n",
      "154920  Electronic  0.200176     0.045048             3.182438   \n",
      "154925  Electronic  0.019027     0.049386             2.928226   \n",
      "154926  Electronic  0.008051     0.061354             2.698817   \n",
      "154962  Electronic  0.094206     0.053558             3.141128   \n",
      "154963  Electronic  0.066614     0.062251             3.064581   \n",
      "154964  Electronic  0.109063     0.066422             3.081069   \n",
      "154965  Electronic  0.098769     0.059752             3.044122   \n",
      "154966  Electronic  0.069473     0.055273             3.149395   \n",
      "155063     Hip-Hop  0.019975     0.043061             2.952276   \n",
      "155064     Hip-Hop  0.028209     0.047313             3.053050   \n",
      "155065     Hip-Hop  0.006741     0.163427             2.998967   \n",
      "155066     Hip-Hop  0.009079     0.065153             2.992796   \n",
      "155130  Electronic  0.123662     0.030190             3.065297   \n",
      "155138  Electronic  0.037881     0.219411             2.987906   \n",
      "155140  Electronic  0.050287     0.119727             2.870996   \n",
      "155141  Electronic  0.063239     0.028116             3.010862   \n",
      "155142  Electronic  0.059969     0.034536             2.961920   \n",
      "155298        Folk  0.022329     0.053692             3.064906   \n",
      "155306        Folk  0.021478     0.023313             3.045218   \n",
      "155314        Rock  0.038004     0.023143             3.038153   \n",
      "\n",
      "        spectral_centroid_mean  spectral_spread_mean  spectral_entropy_mean  \\\n",
      "2                     0.176841              0.179232               0.875694   \n",
      "3                     0.164871              0.178884               0.825032   \n",
      "5                     0.148413              0.183072               0.493078   \n",
      "10                    0.139872              0.159912               0.848371   \n",
      "134                   0.150608              0.178505               0.626510   \n",
      "136                   0.120096              0.182181               0.252263   \n",
      "139                   0.134824              0.155867               0.740057   \n",
      "140                   0.119428              0.185443               0.180379   \n",
      "141                   0.108275              0.163328               0.212106   \n",
      "181                   0.129886              0.147956               0.726791   \n",
      "182                   0.108527              0.141360               0.404134   \n",
      "190                   0.119934              0.164944               0.366802   \n",
      "193                   0.108405              0.158728               0.305887   \n",
      "194                   0.101501              0.151263               0.265069   \n",
      "197                   0.091423              0.152868               0.149224   \n",
      "198                   0.111533              0.156871               0.394203   \n",
      "200                   0.115052              0.150902               0.451490   \n",
      "203                   0.105296              0.173196               0.130662   \n",
      "204                   0.118833              0.172243               0.275571   \n",
      "207                   0.112920              0.177191               0.163110   \n",
      "208                   0.109799              0.148008               0.434096   \n",
      "209                   0.105183              0.153491               0.299039   \n",
      "210                   0.112648              0.158130               0.333058   \n",
      "211                   0.105867              0.155613               0.268727   \n",
      "212                   0.138610              0.180955               0.433191   \n",
      "213                   0.093195              0.157499               0.130949   \n",
      "237                   0.130762              0.160160               0.661249   \n",
      "247                   0.095739              0.146858               0.168718   \n",
      "249                   0.078358              0.142937               0.077187   \n",
      "255                   0.091099              0.149669               0.114737   \n",
      "...                        ...                   ...                    ...   \n",
      "154512                0.165535              0.194504               0.607284   \n",
      "154513                0.143822              0.177871               0.553579   \n",
      "154514                0.161812              0.208089               0.307997   \n",
      "154567                0.118208              0.178950               0.238156   \n",
      "154656                0.168065              0.190693               0.805129   \n",
      "154747                0.136830              0.154388               0.785281   \n",
      "154853                0.190329              0.161881               1.340828   \n",
      "154894                0.190372              0.252459               0.310222   \n",
      "154896                0.133664              0.153978               0.736712   \n",
      "154897                0.161421              0.216749               0.432225   \n",
      "154920                0.282777              0.226972               1.936565   \n",
      "154925                0.098870              0.176136               0.075553   \n",
      "154926                0.123067              0.216249               0.063641   \n",
      "154962                0.195279              0.198006               0.910500   \n",
      "154963                0.182109              0.214066               0.609708   \n",
      "154964                0.183757              0.171793               0.955205   \n",
      "154965                0.221506              0.224328               0.850212   \n",
      "154966                0.142466              0.172171               0.607702   \n",
      "155063                0.084186              0.160569               0.041024   \n",
      "155064                0.101121              0.169404               0.099689   \n",
      "155065                0.081553              0.166950               0.048732   \n",
      "155066                0.076735              0.162506               0.021835   \n",
      "155130                0.215571              0.216899               0.977987   \n",
      "155138                0.169398              0.220898               0.291445   \n",
      "155140                0.150165              0.205656               0.319749   \n",
      "155141                0.162507              0.196890               0.538218   \n",
      "155142                0.222681              0.273994               0.315221   \n",
      "155298                0.100150              0.170654               0.110213   \n",
      "155306                0.093542              0.166382               0.092836   \n",
      "155314                0.112776              0.162193               0.323738   \n",
      "\n",
      "        spectral_flux_mean  spectral_rolloff_mean  mfcc_1_mean  \\\n",
      "2                 0.004871               0.162539   -25.085137   \n",
      "3                 0.004553               0.152044   -24.566593   \n",
      "5                 0.007414               0.088632   -24.337810   \n",
      "10                0.003141               0.129868   -22.941693   \n",
      "134               0.008034               0.106037   -25.076365   \n",
      "136               0.005670               0.048097   -22.413957   \n",
      "139               0.003454               0.124885   -24.510361   \n",
      "140               0.010643               0.035232   -28.887741   \n",
      "141               0.004539               0.047514   -26.798865   \n",
      "181               0.003605               0.133002   -23.516342   \n",
      "182               0.004936               0.082256   -22.418264   \n",
      "190               0.003291               0.074597   -25.009689   \n",
      "193               0.005061               0.063698   -25.694553   \n",
      "194               0.004217               0.058572   -25.832003   \n",
      "197               0.004928               0.041189   -27.644851   \n",
      "198               0.004188               0.073217   -23.944300   \n",
      "200               0.004352               0.082226   -24.987865   \n",
      "203               0.006418               0.038454   -26.399552   \n",
      "204               0.004616               0.068185   -24.719155   \n",
      "207               0.006617               0.042678   -29.813335   \n",
      "208               0.003793               0.084857   -24.737684   \n",
      "209               0.004034               0.065921   -23.991391   \n",
      "210               0.004204               0.072839   -24.314699   \n",
      "211               0.003967               0.063515   -24.412303   \n",
      "212               0.004068               0.092022   -24.382862   \n",
      "213               0.005663               0.042749   -26.107503   \n",
      "237               0.003269               0.105924   -22.458088   \n",
      "247               0.005637               0.052762   -23.949647   \n",
      "249               0.007841               0.036314   -24.288740   \n",
      "255               0.007967               0.045959   -24.501177   \n",
      "...                    ...                    ...          ...   \n",
      "154512            0.006918               0.097099   -23.534699   \n",
      "154513            0.006636               0.096384   -24.612995   \n",
      "154514            0.006965               0.053528   -25.223266   \n",
      "154567            0.007305               0.032877   -24.492686   \n",
      "154656            0.003408               0.125240   -21.995047   \n",
      "154747            0.003189               0.131440   -23.494237   \n",
      "154853            0.003278               0.216077   -24.242331   \n",
      "154894            0.009514               0.055157   -28.385400   \n",
      "154896            0.004371               0.104573   -23.067820   \n",
      "154897            0.004619               0.081142   -23.480076   \n",
      "154920            0.002501               0.379593   -25.041618   \n",
      "154925            0.012393               0.025872   -23.778005   \n",
      "154926            0.036058               0.011068   -27.252152   \n",
      "154962            0.005091               0.181204   -23.976440   \n",
      "154963            0.008054               0.115001   -23.968105   \n",
      "154964            0.006371               0.169137   -25.621822   \n",
      "154965            0.004466               0.170275   -24.090338   \n",
      "154966            0.004851               0.113629   -23.672826   \n",
      "155063            0.011981               0.025095   -27.476138   \n",
      "155064            0.007539               0.037991   -24.609960   \n",
      "155065            0.013960               0.013341   -25.585615   \n",
      "155066            0.008377               0.018648   -25.666890   \n",
      "155130            0.005539               0.213845   -25.436472   \n",
      "155138            0.013129               0.056587   -24.327124   \n",
      "155140            0.014539               0.061207   -24.791846   \n",
      "155141            0.007409               0.092854   -26.119254   \n",
      "155142            0.009441               0.065075   -26.228422   \n",
      "155298            0.008194               0.027347   -24.689729   \n",
      "155306            0.009081               0.028853   -26.004849   \n",
      "155314            0.006065               0.053682   -24.483819   \n",
      "\n",
      "               ...           chroma_4_kurtosis  chroma_5_kurtosis  \\\n",
      "2              ...                    2.710265          11.595119   \n",
      "3              ...                    3.269309          27.811441   \n",
      "5              ...                    1.756994          20.503213   \n",
      "10             ...                   12.740649          30.313776   \n",
      "134            ...                    4.514047          34.862384   \n",
      "136            ...                   -0.006145           6.315884   \n",
      "139            ...                    0.992164           9.270007   \n",
      "140            ...                    0.474878          25.853802   \n",
      "141            ...                   -0.409889          40.179056   \n",
      "181            ...                    2.067047          26.740151   \n",
      "182            ...                    2.674095          52.825315   \n",
      "190            ...                    4.709114          12.362559   \n",
      "193            ...                    5.598211          29.842690   \n",
      "194            ...                    3.426743          30.880082   \n",
      "197            ...                    6.506950           6.633662   \n",
      "198            ...                    3.301611          75.947500   \n",
      "200            ...                    6.744213          24.810551   \n",
      "203            ...                   13.432682           7.416803   \n",
      "204            ...                    2.993625          38.186067   \n",
      "207            ...                    3.934988          16.037784   \n",
      "208            ...                    5.190855           4.959925   \n",
      "209            ...                    4.055691           9.706017   \n",
      "210            ...                    2.864244          55.049934   \n",
      "211            ...                    4.596819           5.422477   \n",
      "212            ...                    6.569503           7.432360   \n",
      "213            ...                    0.297937          38.633673   \n",
      "237            ...                    1.842135           6.410769   \n",
      "247            ...                   -0.053580          22.773649   \n",
      "249            ...                   -0.357716          13.144864   \n",
      "255            ...                    0.605007          29.847024   \n",
      "...            ...                         ...                ...   \n",
      "154512         ...                    0.495411          76.792571   \n",
      "154513         ...                   -0.480959          10.154245   \n",
      "154514         ...                   -1.126168          22.902443   \n",
      "154567         ...                    0.195306          63.105509   \n",
      "154656         ...                    0.375937          23.587458   \n",
      "154747         ...                   32.482669           0.323796   \n",
      "154853         ...                   36.620385           5.584766   \n",
      "154894         ...                    4.015706          14.586165   \n",
      "154896         ...                    1.886448           2.205508   \n",
      "154897         ...                   15.636577          13.046834   \n",
      "154920         ...                    3.926198           9.898203   \n",
      "154925         ...                   -0.517621           3.196022   \n",
      "154926         ...                    0.402749          58.489460   \n",
      "154962         ...                    1.298121          38.504362   \n",
      "154963         ...                    1.051177          34.009652   \n",
      "154964         ...                    0.641272           7.131188   \n",
      "154965         ...                   -0.031554          13.830271   \n",
      "154966         ...                    3.835512          24.526610   \n",
      "155063         ...                    2.660512           7.246585   \n",
      "155064         ...                   18.929152           5.672407   \n",
      "155065         ...                    3.126292          47.899013   \n",
      "155066         ...                   21.176412          11.021091   \n",
      "155130         ...                    7.999539          18.371882   \n",
      "155138         ...                    3.844882          13.006905   \n",
      "155140         ...                    0.387665          12.191363   \n",
      "155141         ...                    1.793378          11.698209   \n",
      "155142         ...                    6.614367          18.106349   \n",
      "155298         ...                    0.412480          19.941627   \n",
      "155306         ...                   -0.286541          26.220599   \n",
      "155314         ...                   13.836802           0.189294   \n",
      "\n",
      "        chroma_6_kurtosis  chroma_7_kurtosis  chroma_8_kurtosis  \\\n",
      "2                5.641821          71.713736          31.890129   \n",
      "3                5.571054          23.713202          41.887768   \n",
      "5                5.911858          51.468282          44.446432   \n",
      "10              24.820535          39.126683          50.591847   \n",
      "134             26.016862          88.466704          73.434647   \n",
      "136              5.123228          86.865856          25.129672   \n",
      "139             11.169312          45.713371          10.328058   \n",
      "140              5.083331          59.360133          66.667819   \n",
      "141             14.491220          70.500776          10.874067   \n",
      "181              4.425682          77.379077          22.249189   \n",
      "182             12.203064          20.361813          12.224524   \n",
      "190             13.230020          88.709197          11.651162   \n",
      "193              6.792891          39.281744          12.956821   \n",
      "194             11.950824         172.221682          11.580686   \n",
      "197              2.089291          88.217805          15.796998   \n",
      "198              5.933213         244.278849          11.596332   \n",
      "200              3.683549         137.885802          25.914453   \n",
      "203              2.018182          13.944355          43.119238   \n",
      "204              2.303359         103.800633          32.489238   \n",
      "207              3.226572          47.219934          26.015267   \n",
      "208              1.755458          28.966937           9.763923   \n",
      "209              4.749308          21.651090          22.794784   \n",
      "210              3.968995          12.781467          19.823410   \n",
      "211              8.615903          20.198610           6.741296   \n",
      "212              9.650396          31.102617           8.855168   \n",
      "213              1.188937          11.444858           5.613322   \n",
      "237              3.245639          17.446843           3.355665   \n",
      "247              5.597850          54.443330          37.168237   \n",
      "249              5.119278          57.244580          18.044270   \n",
      "255              4.862114          22.933673          12.896658   \n",
      "...                   ...                ...                ...   \n",
      "154512          12.803728         139.045032          17.228643   \n",
      "154513          38.841249          16.230681           3.694383   \n",
      "154514          21.007958         102.460485          46.363413   \n",
      "154567           9.273929          55.021353         114.549668   \n",
      "154656          25.818910          46.342552          54.236139   \n",
      "154747          34.142033          20.157268          11.334992   \n",
      "154853          40.569282          22.234339          20.046412   \n",
      "154894           7.431085          52.351699          71.450372   \n",
      "154896           2.099302          95.805927           4.405388   \n",
      "154897           5.325836          41.333847           3.806674   \n",
      "154920          10.660548           4.662240          22.331877   \n",
      "154925           1.191142          28.933072           8.924012   \n",
      "154926          16.765147         115.031298          84.798401   \n",
      "154962          26.197885          16.795170          23.742207   \n",
      "154963          40.599884          31.514358          44.152863   \n",
      "154964          27.833800          30.825427          21.887496   \n",
      "154965          22.743432         110.316998          15.379391   \n",
      "154966           7.522955          21.851018          32.213704   \n",
      "155063           8.026452         215.095006          20.084542   \n",
      "155064           4.484988          71.691478           4.647948   \n",
      "155065          10.477805          67.208094          25.009299   \n",
      "155066           8.709382         170.050967          35.123077   \n",
      "155130          13.485968          20.036583          35.854440   \n",
      "155138         132.564343          18.120143          30.918470   \n",
      "155140          16.293794         156.392765         111.541739   \n",
      "155141          10.022333          18.838073          21.593769   \n",
      "155142           3.553245          40.367218          41.272597   \n",
      "155298           1.775125          91.025158          24.095754   \n",
      "155306           6.163182          87.237445          94.598801   \n",
      "155314          22.877295          32.481650           5.877739   \n",
      "\n",
      "        chroma_9_kurtosis  chroma_10_kurtosis  chroma_11_kurtosis  \\\n",
      "2                1.819082           94.322590           26.278685   \n",
      "3                1.909578          113.920149           38.520539   \n",
      "5               -0.547247          132.693630           35.003929   \n",
      "10               4.164889            8.546381            1.326516   \n",
      "134             -0.536188           56.723975           40.669895   \n",
      "136              2.007490           43.134746            0.475872   \n",
      "139              2.065025           40.760663            9.826184   \n",
      "140             -0.661087          136.724779           16.025236   \n",
      "141              5.028838            7.318753           10.991415   \n",
      "181              1.788497           38.841774           21.997311   \n",
      "182              0.685172           15.988145           31.369338   \n",
      "190              5.886832           29.845341            6.399341   \n",
      "193             -0.063171           23.325919            6.643975   \n",
      "194              0.613991           20.684687            3.435636   \n",
      "197              0.083280           13.263205            4.639048   \n",
      "198             -0.318104           40.679116            4.869225   \n",
      "200              0.144719           44.590667           20.552026   \n",
      "203              3.134158           19.101319            2.467471   \n",
      "204              3.412679           32.435316            7.009314   \n",
      "207             -0.883990           24.350474           11.718982   \n",
      "208              0.453316           51.693812            7.803289   \n",
      "209              3.369619           11.762239            2.300410   \n",
      "210              0.204805           81.257226           12.272216   \n",
      "211              0.946503           19.491490            3.055127   \n",
      "212              0.919804           33.046693            3.370062   \n",
      "213              3.466345            4.761529            0.076420   \n",
      "237              3.356999           12.719891            6.097745   \n",
      "247              0.953167            9.627696            5.421579   \n",
      "249              1.116529           17.863862            4.578193   \n",
      "255              0.226942           20.559016            4.722929   \n",
      "...                   ...                 ...                 ...   \n",
      "154512          -0.830570           13.582408           13.086727   \n",
      "154513           1.424253           24.599436           13.620269   \n",
      "154514          -1.100468           44.238316           20.413901   \n",
      "154567          -0.568831           67.706292            8.405237   \n",
      "154656           0.638800           22.887149            3.247045   \n",
      "154747          28.277896            0.949498           19.680158   \n",
      "154853          31.904528           -0.091888           17.504991   \n",
      "154894          -0.633808           68.195351           19.494061   \n",
      "154896           3.630880            9.368205           10.693314   \n",
      "154897           7.709854           21.617323            9.056161   \n",
      "154920           3.058076            6.042947           15.910093   \n",
      "154925           0.148247            8.744499           -0.642710   \n",
      "154926          -0.980810           82.343411           26.818781   \n",
      "154962           0.040381           19.682691           28.613674   \n",
      "154963          -0.823249           21.594458           17.797686   \n",
      "154964          -0.219639           13.685687           34.454276   \n",
      "154965          -0.217531           22.080448           16.931378   \n",
      "154966          -0.564030           21.157557           11.900343   \n",
      "155063          -1.715327           17.016453            7.658494   \n",
      "155064          -1.466031           14.294406            2.807185   \n",
      "155065           0.523184           78.423153           45.948704   \n",
      "155066           1.244775           44.029006            3.866868   \n",
      "155130           2.329381           58.125088           13.353667   \n",
      "155138           0.501433           19.576060           20.174217   \n",
      "155140          -0.940197          137.576731           99.119874   \n",
      "155141          -0.309759           30.962310            7.677715   \n",
      "155142          -0.789813           60.722300           54.399865   \n",
      "155298           0.494268           30.019889           15.439986   \n",
      "155306          -0.493857           28.074892            4.695705   \n",
      "155314          12.200236           -0.286586           31.267935   \n",
      "\n",
      "        chroma_12_kurtosis  chroma_std_kurtosis  \n",
      "2                94.543306             0.195332  \n",
      "3                89.862563             1.099633  \n",
      "5                67.684265            -0.797603  \n",
      "10               10.461564             3.979428  \n",
      "134              73.797808            -0.508354  \n",
      "136              62.816784             1.118915  \n",
      "139              13.472871             2.893286  \n",
      "140              87.013676             0.280263  \n",
      "141              29.551249             0.368369  \n",
      "181              69.067674             0.358203  \n",
      "182              23.477286             1.509844  \n",
      "190              15.595150             0.870984  \n",
      "193              47.488493             2.396665  \n",
      "194              23.650746            -0.226998  \n",
      "197              82.858247            -0.051013  \n",
      "198              54.154316             0.368892  \n",
      "200              25.981415            -0.052757  \n",
      "203              41.589186             0.201694  \n",
      "204              25.852872             0.235156  \n",
      "207               6.063865             0.137208  \n",
      "208              13.130764             0.584947  \n",
      "209              11.130451             0.647905  \n",
      "210              48.326294             0.650193  \n",
      "211              46.364379             1.236525  \n",
      "212              60.460750             1.104681  \n",
      "213               9.929689             1.347581  \n",
      "237              13.674712             0.994694  \n",
      "247              14.378516             0.489008  \n",
      "249              43.098417             0.633936  \n",
      "255              34.807554             0.038765  \n",
      "...                    ...                  ...  \n",
      "154512           69.294026            -0.596472  \n",
      "154513            7.428316            -1.417072  \n",
      "154514          285.902391            -0.644385  \n",
      "154567           43.624692            -0.264517  \n",
      "154656           29.940921             0.632014  \n",
      "154747           10.622801             1.235497  \n",
      "154853           11.763242             0.187149  \n",
      "154894          106.124513             0.111870  \n",
      "154896           15.748606             1.075793  \n",
      "154897           13.768002             9.753607  \n",
      "154920            5.836448             1.095333  \n",
      "154925           10.668096            -0.283665  \n",
      "154926           84.575097            -0.573141  \n",
      "154962           34.431339             0.034087  \n",
      "154963           39.902513            -0.086018  \n",
      "154964            9.007425            -1.211979  \n",
      "154965            5.737934            -0.621396  \n",
      "154966           28.685568            -0.598276  \n",
      "155063           50.624441            -1.539731  \n",
      "155064           20.160180            -1.153004  \n",
      "155065           21.118843             0.707594  \n",
      "155066           70.734171            -0.080582  \n",
      "155130           22.486069             3.818485  \n",
      "155138           18.864636             0.270311  \n",
      "155140           29.148007            -0.112208  \n",
      "155141           48.141164             0.113048  \n",
      "155142          142.324874             1.619030  \n",
      "155298           27.634418             0.053758  \n",
      "155306           38.790538             0.963127  \n",
      "155314           21.564547             0.640479  \n",
      "\n",
      "[20075 rows x 137 columns]\n",
      "             genre  zcr_mean  energy_mean  energy_entropy_mean  \\\n",
      "blues.00000  blues  0.083176     0.025254             3.132583   \n",
      "blues.00001  blues  0.056142     0.024769             3.074820   \n",
      "blues.00002  blues  0.076398     0.046683             3.164007   \n",
      "blues.00003  blues  0.033354     0.036723             3.099016   \n",
      "blues.00004  blues  0.101631     0.014472             3.141340   \n",
      "blues.00005  blues  0.094175     0.014699             3.170869   \n",
      "blues.00006  blues  0.073126     0.031743             3.132492   \n",
      "blues.00007  blues  0.061515     0.023069             3.101646   \n",
      "blues.00008  blues  0.064113     0.033989             3.158755   \n",
      "blues.00009  blues  0.079317     0.019299             3.156310   \n",
      "blues.00010  blues  0.063057     0.036410             3.116458   \n",
      "blues.00011  blues  0.044003     0.018137             3.111482   \n",
      "blues.00012  blues  0.069190     0.030097             3.121706   \n",
      "blues.00013  blues  0.051437     0.028540             3.096492   \n",
      "blues.00014  blues  0.045111     0.011085             3.021183   \n",
      "blues.00015  blues  0.063847     0.011916             3.105101   \n",
      "blues.00016  blues  0.061411     0.018759             3.094177   \n",
      "blues.00017  blues  0.048403     0.020157             3.087723   \n",
      "blues.00018  blues  0.056192     0.017428             3.113339   \n",
      "blues.00019  blues  0.058887     0.018499             3.099610   \n",
      "blues.00020  blues  0.052697     0.010890             3.052582   \n",
      "blues.00021  blues  0.047984     0.021168             3.098120   \n",
      "blues.00022  blues  0.058659     0.016594             3.092882   \n",
      "blues.00023  blues  0.052483     0.019933             3.099234   \n",
      "blues.00024  blues  0.047403     0.011707             3.102640   \n",
      "blues.00025  blues  0.051780     0.015005             3.089421   \n",
      "blues.00026  blues  0.052026     0.014016             3.103898   \n",
      "blues.00027  blues  0.072507     0.024565             3.158372   \n",
      "blues.00028  blues  0.048048     0.014618             3.094102   \n",
      "blues.00029  blues  0.052984     0.026162             3.098680   \n",
      "...            ...       ...          ...                  ...   \n",
      "rock.00070    rock  0.139259     0.005597             3.163224   \n",
      "rock.00071    rock  0.091104     0.029597             3.031558   \n",
      "rock.00072    rock  0.081948     0.033965             3.093196   \n",
      "rock.00073    rock  0.110422     0.031129             2.989307   \n",
      "rock.00074    rock  0.091404     0.026305             3.100509   \n",
      "rock.00075    rock  0.112000     0.017894             2.989783   \n",
      "rock.00076    rock  0.071225     0.025962             3.097432   \n",
      "rock.00077    rock  0.106731     0.019044             2.938834   \n",
      "rock.00078    rock  0.071847     0.028043             3.082455   \n",
      "rock.00079    rock  0.109263     0.042416             3.186043   \n",
      "rock.00080    rock  0.149869     0.029838             3.207033   \n",
      "rock.00081    rock  0.136342     0.017588             3.183509   \n",
      "rock.00082    rock  0.183975     0.022233             3.207157   \n",
      "rock.00083    rock  0.092919     0.019180             3.132180   \n",
      "rock.00084    rock  0.139344     0.034274             3.187423   \n",
      "rock.00085    rock  0.121172     0.021132             3.225186   \n",
      "rock.00086    rock  0.147141     0.011599             3.153925   \n",
      "rock.00087    rock  0.128629     0.028507             3.194496   \n",
      "rock.00088    rock  0.163582     0.023250             3.197652   \n",
      "rock.00089    rock  0.073393     0.016128             3.104825   \n",
      "rock.00090    rock  0.120667     0.070871             3.251164   \n",
      "rock.00091    rock  0.150367     0.035543             3.240983   \n",
      "rock.00092    rock  0.151132     0.021214             3.222252   \n",
      "rock.00093    rock  0.098491     0.028194             3.219676   \n",
      "rock.00094    rock  0.146878     0.015127             3.233332   \n",
      "rock.00095    rock  0.089371     0.018167             3.194491   \n",
      "rock.00096    rock  0.097787     0.015782             3.197629   \n",
      "rock.00097    rock  0.121981     0.024989             3.192573   \n",
      "rock.00098    rock  0.048793     0.031935             3.114057   \n",
      "rock.00099    rock  0.076408     0.010296             3.185574   \n",
      "\n",
      "             spectral_centroid_mean  spectral_spread_mean  \\\n",
      "blues.00000                0.168850              0.193200   \n",
      "blues.00001                0.149197              0.201513   \n",
      "blues.00002                0.150782              0.176179   \n",
      "blues.00003                0.119658              0.184079   \n",
      "blues.00004                0.174921              0.174718   \n",
      "blues.00005                0.174928              0.180368   \n",
      "blues.00006                0.148396              0.162890   \n",
      "blues.00007                0.148039              0.176638   \n",
      "blues.00008                0.163820              0.198414   \n",
      "blues.00009                0.169296              0.191817   \n",
      "blues.00010                0.141046              0.164633   \n",
      "blues.00011                0.139841              0.192182   \n",
      "blues.00012                0.143580              0.176070   \n",
      "blues.00013                0.133286              0.185747   \n",
      "blues.00014                0.124711              0.181701   \n",
      "blues.00015                0.142723              0.180508   \n",
      "blues.00016                0.144111              0.185401   \n",
      "blues.00017                0.121200              0.166651   \n",
      "blues.00018                0.148810              0.201381   \n",
      "blues.00019                0.129580              0.169508   \n",
      "blues.00020                0.137795              0.191248   \n",
      "blues.00021                0.118876              0.171797   \n",
      "blues.00022                0.126488              0.170688   \n",
      "blues.00023                0.126773              0.166988   \n",
      "blues.00024                0.124158              0.171624   \n",
      "blues.00025                0.121770              0.167569   \n",
      "blues.00026                0.130331              0.177926   \n",
      "blues.00027                0.142357              0.167212   \n",
      "blues.00028                0.125152              0.169865   \n",
      "blues.00029                0.157781              0.212835   \n",
      "...                             ...                   ...   \n",
      "rock.00070                 0.231085              0.210050   \n",
      "rock.00071                 0.188313              0.208658   \n",
      "rock.00072                 0.180128              0.209295   \n",
      "rock.00073                 0.204909              0.213127   \n",
      "rock.00074                 0.195058              0.211112   \n",
      "rock.00075                 0.211046              0.219769   \n",
      "rock.00076                 0.158203              0.192368   \n",
      "rock.00077                 0.200693              0.219531   \n",
      "rock.00078                 0.174340              0.209123   \n",
      "rock.00079                 0.198714              0.199593   \n",
      "rock.00080                 0.236671              0.215521   \n",
      "rock.00081                 0.230168              0.207661   \n",
      "rock.00082                 0.269547              0.223547   \n",
      "rock.00083                 0.192897              0.210194   \n",
      "rock.00084                 0.234415              0.220242   \n",
      "rock.00085                 0.207000              0.195748   \n",
      "rock.00086                 0.230299              0.201011   \n",
      "rock.00087                 0.213662              0.205762   \n",
      "rock.00088                 0.237169              0.194961   \n",
      "rock.00089                 0.154836              0.182975   \n",
      "rock.00090                 0.228247              0.210397   \n",
      "rock.00091                 0.224745              0.199339   \n",
      "rock.00092                 0.225457              0.196054   \n",
      "rock.00093                 0.176859              0.183043   \n",
      "rock.00094                 0.234639              0.205035   \n",
      "rock.00095                 0.183846              0.199428   \n",
      "rock.00096                 0.184565              0.195807   \n",
      "rock.00097                 0.192411              0.185344   \n",
      "rock.00098                 0.138540              0.185429   \n",
      "rock.00099                 0.155570              0.181427   \n",
      "\n",
      "             spectral_entropy_mean  spectral_flux_mean  spectral_rolloff_mean  \\\n",
      "blues.00000               0.755260            0.004469               0.122929   \n",
      "blues.00001               0.389660            0.006572               0.072801   \n",
      "blues.00002               0.761078            0.004665               0.124458   \n",
      "blues.00003               0.197943            0.006435               0.043674   \n",
      "blues.00004               1.004355            0.004184               0.169613   \n",
      "blues.00005               0.754822            0.003756               0.164146   \n",
      "blues.00006               0.721816            0.005596               0.128604   \n",
      "blues.00007               0.592679            0.006317               0.100677   \n",
      "blues.00008               0.538577            0.004840               0.091264   \n",
      "blues.00009               0.596765            0.004563               0.116859   \n",
      "blues.00010               0.512427            0.005354               0.096042   \n",
      "blues.00011               0.303204            0.006514               0.061388   \n",
      "blues.00012               0.559521            0.006485               0.108455   \n",
      "blues.00013               0.363165            0.007455               0.072986   \n",
      "blues.00014               0.353123            0.012099               0.068033   \n",
      "blues.00015               0.516527            0.007768               0.086838   \n",
      "blues.00016               0.529275            0.007919               0.090391   \n",
      "blues.00017               0.416851            0.008543               0.083614   \n",
      "blues.00018               0.369050            0.007672               0.070399   \n",
      "blues.00019               0.449462            0.008577               0.087049   \n",
      "blues.00020               0.332582            0.007118               0.067160   \n",
      "blues.00021               0.388631            0.008469               0.076231   \n",
      "blues.00022               0.455590            0.007909               0.092013   \n",
      "blues.00023               0.421495            0.006323               0.075072   \n",
      "blues.00024               0.372779            0.009632               0.072983   \n",
      "blues.00025               0.401948            0.008192               0.074916   \n",
      "blues.00026               0.411449            0.008558               0.076217   \n",
      "blues.00027               0.649282            0.004991               0.115968   \n",
      "blues.00028               0.420504            0.008635               0.070438   \n",
      "blues.00029               0.273679            0.008822               0.069287   \n",
      "...                            ...                 ...                    ...   \n",
      "rock.00070                1.287460            0.002949               0.267695   \n",
      "rock.00071                0.786693            0.003783               0.133330   \n",
      "rock.00072                0.646489            0.004243               0.125100   \n",
      "rock.00073                0.924776            0.003011               0.169069   \n",
      "rock.00074                0.733514            0.002877               0.133578   \n",
      "rock.00075                0.894282            0.004014               0.171249   \n",
      "rock.00076                0.528379            0.004557               0.102033   \n",
      "rock.00077                0.830084            0.003378               0.141244   \n",
      "rock.00078                0.494669            0.004634               0.094325   \n",
      "rock.00079                1.059498            0.003241               0.192946   \n",
      "rock.00080                1.385728            0.002496               0.287987   \n",
      "rock.00081                1.283636            0.002680               0.243242   \n",
      "rock.00082                1.665885            0.002143               0.344582   \n",
      "rock.00083                0.800702            0.002848               0.141825   \n",
      "rock.00084                1.280084            0.002913               0.248915   \n",
      "rock.00085                1.159055            0.002969               0.217169   \n",
      "rock.00086                1.423143            0.002846               0.258312   \n",
      "rock.00087                1.338775            0.002241               0.217597   \n",
      "rock.00088                1.614750            0.002564               0.282610   \n",
      "rock.00089                0.649817            0.004175               0.112973   \n",
      "rock.00090                1.120312            0.003967               0.216581   \n",
      "rock.00091                1.567760            0.001999               0.278489   \n",
      "rock.00092                1.619720            0.002020               0.265794   \n",
      "rock.00093                1.041457            0.002538               0.171937   \n",
      "rock.00094                1.580914            0.001826               0.261876   \n",
      "rock.00095                0.827237            0.002688               0.151829   \n",
      "rock.00096                0.994199            0.002432               0.170574   \n",
      "rock.00097                1.270547            0.002657               0.215509   \n",
      "rock.00098                0.388455            0.005514               0.068895   \n",
      "rock.00099                0.749091            0.002632               0.126687   \n",
      "\n",
      "             mfcc_1_mean         ...           chroma_4_kurtosis  \\\n",
      "blues.00000   -23.863732         ...                    4.727706   \n",
      "blues.00001   -25.530171         ...                    1.059657   \n",
      "blues.00002   -22.624706         ...                    4.077493   \n",
      "blues.00003   -25.317060         ...                    9.159051   \n",
      "blues.00004   -24.818823         ...                    4.654220   \n",
      "blues.00005   -25.493209         ...                    9.536254   \n",
      "blues.00006   -25.144601         ...                    3.747454   \n",
      "blues.00007   -25.070066         ...                   -0.251950   \n",
      "blues.00008   -23.755043         ...                    8.542490   \n",
      "blues.00009   -26.037252         ...                    9.223697   \n",
      "blues.00010   -24.858699         ...                    2.980833   \n",
      "blues.00011   -27.205300         ...                   14.107155   \n",
      "blues.00012   -25.159320         ...                   -1.319604   \n",
      "blues.00013   -25.582412         ...                   -1.229165   \n",
      "blues.00014   -28.111787         ...                   -0.068919   \n",
      "blues.00015   -26.754915         ...                   -0.502772   \n",
      "blues.00016   -26.154628         ...                    4.423666   \n",
      "blues.00017   -25.844775         ...                    4.336712   \n",
      "blues.00018   -26.819204         ...                    1.712385   \n",
      "blues.00019   -25.979473         ...                    4.390018   \n",
      "blues.00020   -26.621111         ...                    1.065808   \n",
      "blues.00021   -26.530181         ...                    2.296053   \n",
      "blues.00022   -26.373833         ...                    4.063886   \n",
      "blues.00023   -25.784090         ...                    2.599052   \n",
      "blues.00024   -27.019345         ...                    0.307108   \n",
      "blues.00025   -26.482685         ...                   -0.954280   \n",
      "blues.00026   -27.743870         ...                    0.294467   \n",
      "blues.00027   -25.041813         ...                    4.151587   \n",
      "blues.00028   -26.508051         ...                    0.491590   \n",
      "blues.00029   -26.289842         ...                   17.695223   \n",
      "...                  ...         ...                         ...   \n",
      "rock.00070    -26.371058         ...                    2.012937   \n",
      "rock.00071    -23.607709         ...                    1.558276   \n",
      "rock.00072    -23.680480         ...                    0.523466   \n",
      "rock.00073    -23.262709         ...                    1.142005   \n",
      "rock.00074    -23.722545         ...                   -0.323403   \n",
      "rock.00075    -24.699854         ...                    0.508913   \n",
      "rock.00076    -24.316372         ...                    1.163145   \n",
      "rock.00077    -24.386021         ...                    1.899730   \n",
      "rock.00078    -24.466587         ...                    2.213228   \n",
      "rock.00079    -22.390711         ...                   10.944711   \n",
      "rock.00080    -22.910941         ...                    2.956223   \n",
      "rock.00081    -24.272320         ...                    1.080960   \n",
      "rock.00082    -23.612084         ...                    3.975349   \n",
      "rock.00083    -23.816502         ...                   -0.140805   \n",
      "rock.00084    -22.927700         ...                    3.923475   \n",
      "rock.00085    -24.331679         ...                    9.378120   \n",
      "rock.00086    -25.551769         ...                    7.706700   \n",
      "rock.00087    -22.630782         ...                    3.163314   \n",
      "rock.00088    -23.817964         ...                   29.781792   \n",
      "rock.00089    -24.663801         ...                    2.897454   \n",
      "rock.00090    -22.546750         ...                    1.184922   \n",
      "rock.00091    -22.117385         ...                    3.645073   \n",
      "rock.00092    -22.678392         ...                    3.392321   \n",
      "rock.00093    -22.828136         ...                    4.797766   \n",
      "rock.00094    -23.824288         ...                    8.422319   \n",
      "rock.00095    -23.895470         ...                    2.998537   \n",
      "rock.00096    -23.768264         ...                    0.971858   \n",
      "rock.00097    -22.852613         ...                    3.763988   \n",
      "rock.00098    -24.994557         ...                    1.110406   \n",
      "rock.00099    -25.524473         ...                    4.764984   \n",
      "\n",
      "             chroma_5_kurtosis  chroma_6_kurtosis  chroma_7_kurtosis  \\\n",
      "blues.00000          13.928818           3.091962          36.729235   \n",
      "blues.00001          10.122271           3.348362          76.000197   \n",
      "blues.00002          25.146640          15.097831         239.630431   \n",
      "blues.00003          35.355024           5.981061         104.856154   \n",
      "blues.00004          21.203452           4.607810          25.314674   \n",
      "blues.00005          27.724455          -0.581670          41.259380   \n",
      "blues.00006           3.907517          28.675133         101.363165   \n",
      "blues.00007          11.994882           5.602710          36.693010   \n",
      "blues.00008          12.303322          12.223747         295.714463   \n",
      "blues.00009          12.736828           3.321894          43.071663   \n",
      "blues.00010          20.319820          78.991342          58.115309   \n",
      "blues.00011          20.909764          22.901703         314.531366   \n",
      "blues.00012           2.557129          24.951305          49.344917   \n",
      "blues.00013          25.084277          12.205499         119.608633   \n",
      "blues.00014          19.213484          21.675860          53.725480   \n",
      "blues.00015           8.360291          21.291616          46.164842   \n",
      "blues.00016          19.258413          23.101847          82.906001   \n",
      "blues.00017          10.354428          38.277436          26.045319   \n",
      "blues.00018          33.137476          18.457104          25.395377   \n",
      "blues.00019          11.214074          16.426478          78.572787   \n",
      "blues.00020           6.531243          24.777328         154.012066   \n",
      "blues.00021          16.400664          15.442990          28.133962   \n",
      "blues.00022           4.396752           8.991786          54.021255   \n",
      "blues.00023          18.280736          12.379539          88.053474   \n",
      "blues.00024          19.990342           3.013788          51.591531   \n",
      "blues.00025          39.447753           8.454314          98.456532   \n",
      "blues.00026          11.665003           0.189127          69.731512   \n",
      "blues.00027           4.675339           0.228225          66.673580   \n",
      "blues.00028          18.783609           3.895975         143.162758   \n",
      "blues.00029          15.174404           6.515458         157.514045   \n",
      "...                        ...                ...                ...   \n",
      "rock.00070            7.880298          11.076470          36.568101   \n",
      "rock.00071           11.203693           4.939899          75.096831   \n",
      "rock.00072           23.042553           1.548995          78.088014   \n",
      "rock.00073           25.531740           0.913831          37.095458   \n",
      "rock.00074           25.034418          40.627440         125.947599   \n",
      "rock.00075           10.291298           3.972712          72.259375   \n",
      "rock.00076           12.390392           3.897629          65.242935   \n",
      "rock.00077           31.090687           2.030008          75.619867   \n",
      "rock.00078           12.227715           2.844094          93.830873   \n",
      "rock.00079           18.648615          12.688192          56.079263   \n",
      "rock.00080           50.179386           4.543099          75.580261   \n",
      "rock.00081           54.258364           7.109821         108.522586   \n",
      "rock.00082           13.345759          24.414010         307.848257   \n",
      "rock.00083           18.265266           3.311585         131.032983   \n",
      "rock.00084           22.552029          12.304353          56.784160   \n",
      "rock.00085            9.842984           7.464641          89.787762   \n",
      "rock.00086           17.589495           5.515589          77.804048   \n",
      "rock.00087           16.836962           3.439812          84.298645   \n",
      "rock.00088           13.569026          17.924035          71.643083   \n",
      "rock.00089           19.268598           5.770966          55.735933   \n",
      "rock.00090           18.876737          13.261113          45.868831   \n",
      "rock.00091           11.255656           2.145707          45.686799   \n",
      "rock.00092           14.775708           2.809617           7.902132   \n",
      "rock.00093           11.976442           4.011525          75.772238   \n",
      "rock.00094            2.325725           4.973830          11.644306   \n",
      "rock.00095           44.859884           4.361949          20.088744   \n",
      "rock.00096           11.612270           4.898860          44.800486   \n",
      "rock.00097            6.369721           5.987863          18.299951   \n",
      "rock.00098           64.737739           2.652009          41.991394   \n",
      "rock.00099            6.969308           1.430087          36.599994   \n",
      "\n",
      "             chroma_8_kurtosis  chroma_9_kurtosis  chroma_10_kurtosis  \\\n",
      "blues.00000          59.047702           2.184978           65.504206   \n",
      "blues.00001         113.743762           1.856426           29.163179   \n",
      "blues.00002           9.582833           2.494195           34.423470   \n",
      "blues.00003          29.660425          -0.464370           37.801119   \n",
      "blues.00004          12.521681           3.830984           13.422933   \n",
      "blues.00005           1.434014          20.378234           39.454256   \n",
      "blues.00006          91.876791          17.152045            6.658410   \n",
      "blues.00007          17.668725          14.071088           18.462671   \n",
      "blues.00008          20.994693          -0.199287           22.520925   \n",
      "blues.00009           8.514859           6.003660           36.572999   \n",
      "blues.00010           4.950820           6.650920            8.198549   \n",
      "blues.00011          55.487226           2.684808           78.073278   \n",
      "blues.00012          14.029829          14.514141           29.319374   \n",
      "blues.00013          34.517449           5.948751           53.106862   \n",
      "blues.00014          37.459988          -0.497511           46.076581   \n",
      "blues.00015          16.097891           3.534530           24.262230   \n",
      "blues.00016          21.157261           2.058543           41.423065   \n",
      "blues.00017          19.206650           3.328313           39.779492   \n",
      "blues.00018          26.045026           2.274358           18.262047   \n",
      "blues.00019           7.318263           7.560533           58.005735   \n",
      "blues.00020          13.641373           1.495075           35.445063   \n",
      "blues.00021          74.550285           7.200638           38.781772   \n",
      "blues.00022          14.122743           3.176360           46.421713   \n",
      "blues.00023          29.641261           0.880594           11.756118   \n",
      "blues.00024          20.755284           3.336782           22.383805   \n",
      "blues.00025          26.455549           2.265754            8.131831   \n",
      "blues.00026          66.945890           2.724035            5.190559   \n",
      "blues.00027          17.806320           3.711647           11.011644   \n",
      "blues.00028          21.715040           7.642290           19.469115   \n",
      "blues.00029          39.284079          -0.769712           27.943341   \n",
      "...                        ...                ...                 ...   \n",
      "rock.00070            5.937892           7.736302           54.383310   \n",
      "rock.00071            9.311252           0.914306           30.771876   \n",
      "rock.00072           17.105055           3.208843           22.700706   \n",
      "rock.00073           18.075506           3.320217           21.483847   \n",
      "rock.00074           43.594105           2.544076           50.805049   \n",
      "rock.00075           45.013183           2.444330           60.299305   \n",
      "rock.00076           45.558106           1.789100           32.036156   \n",
      "rock.00077           15.696795           1.596662           16.987001   \n",
      "rock.00078           43.164422           0.005659           44.408671   \n",
      "rock.00079           33.569890           4.588800           21.353177   \n",
      "rock.00080           20.286392           3.681307            9.725338   \n",
      "rock.00081            7.446314           1.696700           22.111246   \n",
      "rock.00082           53.288831           2.100607           16.787252   \n",
      "rock.00083           15.931465           1.058765           47.991291   \n",
      "rock.00084           22.583851           9.546071           33.251463   \n",
      "rock.00085           46.893911           2.118457            6.688582   \n",
      "rock.00086           10.017509           6.212962           13.713598   \n",
      "rock.00087            8.771402           3.415734           22.413272   \n",
      "rock.00088           23.781041           4.667643           85.915238   \n",
      "rock.00089           26.702915           1.290134           46.310154   \n",
      "rock.00090           46.982021           9.999251           33.067455   \n",
      "rock.00091            6.770087           1.276268           13.595782   \n",
      "rock.00092           23.640663           2.609732           31.101856   \n",
      "rock.00093           20.499456           0.248454            9.206265   \n",
      "rock.00094            9.134137           2.934502            7.422641   \n",
      "rock.00095            6.405098          -0.141724           26.350645   \n",
      "rock.00096            6.383560           3.763314            8.618612   \n",
      "rock.00097            3.318405           4.836517           34.454896   \n",
      "rock.00098           51.143291           3.010663           15.434751   \n",
      "rock.00099           34.883891           4.411747            6.278319   \n",
      "\n",
      "             chroma_11_kurtosis  chroma_12_kurtosis  chroma_std_kurtosis  \n",
      "blues.00000           11.173829           25.892426             2.585820  \n",
      "blues.00001           12.469238           32.868235             0.037375  \n",
      "blues.00002           14.339618           31.082643             2.560293  \n",
      "blues.00003           13.838276           88.385921            -0.693072  \n",
      "blues.00004           13.156735           15.020117             0.796955  \n",
      "blues.00005           30.761185           12.444521             3.013691  \n",
      "blues.00006            2.659871          127.854264             0.095154  \n",
      "blues.00007            7.945936           37.962365             0.549759  \n",
      "blues.00008           16.571287          131.180303             0.274485  \n",
      "blues.00009           11.790347           11.028919             1.511687  \n",
      "blues.00010            6.559766          185.725489             1.453219  \n",
      "blues.00011            4.923747           64.387199            -0.915294  \n",
      "blues.00012           11.189032           82.810451             0.346317  \n",
      "blues.00013            9.528008           35.632877            -0.376057  \n",
      "blues.00014           23.466919           49.469475            -0.311092  \n",
      "blues.00015           18.361472           59.120916             0.934131  \n",
      "blues.00016           23.885827           59.246409             0.611867  \n",
      "blues.00017           14.059518           41.973587             1.203883  \n",
      "blues.00018           19.635400           41.334016            -0.065783  \n",
      "blues.00019           24.654895           31.826043            -0.531936  \n",
      "blues.00020           10.190112           16.110192             0.810349  \n",
      "blues.00021            7.288624           50.388047            -0.637950  \n",
      "blues.00022            9.521462           87.483114             0.376306  \n",
      "blues.00023           21.610611           41.405856             0.651240  \n",
      "blues.00024           25.876369           97.729964             0.768583  \n",
      "blues.00025            8.910057          100.725745             1.897895  \n",
      "blues.00026           22.984906          132.825285             2.822179  \n",
      "blues.00027            5.092647           46.795993            -0.307858  \n",
      "blues.00028           14.107180           74.987895             0.053804  \n",
      "blues.00029            5.500616           38.369567            -0.274132  \n",
      "...                         ...                 ...                  ...  \n",
      "rock.00070             8.250628           32.487314             1.940079  \n",
      "rock.00071            29.218916           45.360505             0.570259  \n",
      "rock.00072             4.272931           15.296654             1.446261  \n",
      "rock.00073             1.887835           20.267232            -0.419024  \n",
      "rock.00074             3.097113           28.801410             0.191009  \n",
      "rock.00075             4.981302           39.309539             0.531376  \n",
      "rock.00076            10.166059           48.805184            -0.042946  \n",
      "rock.00077             6.037501           20.712048            -0.249203  \n",
      "rock.00078            31.178598          134.464489             0.391790  \n",
      "rock.00079            11.031332           11.787970             0.591615  \n",
      "rock.00080             8.645485           20.272579             1.640864  \n",
      "rock.00081            29.520985           37.299735             0.727252  \n",
      "rock.00082             9.088560           19.462958            -0.046814  \n",
      "rock.00083             3.217977           23.119874             0.876854  \n",
      "rock.00084             5.869366           12.788666             0.555783  \n",
      "rock.00085            10.214188           33.175667             2.832954  \n",
      "rock.00086            13.060414           24.503894             0.857310  \n",
      "rock.00087             2.238431           10.184970             2.279798  \n",
      "rock.00088            11.469646           28.637774             3.808072  \n",
      "rock.00089             7.239854           14.833668             0.847450  \n",
      "rock.00090             6.286956           16.231411             0.439171  \n",
      "rock.00091             2.953303           34.730538             1.326217  \n",
      "rock.00092             5.926040           14.332370             3.544021  \n",
      "rock.00093             2.698920           11.079180             1.725433  \n",
      "rock.00094             2.633578            1.762884             1.055777  \n",
      "rock.00095            20.612359            9.012289             0.762595  \n",
      "rock.00096             6.576283           62.672409             1.061280  \n",
      "rock.00097             5.914625           16.120241             2.618111  \n",
      "rock.00098             6.028466           43.922212             1.337052  \n",
      "rock.00099             3.482252           18.227634             3.119533  \n",
      "\n",
      "[1000 rows x 137 columns]\n"
     ]
    }
   ],
   "source": [
    "# Check to make sure FMA and GTZAN were successfully loaded\n",
    "\n",
    "print(FMA_data) # Should be around 20,000 rows and exactly 137 columns\n",
    "print(GTZAN_data) # Should be exactly 1,000 rows and exactly 137 columns"
   ]
  },
  {
   "cell_type": "code",
   "execution_count": 4,
   "metadata": {},
   "outputs": [],
   "source": [
    "# Stratified 80:20 split of both datasets into Training set and Test set\n",
    "\n",
    "split = StratifiedShuffleSplit(n_splits = 1, test_size = 0.2, random_state = 42)\n",
    "\n",
    "# A random state of 42 is used so that StratifiedShuffleSplit will also return the same indices\n",
    "\n",
    "for train_index, test_index in split.split(FMA_data, FMA_data[\"genre\"]):\n",
    "    FMA_train = FMA_data.iloc[train_index]\n",
    "    FMA_test = FMA_data.iloc[test_index]\n",
    "\n",
    "for train_index, test_index in split.split(GTZAN_data, GTZAN_data[\"genre\"]):\n",
    "    GTZAN_train = GTZAN_data.iloc[train_index]\n",
    "    GTZAN_test = GTZAN_data.iloc[test_index]\n",
    "    \n",
    "# Split sets are then saved\n",
    "\n",
    "FMA_train.to_csv(path_or_buf = \"datasets\\\\genres\\\\fma\\\\train.csv\")\n",
    "FMA_test.to_csv(path_or_buf = \"datasets\\\\genres\\\\fma\\\\test.csv\")\n",
    "GTZAN_train.to_csv(path_or_buf = \"datasets\\\\genres\\\\gtzan\\\\train.csv\")\n",
    "GTZAN_test.to_csv(path_or_buf = \"datasets\\\\genres\\\\gtzan\\\\test.csv\")"
   ]
  },
  {
   "cell_type": "code",
   "execution_count": 5,
   "metadata": {},
   "outputs": [],
   "source": [
    "# Load splits sets\n",
    "\n",
    "FMA_train = pd.read_csv(\"datasets\\\\genres\\\\fma\\\\train.csv\", index_col = 0)\n",
    "FMA_test = pd.read_csv(\"datasets\\\\genres\\\\fma\\\\test.csv\", index_col = 0)\n",
    "GTZAN_train = pd.read_csv(\"datasets\\\\genres\\\\gtzan\\\\train.csv\", index_col = 0)\n",
    "GTZAN_test = pd.read_csv(\"datasets\\\\genres\\\\gtzan\\\\test.csv\", index_col = 0)"
   ]
  },
  {
   "cell_type": "code",
   "execution_count": 4,
   "metadata": {},
   "outputs": [
    {
     "name": "stdout",
     "output_type": "stream",
     "text": [
      "(16060, 137)\n",
      "(4015, 137)\n",
      "(800, 137)\n",
      "(200, 137)\n"
     ]
    }
   ],
   "source": [
    "# Check data was loaded correctly\n",
    "\n",
    "print(FMA_train.shape) # (16,060 X 137)\n",
    "print(FMA_test.shape) # (4,015 X 137)\n",
    "print(GTZAN_train.shape) # (800, 137)\n",
    "print(GTZAN_test.shape) # (200, 137)"
   ]
  },
  {
   "cell_type": "code",
   "execution_count": 6,
   "metadata": {},
   "outputs": [],
   "source": [
    "GTZAN_features = ['spectral_rolloff_mean', 'mfcc_7_mean', 'mfcc_1_std', 'spectral_centroid_mean', 'spectral_entropy_mean', 'mfcc_3_skew', 'spectral_rolloff_kurtosis', 'chroma_std_mean', 'mfcc_2_mean', 'zcr_std', 'energy_kurtosis', 'chroma_6_std', 'spectral_entropy_skew', 'mfcc_6_skew', 'spectral_spread_mean', 'spectral_flux_mean', 'chroma_2_std', 'spectral_entropy_kurtosis', 'chroma_5_std', 'mfcc_1_mean', 'mfcc_11_skew', 'spectral_rolloff_std', 'spectral_rolloff_skew', 'mfcc_1_kurtosis', 'mfcc_9_skew', 'mfcc_9_mean', 'mfcc_5_mean', 'spectral_flux_std', 'chroma_11_std', 'spectral_entropy_std', 'spectral_spread_kurtosis', 'energy_mean', 'spectral_spread_std', 'chroma_12_std', 'chroma_1_mean', 'mfcc_7_skew', 'chroma_5_mean', 'chroma_2_mean', 'chroma_6_mean', 'chroma_7_mean', 'chroma_8_kurtosis', 'mfcc_13_std', 'mfcc_13_skew', 'chroma_3_std', 'chroma_9_std', 'mfcc_2_kurtosis', 'energy_skew', 'spectral_flux_kurtosis', 'chroma_10_std', 'mfcc_1_skew', 'chroma_1_std', 'mfcc_12_std', 'energy_std', 'chroma_8_std', 'zcr_kurtosis', 'mfcc_5_skew', 'chroma_12_kurtosis', 'chroma_4_std', 'chroma_9_kurtosis', 'chroma_12_mean', 'chroma_3_mean', 'mfcc_2_skew', 'chroma_10_kurtosis', 'spectral_centroid_std', 'mfcc_2_std', 'chroma_6_kurtosis', 'mfcc_11_std', 'spectral_spread_skew', 'chroma_5_kurtosis', 'mfcc_3_kurtosis', 'zcr_skew', 'mfcc_11_kurtosis', 'chroma_7_std', 'chroma_2_kurtosis', 'mfcc_9_kurtosis', 'chroma_9_mean', 'mfcc_8_std', 'chroma_8_mean', 'spectral_flux_skew', 'spectral_centroid_kurtosis', 'mfcc_4_mean', 'mfcc_8_kurtosis', 'mfcc_10_mean', 'chroma_10_mean', 'mfcc_10_std', 'chroma_8_skew', 'mfcc_12_mean', 'mfcc_3_mean', 'mfcc_9_std', 'mfcc_12_skew', 'mfcc_10_skew', 'mfcc_6_mean', 'mfcc_4_std', 'spectral_centroid_skew', 'chroma_11_mean', 'chroma_1_kurtosis', 'chroma_10_skew', 'chroma_4_kurtosis', 'chroma_5_skew', 'mfcc_7_kurtosis', 'mfcc_4_skew', 'chroma_std_std', 'mfcc_13_kurtosis', 'mfcc_7_std', 'mfcc_11_mean', 'mfcc_8_skew', 'mfcc_6_kurtosis', 'chroma_2_skew', 'mfcc_4_kurtosis', 'chroma_12_skew', 'energy_entropy_skew', 'mfcc_6_std', 'chroma_3_skew', 'mfcc_8_mean', 'chroma_4_mean', 'mfcc_5_std', 'chroma_9_skew', 'mfcc_5_kurtosis', 'chroma_7_skew', 'mfcc_3_std', 'mfcc_12_kurtosis', 'energy_entropy_mean', 'mfcc_10_kurtosis', 'chroma_6_skew', 'mfcc_13_mean', 'chroma_4_skew', 'chroma_std_skew', 'chroma_3_kurtosis', 'energy_entropy_std', 'chroma_7_kurtosis', 'chroma_1_skew', 'chroma_11_kurtosis', 'chroma_std_kurtosis', 'chroma_11_skew', 'energy_entropy_kurtosis', 'zcr_mean']"
   ]
  },
  {
   "cell_type": "code",
   "execution_count": 7,
   "metadata": {},
   "outputs": [],
   "source": [
    "FMA_features = ['spectral_rolloff_mean', 'mfcc_12_kurtosis', 'spectral_centroid_mean', 'chroma_7_mean', 'spectral_entropy_mean', 'spectral_flux_mean', 'spectral_entropy_kurtosis', 'spectral_entropy_std', 'mfcc_2_mean', 'spectral_spread_std', 'spectral_entropy_skew', 'energy_entropy_skew', 'chroma_1_std', 'chroma_3_std', 'zcr_std', 'spectral_rolloff_kurtosis', 'spectral_spread_skew', 'chroma_6_std', 'chroma_3_mean', 'spectral_rolloff_skew', 'spectral_rolloff_std', 'chroma_7_std', 'mfcc_1_mean', 'chroma_std_mean', 'spectral_flux_std', 'zcr_kurtosis', 'chroma_4_skew', 'spectral_spread_kurtosis', 'chroma_6_kurtosis', 'chroma_12_mean', 'energy_entropy_mean', 'spectral_centroid_kurtosis', 'chroma_7_skew', 'mfcc_1_skew', 'chroma_5_mean', 'chroma_11_std', 'mfcc_10_skew', 'zcr_skew', 'chroma_10_std', 'chroma_1_mean', 'mfcc_2_kurtosis', 'spectral_spread_mean', 'chroma_8_mean', 'mfcc_13_skew', 'chroma_3_kurtosis', 'energy_kurtosis', 'chroma_6_mean', 'mfcc_8_skew', 'chroma_12_std', 'mfcc_11_skew', 'spectral_centroid_std', 'chroma_std_skew', 'mfcc_6_mean', 'energy_entropy_kurtosis', 'mfcc_13_kurtosis', 'chroma_4_mean', 'mfcc_12_skew', 'chroma_1_kurtosis', 'chroma_2_mean', 'chroma_11_mean', 'chroma_7_kurtosis', 'mfcc_1_std', 'chroma_8_std', 'mfcc_7_skew', 'chroma_9_skew', 'mfcc_11_kurtosis', 'chroma_3_skew', 'energy_skew', 'chroma_6_skew', 'mfcc_4_mean', 'mfcc_9_kurtosis', 'spectral_flux_skew', 'mfcc_10_kurtosis', 'mfcc_5_mean', 'energy_entropy_std', 'chroma_1_skew', 'mfcc_10_mean', 'chroma_11_kurtosis', 'chroma_2_std', 'mfcc_8_kurtosis', 'spectral_centroid_skew', 'mfcc_7_kurtosis', 'chroma_std_kurtosis', 'mfcc_3_mean', 'chroma_9_mean', 'mfcc_9_skew', 'mfcc_2_std', 'mfcc_7_mean', 'chroma_4_kurtosis', 'chroma_5_std', 'chroma_12_kurtosis', 'mfcc_3_kurtosis', 'chroma_2_kurtosis', 'mfcc_6_kurtosis', 'mfcc_1_kurtosis', 'chroma_4_std', 'mfcc_8_mean', 'mfcc_3_skew', 'mfcc_12_mean', 'energy_mean', 'mfcc_6_skew', 'mfcc_9_mean', 'chroma_std_std', 'mfcc_5_kurtosis', 'chroma_12_skew', 'mfcc_12_std', 'mfcc_5_skew', 'chroma_10_skew', 'mfcc_4_kurtosis', 'mfcc_9_std', 'chroma_9_std', 'chroma_8_kurtosis', 'mfcc_3_std', 'chroma_11_skew', 'mfcc_13_mean', 'mfcc_11_mean', 'mfcc_4_skew', 'mfcc_13_std', 'chroma_2_skew', 'spectral_flux_kurtosis', 'chroma_10_kurtosis', 'mfcc_11_std', 'mfcc_4_std', 'chroma_5_kurtosis', 'mfcc_10_std', 'mfcc_5_std', 'chroma_8_skew', 'mfcc_2_skew', 'mfcc_6_std', 'chroma_10_mean', 'chroma_5_skew', 'mfcc_8_std', 'chroma_9_kurtosis', 'mfcc_7_std', 'energy_std', 'zcr_mean']"
   ]
  },
  {
   "cell_type": "code",
   "execution_count": 8,
   "metadata": {},
   "outputs": [],
   "source": [
    "def create_selection(features, interval):\n",
    "    selection = []\n",
    "    counter = interval\n",
    "    while counter < len(features):\n",
    "        selection.append(features[:counter])\n",
    "        counter += interval\n",
    "    return selection\n",
    "\n",
    "GTZAN_selection = create_selection(GTZAN_features, 25)\n",
    "FMA_selection = create_selection(FMA_features, 25)"
   ]
  },
  {
   "cell_type": "code",
   "execution_count": 9,
   "metadata": {},
   "outputs": [],
   "source": [
    "# Splits sets into y (labels) and X (feautures) and normalizes the features\n",
    "\n",
    "scaler = StandardScaler()\n",
    "\n",
    "FMA_y = FMA_train.pop(\"genre\")\n",
    "FMA_X = scaler.fit_transform(FMA_train)\n",
    "\n",
    "FMA_y_test = FMA_test.pop(\"genre\")\n",
    "FMA_X_test = scaler.fit_transform(FMA_test)\n",
    "\n",
    "GTZAN_y = GTZAN_train.pop(\"genre\")\n",
    "GTZAN_X = scaler.fit_transform(GTZAN_train)\n",
    "\n",
    "GTZAN_y_test = GTZAN_test.pop(\"genre\")\n",
    "GTZAN_X_test = scaler.fit_transform(GTZAN_test)\n",
    "\n",
    "features25 = ['spectral_rolloff_mean', 'mfcc_12_kurtosis', 'spectral_centroid_mean', 'chroma_7_mean', 'spectral_entropy_mean', 'spectral_flux_mean', 'spectral_entropy_kurtosis', 'spectral_entropy_std', 'mfcc_2_mean', 'spectral_spread_std', 'spectral_entropy_skew', 'energy_entropy_skew', 'chroma_1_std', 'chroma_3_std', 'zcr_std', 'spectral_rolloff_kurtosis', 'spectral_spread_skew', 'chroma_6_std', 'chroma_3_mean', 'spectral_rolloff_skew', 'spectral_rolloff_std', 'chroma_7_std', 'mfcc_1_mean', 'chroma_std_mean', 'spectral_flux_std', 'zcr_kurtosis', 'chroma_4_skew', 'spectral_spread_kurtosis', 'chroma_6_kurtosis', 'chroma_12_mean', 'energy_entropy_mean', 'spectral_centroid_kurtosis', 'chroma_7_skew', 'mfcc_1_skew']\n",
    "features50 = ['spectral_rolloff_mean', 'mfcc_12_kurtosis', 'spectral_centroid_mean', 'chroma_7_mean', 'spectral_entropy_mean', 'spectral_flux_mean', 'spectral_entropy_kurtosis', 'spectral_entropy_std', 'mfcc_2_mean', 'spectral_spread_std', 'spectral_entropy_skew', 'energy_entropy_skew', 'chroma_1_std', 'chroma_3_std', 'zcr_std', 'spectral_rolloff_kurtosis', 'spectral_spread_skew', 'chroma_6_std', 'chroma_3_mean', 'spectral_rolloff_skew', 'spectral_rolloff_std', 'chroma_7_std', 'mfcc_1_mean', 'chroma_std_mean', 'spectral_flux_std', 'zcr_kurtosis', 'chroma_4_skew', 'spectral_spread_kurtosis', 'chroma_6_kurtosis', 'chroma_12_mean', 'energy_entropy_mean', 'spectral_centroid_kurtosis', 'chroma_7_skew', 'mfcc_1_skew', 'chroma_5_mean', 'chroma_11_std', 'mfcc_10_skew', 'zcr_skew', 'chroma_10_std', 'chroma_1_mean', 'mfcc_2_kurtosis', 'spectral_spread_mean', 'chroma_8_mean', 'mfcc_13_skew', 'chroma_3_kurtosis', 'energy_kurtosis', 'chroma_6_mean', 'mfcc_8_skew', 'chroma_12_std', 'mfcc_11_skew', 'spectral_centroid_std', 'chroma_std_skew', 'mfcc_6_mean', 'energy_entropy_kurtosis', 'mfcc_13_kurtosis', 'chroma_4_mean', 'mfcc_12_skew', 'chroma_1_kurtosis', 'chroma_2_mean', 'chroma_11_mean', 'chroma_7_kurtosis', 'mfcc_1_std', 'chroma_8_std', 'mfcc_7_skew', 'chroma_9_skew', 'mfcc_11_kurtosis', 'chroma_3_skew', 'energy_skew']\n",
    "features75 = ['spectral_rolloff_mean', 'mfcc_12_kurtosis', 'spectral_centroid_mean', 'chroma_7_mean', 'spectral_entropy_mean', 'spectral_flux_mean', 'spectral_entropy_kurtosis', 'spectral_entropy_std', 'mfcc_2_mean', 'spectral_spread_std', 'spectral_entropy_skew', 'energy_entropy_skew', 'chroma_1_std', 'chroma_3_std', 'zcr_std', 'spectral_rolloff_kurtosis', 'spectral_spread_skew', 'chroma_6_std', 'chroma_3_mean', 'spectral_rolloff_skew', 'spectral_rolloff_std', 'chroma_7_std', 'mfcc_1_mean', 'chroma_std_mean', 'spectral_flux_std', 'zcr_kurtosis', 'chroma_4_skew', 'spectral_spread_kurtosis', 'chroma_6_kurtosis', 'chroma_12_mean', 'energy_entropy_mean', 'spectral_centroid_kurtosis', 'chroma_7_skew', 'mfcc_1_skew', 'chroma_5_mean', 'chroma_11_std', 'mfcc_10_skew', 'zcr_skew', 'chroma_10_std', 'chroma_1_mean', 'mfcc_2_kurtosis', 'spectral_spread_mean', 'chroma_8_mean', 'mfcc_13_skew', 'chroma_3_kurtosis', 'energy_kurtosis', 'chroma_6_mean', 'mfcc_8_skew', 'chroma_12_std', 'mfcc_11_skew', 'spectral_centroid_std', 'chroma_std_skew', 'mfcc_6_mean', 'energy_entropy_kurtosis', 'mfcc_13_kurtosis', 'chroma_4_mean', 'mfcc_12_skew', 'chroma_1_kurtosis', 'chroma_2_mean', 'chroma_11_mean', 'chroma_7_kurtosis', 'mfcc_1_std', 'chroma_8_std', 'mfcc_7_skew', 'chroma_9_skew', 'mfcc_11_kurtosis', 'chroma_3_skew', 'energy_skew', 'chroma_6_skew', 'mfcc_4_mean', 'mfcc_9_kurtosis', 'spectral_flux_skew', 'mfcc_10_kurtosis', 'mfcc_5_mean', 'energy_entropy_std', 'chroma_1_skew', 'mfcc_10_mean', 'chroma_11_kurtosis', 'chroma_2_std', 'mfcc_8_kurtosis', 'spectral_centroid_skew', 'mfcc_7_kurtosis', 'chroma_std_kurtosis', 'mfcc_3_mean', 'chroma_9_mean', 'mfcc_9_skew', 'mfcc_2_std', 'mfcc_7_mean', 'chroma_4_kurtosis', 'chroma_5_std', 'chroma_12_kurtosis', 'mfcc_3_kurtosis', 'chroma_2_kurtosis', 'mfcc_6_kurtosis', 'mfcc_1_kurtosis', 'chroma_4_std', 'mfcc_8_mean', 'mfcc_3_skew', 'mfcc_12_mean', 'energy_mean', 'mfcc_6_skew', 'mfcc_9_mean']\n",
    "selected = [features25, features50, features75]\n",
    "\n",
    "GTZAN_X25 = scaler.fit_transform(GTZAN_train[features25])"
   ]
  },
  {
   "cell_type": "code",
   "execution_count": 27,
   "metadata": {},
   "outputs": [
    {
     "ename": "AttributeError",
     "evalue": "'GridSearchCV' object has no attribute 'scores_'",
     "output_type": "error",
     "traceback": [
      "\u001b[1;31m---------------------------------------------------------------------------\u001b[0m",
      "\u001b[1;31mAttributeError\u001b[0m                            Traceback (most recent call last)",
      "\u001b[1;32m<ipython-input-27-80a86010a6c6>\u001b[0m in \u001b[0;36m<module>\u001b[1;34m()\u001b[0m\n\u001b[1;32m----> 1\u001b[1;33m \u001b[0mprint\u001b[0m\u001b[1;33m(\u001b[0m\u001b[0mFMA_CV1\u001b[0m\u001b[1;33m.\u001b[0m\u001b[0mscores_\u001b[0m\u001b[1;33m)\u001b[0m\u001b[1;33m\u001b[0m\u001b[0m\n\u001b[0m",
      "\u001b[1;31mAttributeError\u001b[0m: 'GridSearchCV' object has no attribute 'scores_'"
     ]
    }
   ],
   "source": [
    "print(FMA_CV1.scores_)"
   ]
  },
  {
   "cell_type": "code",
   "execution_count": 10,
   "metadata": {},
   "outputs": [],
   "source": [
    "def hierarchical_taxonomy(X, y, indicators, labels = None):\n",
    "    if labels == None:\n",
    "        label = range(0, len(indicators))\n",
    "    conditions = []\n",
    "    for indicator in indicators:\n",
    "        conditions.append(y.isin(indicator))\n",
    "    parent_y = np.select(conditions, labels)\n",
    "    child_y = []\n",
    "    child_X = []\n",
    "    for i, condition in enumerate(conditions):\n",
    "        child_y.append([])\n",
    "        child_X.append([])\n",
    "        child_y[i] = y[condition]\n",
    "        child_X[i] = X[condition]\n",
    "    return parent_y, child_y, child_X\n",
    "    \n",
    "class HierarchicalClassifier:    \n",
    "    \n",
    "    def __init__(self, indicators, base_algorithm, labels = None, cv = True):\n",
    "        self.roots = len(indicators)\n",
    "        self.indicators = indicators\n",
    "        self.labels = labels\n",
    "        self.algorithms = []\n",
    "        self.cv = cv\n",
    "        self.base_algorithm = base_algorithm\n",
    "        for i in range(0, self.roots):\n",
    "            self.algorithms.append(copy.deepcopy(base_algorithm))\n",
    "        self.parent_algorithm = copy.deepcopy(base_algorithm)\n",
    "    \n",
    "    def fit(self, X, y):\n",
    "        parent_y, child_y, child_X = hierarchical_taxonomy(X, y, self.indicators, labels = self.labels)\n",
    "        self.parent_algorithm.fit(X, parent_y)\n",
    "        if self.cv:\n",
    "            self.parent_algorithm = self.parent_algorithm.best_estimator_\n",
    "        for i in range(self.roots):\n",
    "            if len(self.indicators[i]) > 1:\n",
    "                self.algorithms[i].fit(child_X[i], child_y[i])\n",
    "                if self.cv:\n",
    "                    self.algorithms[i] = self.algorithms[i].best_estimator_\n",
    "            \n",
    "    def parent_predict(self, X):\n",
    "        return self.parent_algorithm.predict(X)\n",
    "    \n",
    "    def predict(self, X, parent_predict = None):\n",
    "        if parent_predict is None:\n",
    "            parent_predict = self.parent_predict(X)\n",
    "        predict = []\n",
    "        for i in range(len(X)):\n",
    "            for j in range(self.roots):\n",
    "                if parent_predict[i] == self.labels[j]:\n",
    "                    if len(self.indicators[j]) > 1:\n",
    "                        predict.append(self.algorithms[j].predict([X[i]]))\n",
    "                    elif len(self.indicators[j]) == 1:\n",
    "                        predict.append(self.indicators[j])\n",
    "        return predict"
   ]
  },
  {
   "cell_type": "code",
   "execution_count": 11,
   "metadata": {},
   "outputs": [],
   "source": [
    "def apply_selection(X, selection, scale = True):\n",
    "    selected = []\n",
    "    if scale:\n",
    "        ss = StandardScaler()\n",
    "    for features in selection:\n",
    "        if scale:\n",
    "            selected.append(ss.fit_transform(X[features]))\n",
    "        else:\n",
    "            selected.append(X[features])\n",
    "    return selected\n",
    "\n",
    "class MultiCV:\n",
    "    \n",
    "    def __init__(self, base_cv, multi, refitted = True):\n",
    "        self.models = []\n",
    "        self.refitted = refitted\n",
    "        for i in range(multi):\n",
    "            self.models.append(copy.deepcopy(base_cv))\n",
    "            \n",
    "    def fit(self, Xs, y):\n",
    "        for i, model in enumerate(self.models):\n",
    "            model.fit(Xs[i], y)\n",
    "            print(str(i + 1) + \" \" + str(datetime.datetime.now()))\n",
    "            if self.refitted:\n",
    "                self.models[i] = model.best_estimator_\n",
    "            \n",
    "    def predict(self, Xs):\n",
    "        predictions = []\n",
    "        for i, model in enumerate(self.models):\n",
    "            predictions.append(model.predict(Xs[i]))\n",
    "        return predictions"
   ]
  },
  {
   "cell_type": "code",
   "execution_count": 9,
   "metadata": {},
   "outputs": [
    {
     "name": "stdout",
     "output_type": "stream",
     "text": [
      "Elapsed Time: 4:52:54.565404\n"
     ]
    }
   ],
   "source": [
    "# FMA without hierarchy or feature selection\n",
    "\n",
    "start_time = datetime.datetime.now() \n",
    "\n",
    "FMA_SVC1 = SVC(gamma = 'auto', class_weight = 'balanced')\n",
    "params = {'C' : [0.0001, 0.001, 0.01, 0.1, 1, 10, 100], 'gamma' : [0.0001, 0.001, 0.01, 0.1, 1, 10]}\n",
    "\n",
    "FMA_CV1 = GridSearchCV(FMA_SVC1, params, n_jobs = -1, cv = 5, scoring = 'f1_macro')\n",
    "FMA_CV1.fit(FMA_X, FMA_y)\n",
    "\n",
    "end_time = datetime.datetime.now()\n",
    "\n",
    "print(\"Elapsed Time: \" + str(end_time - start_time))"
   ]
  },
  {
   "cell_type": "code",
   "execution_count": 10,
   "metadata": {},
   "outputs": [
    {
     "name": "stdout",
     "output_type": "stream",
     "text": [
      "Elapsed Time: 4:33:53.921291\n"
     ]
    }
   ],
   "source": [
    "# FMA with hierarchy\n",
    "\n",
    "start_time = datetime.datetime.now()\n",
    "\n",
    "FMA_SVC2 = SVC(gamma = 'auto', class_weight = 'balanced')\n",
    "params = {'C' : [0.0001, 0.001, 0.01, 0.1, 1, 10, 100], 'gamma' : [0.0001, 0.001, 0.01, 0.1, 1, 10]}\n",
    "FMA_CV2 = GridSearchCV(FMA_SVC2, params, n_jobs = -1, cv = 5, scoring = 'f1_macro')\n",
    "# [\"Rock\", \"Electronic\", \"Hip-Hop\", \"Folk\", \"Pop\", \"Classical\", \"Old-Time / Historic\", \"Blues\", \"Jazz\", \"Country]\n",
    "indicators = [[\"Classical\", \"Old-Time / Historic\"], [\"Country\", \"Rock\", \"Blues\", \"Jazz\", \"Folk\"], [\"Electronic\", \"Hip-Hop\", \"Pop\"]]\n",
    "labels = [\"Early\", \"Middle\", \"Late\"]\n",
    "\n",
    "FMA_hier = HierarchicalClassifier(indicators, FMA_CV2, labels = labels)\n",
    "FMA_hier.fit(FMA_X, FMA_y)\n",
    "\n",
    "end_time = datetime.datetime.now()\n",
    "\n",
    "print(\"Elapsed Time: \" + str(end_time - start_time))"
   ]
  },
  {
   "cell_type": "code",
   "execution_count": 12,
   "metadata": {},
   "outputs": [
    {
     "name": "stdout",
     "output_type": "stream",
     "text": [
      "1 2019-02-18 02:14:41.665978\n",
      "2 2019-02-18 04:25:14.093318\n",
      "3 2019-02-18 07:23:05.993755\n",
      "4 2019-02-18 11:06:33.211079\n",
      "5 2019-02-18 15:29:07.346739\n",
      "Elapsed Time: 14:35:28.404375\n"
     ]
    }
   ],
   "source": [
    "# FMA with feature selection\n",
    "\n",
    "start_time = datetime.datetime.now()\n",
    "\n",
    "FMA_SVC3 = SVC(gamma = 'auto', class_weight = 'balanced')\n",
    "\n",
    "params = {'C' : [0.0001, 0.001, 0.01, 0.1, 1, 10, 100], 'gamma' : [0.0001, 0.001, 0.01, 0.1, 1, 10]}\n",
    "FMA_X_selected = apply_selection(FMA_train, FMA_selection)\n",
    "\n",
    "FMA_CV3 = GridSearchCV(FMA_SVC3, params, n_jobs = -1, cv = 5, scoring = 'f1_macro')\n",
    "FMA_multi = MultiCV(FMA_CV3, len(FMA_selection))\n",
    "FMA_multi.fit(FMA_X_selected, FMA_y)\n",
    "\n",
    "end_time = datetime.datetime.now()\n",
    "\n",
    "print(\"Elapsed Time: \" + str(end_time - start_time))"
   ]
  },
  {
   "cell_type": "code",
   "execution_count": 17,
   "metadata": {},
   "outputs": [
    {
     "name": "stdout",
     "output_type": "stream",
     "text": [
      "1 2019-02-19 00:01:34.083247\n"
     ]
    },
    {
     "name": "stderr",
     "output_type": "stream",
     "text": [
      "C:\\Users\\xiaoy\\Anaconda3\\lib\\site-packages\\sklearn\\externals\\joblib\\externals\\loky\\process_executor.py:706: UserWarning: A worker stopped while some jobs were given to the executor. This can be caused by a too short worker timeout or by a memory leak.\n",
      "  \"timeout or by a memory leak.\", UserWarning\n"
     ]
    },
    {
     "name": "stdout",
     "output_type": "stream",
     "text": [
      "2 2019-02-19 01:56:49.711727\n"
     ]
    },
    {
     "name": "stderr",
     "output_type": "stream",
     "text": [
      "C:\\Users\\xiaoy\\Anaconda3\\lib\\site-packages\\sklearn\\externals\\joblib\\externals\\loky\\process_executor.py:706: UserWarning: A worker stopped while some jobs were given to the executor. This can be caused by a too short worker timeout or by a memory leak.\n",
      "  \"timeout or by a memory leak.\", UserWarning\n"
     ]
    },
    {
     "name": "stdout",
     "output_type": "stream",
     "text": [
      "3 2019-02-19 04:40:15.810471\n"
     ]
    },
    {
     "name": "stderr",
     "output_type": "stream",
     "text": [
      "C:\\Users\\xiaoy\\Anaconda3\\lib\\site-packages\\sklearn\\externals\\joblib\\externals\\loky\\process_executor.py:706: UserWarning: A worker stopped while some jobs were given to the executor. This can be caused by a too short worker timeout or by a memory leak.\n",
      "  \"timeout or by a memory leak.\", UserWarning\n"
     ]
    },
    {
     "name": "stdout",
     "output_type": "stream",
     "text": [
      "4 2019-02-19 08:10:25.368466\n"
     ]
    },
    {
     "name": "stderr",
     "output_type": "stream",
     "text": [
      "C:\\Users\\xiaoy\\Anaconda3\\lib\\site-packages\\sklearn\\externals\\joblib\\externals\\loky\\process_executor.py:706: UserWarning: A worker stopped while some jobs were given to the executor. This can be caused by a too short worker timeout or by a memory leak.\n",
      "  \"timeout or by a memory leak.\", UserWarning\n"
     ]
    },
    {
     "name": "stdout",
     "output_type": "stream",
     "text": [
      "5 2019-02-19 12:24:52.861846\n",
      "Elapsed Time: 13:30:35.413974\n"
     ]
    }
   ],
   "source": [
    "# FMA with both\n",
    "\n",
    "start_time = datetime.datetime.now()\n",
    "\n",
    "FMA_SVC4 = SVC(gamma = 'auto', class_weight = 'balanced')\n",
    "\n",
    "params = {'C' : [0.0001, 0.001, 0.01, 0.1, 1, 10, 100], 'gamma' : [0.0001, 0.001, 0.01, 0.1, 1, 10]}\n",
    "indicators = [[\"Classical\", \"Old-Time / Historic\"], [\"Country\", \"Rock\", \"Blues\", \"Jazz\", \"Folk\"], [\"Electronic\", \"Hip-Hop\", \"Pop\"]]\n",
    "labels = [\"Early\", \"Middle\", \"Late\"]\n",
    "FMA_X_selected = apply_selection(FMA_train, FMA_selection)\n",
    "\n",
    "FMA_CV4 = GridSearchCV(FMA_SVC4, params, n_jobs = -1, cv = 5, scoring = 'f1_macro')\n",
    "FMA_hier2 = HierarchicalClassifier(indicators, FMA_CV4, labels = labels)\n",
    "FMA_multi2 = MultiCV(FMA_hier2, len(FMA_selection), refitted = False)\n",
    "FMA_multi2.fit(FMA_X_selected, FMA_y)\n",
    "\n",
    "end_time = datetime.datetime.now()\n",
    "\n",
    "print(\"Elapsed Time: \" + str(end_time - start_time))"
   ]
  },
  {
   "cell_type": "code",
   "execution_count": 17,
   "metadata": {},
   "outputs": [
    {
     "name": "stdout",
     "output_type": "stream",
     "text": [
      "Elapsed Time: 0:00:24.641154\n"
     ]
    }
   ],
   "source": [
    "# GTZAN without hierarchy or feature selection\n",
    "\n",
    "start_time = datetime.datetime.now()\n",
    "\n",
    "GTZAN_SVC1 = SVC(gamma = 'auto')\n",
    "params = {'C' : [0.0001, 0.001, 0.01, 0.1, 1, 10, 100], 'gamma' : [0.0001, 0.001, 0.01, 0.1, 1, 10]}\n",
    "\n",
    "GTZAN_CV1 = GridSearchCV(GTZAN_SVC1, params, n_jobs = -1, cv = 5)\n",
    "GTZAN_CV1.fit(GTZAN_X, GTZAN_y)\n",
    "\n",
    "end_time = datetime.datetime.now()\n",
    "\n",
    "print(\"Elapsed Time: \" + str(end_time - start_time))"
   ]
  },
  {
   "cell_type": "code",
   "execution_count": 75,
   "metadata": {},
   "outputs": [
    {
     "name": "stdout",
     "output_type": "stream",
     "text": [
      "Elapsed Time: 0:00:55.610114\n"
     ]
    }
   ],
   "source": [
    "# GTZAN with hierarchy without feature selection\n",
    "\n",
    "start_time = datetime.datetime.now()\n",
    "\n",
    "GTZAN_SVC2 = SVC(gamma = 'auto')\n",
    "\n",
    "params = {'C' : [0.0001, 0.001, 0.01, 0.1, 1, 10, 100], 'gamma' : [0.0001, 0.001, 0.01, 0.1, 1, 10]}\n",
    "indicators = [['classical'], ['country', 'blues', 'rock', 'jazz', 'reggae', 'metal'], ['disco', 'hiphop', 'pop']]\n",
    "labels = ['early', 'middle', 'late']\n",
    "\n",
    "GTZAN_CV2 = GridSearchCV(GTZAN_SVC2, params, n_jobs = -1, cv = 5)\n",
    "GTZAN_hier = HierarchicalClassifier(indicators, GTZAN_CV2, labels = labels)\n",
    "GTZAN_hier.fit(GTZAN_X, GTZAN_y)\n",
    "\n",
    "end_time = datetime.datetime.now()\n",
    "\n",
    "print(\"Elapsed Time: \" + str(end_time - start_time))"
   ]
  },
  {
   "cell_type": "code",
   "execution_count": 10,
   "metadata": {},
   "outputs": [
    {
     "name": "stdout",
     "output_type": "stream",
     "text": [
      "1 2019-02-12 16:19:56.121821\n",
      "2 2019-02-12 16:20:05.246427\n",
      "3 2019-02-12 16:20:16.586891\n",
      "4 2019-02-12 16:20:30.846759\n",
      "5 2019-02-12 16:20:49.425102\n",
      "Elapsed Time: 0:00:59.120670\n"
     ]
    }
   ],
   "source": [
    "# GTZAN with feature selection\n",
    "\n",
    "start_time = datetime.datetime.now()\n",
    "\n",
    "GTZAN_SVC3 = SVC(gamma = 'auto')\n",
    "\n",
    "params = {'C' : [0.0001, 0.001, 0.01, 0.1, 1, 10, 100], 'gamma' : [0.0001, 0.001, 0.01, 0.1, 1, 10]}\n",
    "GTZAN_X_selected = apply_selection(GTZAN_train, GTZAN_selection)\n",
    "\n",
    "GTZAN_CV3 = GridSearchCV(GTZAN_SVC3, params, n_jobs = -1, cv = 5)\n",
    "GTZAN_multi = MultiCV(GTZAN_CV3, len(GTZAN_selection))\n",
    "GTZAN_multi.fit(GTZAN_X_selected, GTZAN_y)\n",
    "\n",
    "end_time = datetime.datetime.now()\n",
    "\n",
    "print(\"Elapsed Time: \" + str(end_time - start_time))"
   ]
  },
  {
   "cell_type": "code",
   "execution_count": 11,
   "metadata": {},
   "outputs": [
    {
     "name": "stdout",
     "output_type": "stream",
     "text": [
      "1 2019-02-12 16:21:31.803099\n",
      "2 2019-02-12 16:21:42.147443\n",
      "3 2019-02-12 16:21:55.874744\n",
      "4 2019-02-12 16:22:12.388590\n",
      "5 2019-02-12 16:22:30.965470\n",
      "Elapsed Time: 0:01:06.326216\n"
     ]
    }
   ],
   "source": [
    "# GTZAN both\n",
    "\n",
    "start_time = datetime.datetime.now()\n",
    "\n",
    "GTZAN_SVC4 = SVC(gamma = 'auto')\n",
    "\n",
    "params = {'C' : [0.0001, 0.001, 0.01, 0.1, 1, 10, 100], 'gamma' : [0.0001, 0.001, 0.01, 0.1, 1, 10]}\n",
    "indicators = [['classical'], ['country', 'blues', 'rock', 'jazz', 'reggae', 'metal'], ['disco', 'hiphop', 'pop']]\n",
    "labels = ['early', 'middle', 'late']\n",
    "GTZAN_X_selected = apply_selection(GTZAN_train, GTZAN_selection)\n",
    "\n",
    "GTZAN_CV4 = GridSearchCV(GTZAN_SVC4, params, n_jobs = -1, cv = 5)\n",
    "GTZAN_hier2 = HierarchicalClassifier(indicators, GTZAN_CV4, labels = labels)\n",
    "GTZAN_multi2 = MultiCV(GTZAN_hier2, len(GTZAN_selection), refitted = False)\n",
    "GTZAN_multi2.fit(GTZAN_X_selected, GTZAN_y)\n",
    "\n",
    "end_time = datetime.datetime.now()\n",
    "\n",
    "print(\"Elapsed Time: \" + str(end_time - start_time))"
   ]
  },
  {
   "cell_type": "code",
   "execution_count": 13,
   "metadata": {},
   "outputs": [],
   "source": [
    "# Save model to a .pickle file\n",
    "  \n",
    "def save_model(file, model):\n",
    "    f = open(file, 'wb+')\n",
    "    pickle.dump(model, f, protocol = pickle.HIGHEST_PROTOCOL)\n",
    "    f.close()\n",
    "\n",
    "def load_model(file):\n",
    "    f = open(file, 'rb')\n",
    "    m = pickle.load(f)\n",
    "    f.close()\n",
    "    return m\n",
    "\n"
   ]
  },
  {
   "cell_type": "code",
   "execution_count": 16,
   "metadata": {
    "collapsed": true
   },
   "outputs": [
    {
     "ename": "NameError",
     "evalue": "name 'GTZAN_CV1' is not defined",
     "output_type": "error",
     "traceback": [
      "\u001b[1;31m---------------------------------------------------------------------------\u001b[0m",
      "\u001b[1;31mNameError\u001b[0m                                 Traceback (most recent call last)",
      "\u001b[1;32m<ipython-input-16-cefa889a249b>\u001b[0m in \u001b[0;36m<module>\u001b[1;34m()\u001b[0m\n\u001b[1;32m----> 1\u001b[1;33m \u001b[0msave_model\u001b[0m\u001b[1;33m(\u001b[0m\u001b[1;34m\"models\\\\GTZAN_CV1.pickle\"\u001b[0m\u001b[1;33m,\u001b[0m \u001b[0mGTZAN_CV1\u001b[0m\u001b[1;33m)\u001b[0m\u001b[1;33m\u001b[0m\u001b[0m\n\u001b[0m",
      "\u001b[1;31mNameError\u001b[0m: name 'GTZAN_CV1' is not defined"
     ]
    }
   ],
   "source": [
    "save_model(\"models\\\\GTZAN_CV1.pickle\", GTZAN_CV1)"
   ]
  },
  {
   "cell_type": "code",
   "execution_count": 76,
   "metadata": {},
   "outputs": [],
   "source": [
    "save_model(\"models\\\\GTZAN_hier.pickle\", GTZAN_hier)"
   ]
  },
  {
   "cell_type": "code",
   "execution_count": 18,
   "metadata": {},
   "outputs": [],
   "source": [
    "save_model(\"models\\\\GTZAN_multi.pickle\", GTZAN_multi)"
   ]
  },
  {
   "cell_type": "code",
   "execution_count": 19,
   "metadata": {},
   "outputs": [],
   "source": [
    "save_model(\"models\\\\GTZAN_multi2.pickle\", GTZAN_multi2)"
   ]
  },
  {
   "cell_type": "code",
   "execution_count": 6,
   "metadata": {
    "scrolled": true
   },
   "outputs": [],
   "source": [
    "save_model(\"models\\\\FMA_CV1.pickle\", FMA_CV1)"
   ]
  },
  {
   "cell_type": "code",
   "execution_count": 21,
   "metadata": {},
   "outputs": [
    {
     "ename": "NameError",
     "evalue": "name 'FMA_hier' is not defined",
     "output_type": "error",
     "traceback": [
      "\u001b[1;31m---------------------------------------------------------------------------\u001b[0m",
      "\u001b[1;31mNameError\u001b[0m                                 Traceback (most recent call last)",
      "\u001b[1;32m<ipython-input-21-6ddb164bb3c8>\u001b[0m in \u001b[0;36m<module>\u001b[1;34m()\u001b[0m\n\u001b[1;32m----> 1\u001b[1;33m \u001b[0msave_model\u001b[0m\u001b[1;33m(\u001b[0m\u001b[1;34m\"models\\\\FMA_hier.pickle\"\u001b[0m\u001b[1;33m,\u001b[0m \u001b[0mFMA_hier\u001b[0m\u001b[1;33m)\u001b[0m\u001b[1;33m\u001b[0m\u001b[0m\n\u001b[0m",
      "\u001b[1;31mNameError\u001b[0m: name 'FMA_hier' is not defined"
     ]
    }
   ],
   "source": [
    "save_model(\"models\\\\FMA_hier.pickle\", FMA_hier)"
   ]
  },
  {
   "cell_type": "code",
   "execution_count": 22,
   "metadata": {},
   "outputs": [],
   "source": [
    "save_model(\"models\\\\FMA_multi.pickle\", FMA_multi)"
   ]
  },
  {
   "cell_type": "code",
   "execution_count": 23,
   "metadata": {},
   "outputs": [],
   "source": [
    "save_model(\"models\\\\FMA_multi2.pickle\", FMA_multi2)"
   ]
  },
  {
   "cell_type": "code",
   "execution_count": null,
   "metadata": {},
   "outputs": [],
   "source": [
    "save_model(\"models\\\\GTZAN_CV1.pickle\", GTZAN_CV1)"
   ]
  },
  {
   "cell_type": "markdown",
   "metadata": {},
   "source": [
    "## Results"
   ]
  },
  {
   "cell_type": "code",
   "execution_count": 12,
   "metadata": {},
   "outputs": [],
   "source": [
    "import numpy as np\n",
    "import pandas as pd\n",
    "import matplotlib.pyplot as plt\n",
    "import matplotlib\n",
    "from sklearn.metrics import accuracy_score, precision_score, recall_score, f1_score, confusion_matrix\n",
    "import pickle\n",
    "import datetime\n",
    "import copy"
   ]
  },
  {
   "cell_type": "code",
   "execution_count": 14,
   "metadata": {},
   "outputs": [],
   "source": [
    "GTZAN_CV1 = load_model(\"models\\\\GTZAN_CV1.pickle\")"
   ]
  },
  {
   "cell_type": "code",
   "execution_count": 15,
   "metadata": {},
   "outputs": [],
   "source": [
    "GTZAN_hier = load_model(\"models\\\\GTZAN_hier.pickle\")"
   ]
  },
  {
   "cell_type": "code",
   "execution_count": 16,
   "metadata": {},
   "outputs": [],
   "source": [
    "GTZAN_multi = load_model(\"models\\\\GTZAN_multi.pickle\")"
   ]
  },
  {
   "cell_type": "code",
   "execution_count": 17,
   "metadata": {},
   "outputs": [],
   "source": [
    "GTZAN_multi2 = load_model(\"models\\\\GTZAN_multi2.pickle\")"
   ]
  },
  {
   "cell_type": "code",
   "execution_count": 57,
   "metadata": {},
   "outputs": [],
   "source": [
    "FMA_CV1 = load_model(\"models\\\\FMA_CV1.pickle\")"
   ]
  },
  {
   "cell_type": "code",
   "execution_count": 58,
   "metadata": {},
   "outputs": [],
   "source": [
    "FMA_hier = load_model(\"models\\\\FMA_hier.pickle\")"
   ]
  },
  {
   "cell_type": "code",
   "execution_count": 59,
   "metadata": {},
   "outputs": [],
   "source": [
    "FMA_multi = load_model(\"models\\\\FMA_multi.pickle\")"
   ]
  },
  {
   "cell_type": "code",
   "execution_count": 60,
   "metadata": {},
   "outputs": [],
   "source": [
    "FMA_multi2 = load_model(\"models\\\\FMA_multi2.pickle\")"
   ]
  },
  {
   "cell_type": "code",
   "execution_count": 43,
   "metadata": {},
   "outputs": [
    {
     "name": "stdout",
     "output_type": "stream",
     "text": [
      "Rock                   1420\n",
      "Electronic             1262\n",
      "Hip-Hop                 439\n",
      "Folk                    303\n",
      "Pop                     237\n",
      "Classical               124\n",
      "Old-Time / Historic     102\n",
      "Jazz                     77\n",
      "Country                  36\n",
      "Blues                    15\n",
      "Name: genre, dtype: int64\n"
     ]
    }
   ],
   "source": [
    "print(pd.value_counts(FMA_y_test))"
   ]
  },
  {
   "cell_type": "code",
   "execution_count": 52,
   "metadata": {},
   "outputs": [
    {
     "name": "stdout",
     "output_type": "stream",
     "text": [
      "['Folk' 'Electronic' 'Country' 'Classical' 'Rock' 'Hip-Hop'\n",
      " 'Old-Time / Historic' 'Pop' 'Jazz' 'Blues']\n"
     ]
    }
   ],
   "source": [
    "print(pd.unique(FMA_y))"
   ]
  },
  {
   "cell_type": "code",
   "execution_count": 18,
   "metadata": {},
   "outputs": [],
   "source": [
    "def display_cm(true, predict, classes, cmap = plt.cm.gray):\n",
    "    cm = confusion_matrix(true, predict, labels = classes)\n",
    "    \n",
    "    row_sums = cm.sum(axis = 1, keepdims = True)\n",
    "    norm_cm = cm / row_sums\n",
    "    \n",
    "    plt.imshow(norm_cm, cmap = cmap)\n",
    "\n",
    "    tick_marks = np.arange(len(classes))\n",
    "    plt.xticks(tick_marks, classes, rotation=90)\n",
    "    plt.yticks(tick_marks, classes)\n",
    "\n",
    "    plt.show()"
   ]
  },
  {
   "cell_type": "code",
   "execution_count": 30,
   "metadata": {},
   "outputs": [
    {
     "name": "stdout",
     "output_type": "stream",
     "text": [
      "0.73\n",
      "0.7290559184076513\n"
     ]
    },
    {
     "data": {
      "image/png": "[encoded data removed]",
      "text/plain": [
       "<Figure size 432x288 with 1 Axes>"
      ]
     },
     "metadata": {
      "needs_background": "light"
     },
     "output_type": "display_data"
    }
   ],
   "source": [
    "predict = GTZAN_CV1.predict(GTZAN_X_test)\n",
    "print(accuracy_score(GTZAN_y_test, predict))\n",
    "print(f1_score(GTZAN_y_test, predict, average = 'macro'))\n",
    "display_cm(GTZAN_y_test, predict, pd.unique(GTZAN_y_test))"
   ]
  },
  {
   "cell_type": "code",
   "execution_count": 32,
   "metadata": {},
   "outputs": [
    {
     "name": "stdout",
     "output_type": "stream",
     "text": [
      "0.89\n"
     ]
    },
    {
     "data": {
      "image/png": "[encoded data removed]",
      "text/plain": [
       "<Figure size 432x288 with 1 Axes>"
      ]
     },
     "metadata": {
      "needs_background": "light"
     },
     "output_type": "display_data"
    }
   ],
   "source": [
    "indicators = [['classical'], ['country', 'blues', 'rock', 'jazz', 'reggae', 'metal'], ['disco', 'hiphop', 'pop']]\n",
    "labels = ['early', 'middle', 'late']\n",
    "parent_predict = []\n",
    "for p in predict:\n",
    "    for j, i in enumerate(indicators):\n",
    "        if p in i:\n",
    "            parent_predict.append(labels[j])\n",
    "parent_predict = np.array(parent_predict)\n",
    "parent_y, _, _ = hierarchical_taxonomy(GTZAN_X_test, GTZAN_y_test, indicators, labels = labels)\n",
    "print(accuracy_score(parent_y, parent_predict))\n",
    "display_cm(parent_y, parent_predict, pd.unique(parent_y))"
   ]
  },
  {
   "cell_type": "code",
   "execution_count": 34,
   "metadata": {},
   "outputs": [
    {
     "name": "stdout",
     "output_type": "stream",
     "text": [
      "0.895\n",
      "0.895\n"
     ]
    },
    {
     "data": {
      "image/png": "[encoded data removed]",
      "text/plain": [
       "<Figure size 432x288 with 1 Axes>"
      ]
     },
     "metadata": {
      "needs_background": "light"
     },
     "output_type": "display_data"
    },
    {
     "name": "stdout",
     "output_type": "stream",
     "text": [
      "0.675\n",
      "0.675\n"
     ]
    },
    {
     "data": {
      "image/png": "[encoded data removed]",
      "text/plain": [
       "<Figure size 432x288 with 1 Axes>"
      ]
     },
     "metadata": {
      "needs_background": "light"
     },
     "output_type": "display_data"
    }
   ],
   "source": [
    "parent_predict = GTZAN_hier.parent_predict(GTZAN_X_test)\n",
    "parent_y, _, _ = hierarchical_taxonomy(GTZAN_X_test, GTZAN_y_test, indicators, labels = labels)\n",
    "print(accuracy_score(parent_y, parent_predict))\n",
    "print(f1_score(parent_y, parent_predict, average = 'micro'))\n",
    "display_cm(parent_y, parent_predict, labels)\n",
    "predict = GTZAN_hier.predict(GTZAN_X_test, parent_predict = parent_predict)\n",
    "print(accuracy_score(GTZAN_y_test, predict))\n",
    "print(f1_score(GTZAN_y_test, predict, average = 'micro'))\n",
    "display_cm(GTZAN_y_test, predict, pd.unique(GTZAN_y_test))"
   ]
  },
  {
   "cell_type": "code",
   "execution_count": 65,
   "metadata": {},
   "outputs": [
    {
     "name": "stdout",
     "output_type": "stream",
     "text": [
      "0.62 25\n",
      "0.6208582276297295\n"
     ]
    },
    {
     "data": {
      "image/png": "[encoded data removed]",
      "text/plain": [
       "<Figure size 432x288 with 1 Axes>"
      ]
     },
     "metadata": {
      "needs_background": "light"
     },
     "output_type": "display_data"
    },
    {
     "name": "stdout",
     "output_type": "stream",
     "text": [
      "0.61 50\n",
      "0.6073574007923616\n"
     ]
    },
    {
     "data": {
      "image/png": "[encoded data removed]",
      "text/plain": [
       "<Figure size 432x288 with 1 Axes>"
      ]
     },
     "metadata": {
      "needs_background": "light"
     },
     "output_type": "display_data"
    },
    {
     "name": "stdout",
     "output_type": "stream",
     "text": [
      "0.66 75\n",
      "0.651026591933831\n"
     ]
    },
    {
     "data": {
      "image/png": "[encoded data removed]",
      "text/plain": [
       "<Figure size 432x288 with 1 Axes>"
      ]
     },
     "metadata": {
      "needs_background": "light"
     },
     "output_type": "display_data"
    },
    {
     "name": "stdout",
     "output_type": "stream",
     "text": [
      "0.61 100\n",
      "0.6008956292621247\n"
     ]
    },
    {
     "data": {
      "image/png": "[encoded data removed]",
      "text/plain": [
       "<Figure size 432x288 with 1 Axes>"
      ]
     },
     "metadata": {
      "needs_background": "light"
     },
     "output_type": "display_data"
    },
    {
     "name": "stdout",
     "output_type": "stream",
     "text": [
      "0.7 125\n",
      "0.6958173570237591\n"
     ]
    },
    {
     "data": {
      "image/png": "[encoded data removed]",
      "text/plain": [
       "<Figure size 432x288 with 1 Axes>"
      ]
     },
     "metadata": {
      "needs_background": "light"
     },
     "output_type": "display_data"
    },
    {
     "name": "stdout",
     "output_type": "stream",
     "text": [
      "0.885\n"
     ]
    },
    {
     "data": {
      "image/png": "[encoded data removed]",
      "text/plain": [
       "<Figure size 432x288 with 1 Axes>"
      ]
     },
     "metadata": {
      "needs_background": "light"
     },
     "output_type": "display_data"
    }
   ],
   "source": [
    "predicts = GTZAN_multi.predict(apply_selection(GTZAN_test, GTZAN_selection))\n",
    "for i, p in enumerate(predicts):\n",
    "    print(str(accuracy_score(GTZAN_y_test, p)) + \" \" + str(len(GTZAN_selection[i])))\n",
    "    print(f1_score(GTZAN_y_test, p, average = 'weighted'))\n",
    "    display_cm(GTZAN_y_test, p, pd.unique(GTZAN_y_test))\n",
    "    \n",
    "indicators = [['classical'], ['country', 'blues', 'rock', 'jazz', 'reggae', 'metal'], ['disco', 'hiphop', 'pop']]\n",
    "labels = ['early', 'middle', 'late']\n",
    "parent_predict = []\n",
    "for p in predicts[4]:\n",
    "    for j, i in enumerate(indicators):\n",
    "        if np.array(p) in i:\n",
    "            parent_predict.append(labels[j])\n",
    "parent_predict = np.array(parent_predict)\n",
    "parent_y, _, _ = hierarchical_taxonomy(GTZAN_X_test, GTZAN_y_test, indicators, labels = labels)\n",
    "print(accuracy_score(parent_y, parent_predict))\n",
    "display_cm(parent_y, parent_predict, pd.unique(parent_y))"
   ]
  },
  {
   "cell_type": "code",
   "execution_count": 55,
   "metadata": {},
   "outputs": [
    {
     "name": "stdout",
     "output_type": "stream",
     "text": [
      "0.585 25\n",
      "0.5837862697199144\n"
     ]
    },
    {
     "data": {
      "image/png": "[encoded data removed]",
      "text/plain": [
       "<Figure size 432x288 with 1 Axes>"
      ]
     },
     "metadata": {
      "needs_background": "light"
     },
     "output_type": "display_data"
    },
    {
     "name": "stdout",
     "output_type": "stream",
     "text": [
      "0.645 50\n",
      "0.6435781612097402\n"
     ]
    },
    {
     "data": {
      "image/png": "[encoded data removed]",
      "text/plain": [
       "<Figure size 432x288 with 1 Axes>"
      ]
     },
     "metadata": {
      "needs_background": "light"
     },
     "output_type": "display_data"
    },
    {
     "name": "stdout",
     "output_type": "stream",
     "text": [
      "0.63 75\n",
      "0.6258340294720299\n"
     ]
    },
    {
     "data": {
      "image/png": "[encoded data removed]",
      "text/plain": [
       "<Figure size 432x288 with 1 Axes>"
      ]
     },
     "metadata": {
      "needs_background": "light"
     },
     "output_type": "display_data"
    },
    {
     "name": "stdout",
     "output_type": "stream",
     "text": [
      "0.625 100\n",
      "0.6217013224835503\n"
     ]
    },
    {
     "data": {
      "image/png": "[encoded data removed]",
      "text/plain": [
       "<Figure size 432x288 with 1 Axes>"
      ]
     },
     "metadata": {
      "needs_background": "light"
     },
     "output_type": "display_data"
    },
    {
     "name": "stdout",
     "output_type": "stream",
     "text": [
      "0.655 125\n",
      "0.6537411260283712\n"
     ]
    },
    {
     "data": {
      "image/png": "[encoded data removed]",
      "text/plain": [
       "<Figure size 432x288 with 1 Axes>"
      ]
     },
     "metadata": {
      "needs_background": "light"
     },
     "output_type": "display_data"
    },
    {
     "name": "stdout",
     "output_type": "stream",
     "text": [
      "0.875\n"
     ]
    },
    {
     "data": {
      "image/png": "[encoded data removed]",
      "text/plain": [
       "<Figure size 432x288 with 1 Axes>"
      ]
     },
     "metadata": {
      "needs_background": "light"
     },
     "output_type": "display_data"
    }
   ],
   "source": [
    "predicts = GTZAN_multi2.predict(apply_selection(GTZAN_test, GTZAN_selection))\n",
    "for i, p in enumerate(predicts):\n",
    "    print(str(accuracy_score(GTZAN_y_test, p)) + \" \" + str(len(GTZAN_selection[i])))\n",
    "    print(f1_score(GTZAN_y_test, p, average = 'weighted'))\n",
    "    display_cm(GTZAN_y_test, p, pd.unique(GTZAN_y_test))\n",
    "parent_predict = []\n",
    "for p in predicts[4]:\n",
    "    for j, i in enumerate(indicators):\n",
    "        if np.array(p) in i:\n",
    "            parent_predict.append(labels[j])\n",
    "parent_predict = np.array(parent_predict)\n",
    "parent_y, _, _ = hierarchical_taxonomy(GTZAN_X_test, GTZAN_y_test, indicators, labels = labels)\n",
    "print(accuracy_score(parent_y, parent_predict))\n",
    "display_cm(parent_y, parent_predict, pd.unique(parent_y))"
   ]
  },
  {
   "cell_type": "code",
   "execution_count": 54,
   "metadata": {},
   "outputs": [
    {
     "data": {
      "text/plain": [
       "False"
      ]
     },
     "execution_count": 54,
     "metadata": {},
     "output_type": "execute_result"
    }
   ],
   "source": [
    "np.array(predicts[4][1]) in indicators[0]"
   ]
  },
  {
   "cell_type": "code",
   "execution_count": 62,
   "metadata": {},
   "outputs": [
    {
     "name": "stdout",
     "output_type": "stream",
     "text": [
      "0.7225404732254047\n",
      "0.5652970484082454\n"
     ]
    },
    {
     "data": {
      "image/png": "[encoded data removed]",
      "text/plain": [
       "<Figure size 432x288 with 1 Axes>"
      ]
     },
     "metadata": {
      "needs_background": "light"
     },
     "output_type": "display_data"
    },
    {
     "name": "stdout",
     "output_type": "stream",
     "text": [
      "0.8458281444582815\n"
     ]
    },
    {
     "data": {
      "image/png": "[encoded data removed]",
      "text/plain": [
       "<Figure size 432x288 with 1 Axes>"
      ]
     },
     "metadata": {
      "needs_background": "light"
     },
     "output_type": "display_data"
    }
   ],
   "source": [
    "predict = FMA_CV1.predict(FMA_X_test)\n",
    "print(accuracy_score(FMA_y_test, predict))\n",
    "print(f1_score(FMA_y_test, predict, average = 'macro'))\n",
    "display_cm(FMA_y_test, predict, pd.unique(FMA_y_test))\n",
    "\n",
    "indicators = [[\"Classical\", \"Old-Time / Historic\"], [\"Country\", \"Rock\", \"Blues\", \"Jazz\", \"Folk\"], [\"Electronic\", \"Hip-Hop\", \"Pop\"]]\n",
    "labels = [\"Early\", \"Middle\", \"Late\"]\n",
    "parent_predict = []\n",
    "for p in predict:\n",
    "    for j, i in enumerate(indicators):\n",
    "        if p in i:\n",
    "            parent_predict.append(labels[j])\n",
    "parent_predict = np.array(parent_predict)\n",
    "parent_y, _, _ = hierarchical_taxonomy(FMA_X_test, FMA_y_test, indicators, labels = labels)\n",
    "print(accuracy_score(parent_y, parent_predict))\n",
    "display_cm(parent_y, parent_predict, pd.unique(parent_y))"
   ]
  },
  {
   "cell_type": "code",
   "execution_count": 27,
   "metadata": {
    "scrolled": true
   },
   "outputs": [
    {
     "name": "stdout",
     "output_type": "stream",
     "text": [
      "0.8483188044831881\n",
      "0.8290698484002498\n"
     ]
    },
    {
     "data": {
      "image/png": "[encoded data removed]",
      "text/plain": [
       "<Figure size 432x288 with 1 Axes>"
      ]
     },
     "metadata": {
      "needs_background": "light"
     },
     "output_type": "display_data"
    },
    {
     "name": "stdout",
     "output_type": "stream",
     "text": [
      "0.7207970112079701\n",
      "0.5484066647237751\n"
     ]
    },
    {
     "data": {
      "image/png": "[encoded data removed]",
      "text/plain": [
       "<Figure size 432x288 with 1 Axes>"
      ]
     },
     "metadata": {
      "needs_background": "light"
     },
     "output_type": "display_data"
    }
   ],
   "source": [
    "indicators = [[\"Classical\", \"Old-Time / Historic\"], [\"Country\", \"Rock\", \"Blues\", \"Jazz\", \"Folk\"], [\"Electronic\", \"Hip-Hop\", \"Pop\"]]\n",
    "labels = [\"Early\", \"Middle\", \"Late\"]\n",
    "parent_predict = FMA_hier.parent_predict(FMA_X_test)\n",
    "parent_y, _, _ = hierarchical_taxonomy(FMA_X_test, FMA_y_test, indicators, labels = labels)\n",
    "print(accuracy_score(parent_y, parent_predict))\n",
    "print(f1_score(parent_y, parent_predict, average = 'macro'))\n",
    "display_cm(parent_y, parent_predict, pd.unique(parent_y))\n",
    "predict = FMA_hier.predict(FMA_X_test, parent_predict = parent_predict)\n",
    "print(accuracy_score(FMA_y_test, predict))\n",
    "print(f1_score(FMA_y_test, predict, average = 'macro'))\n",
    "display_cm(FMA_y_test, predict, pd.unique(FMA_y_test))"
   ]
  },
  {
   "cell_type": "code",
   "execution_count": 64,
   "metadata": {},
   "outputs": [
    {
     "name": "stdout",
     "output_type": "stream",
     "text": [
      "0.6273972602739726 25\n",
      "0.4406886860777794\n"
     ]
    },
    {
     "data": {
      "image/png": "[encoded data removed]",
      "text/plain": [
       "<Figure size 432x288 with 1 Axes>"
      ]
     },
     "metadata": {
      "needs_background": "light"
     },
     "output_type": "display_data"
    },
    {
     "name": "stdout",
     "output_type": "stream",
     "text": [
      "0.6341220423412204 50\n",
      "0.4727123692506547\n"
     ]
    },
    {
     "data": {
      "image/png": "[encoded data removed]",
      "text/plain": [
       "<Figure size 432x288 with 1 Axes>"
      ]
     },
     "metadata": {
      "needs_background": "light"
     },
     "output_type": "display_data"
    },
    {
     "name": "stdout",
     "output_type": "stream",
     "text": [
      "0.6677459526774595 75\n",
      "0.5188042752383168\n"
     ]
    },
    {
     "data": {
      "image/png": "[encoded data removed]",
      "text/plain": [
       "<Figure size 432x288 with 1 Axes>"
      ]
     },
     "metadata": {
      "needs_background": "light"
     },
     "output_type": "display_data"
    },
    {
     "name": "stdout",
     "output_type": "stream",
     "text": [
      "0.6978829389788294 100\n",
      "0.5554402620480869\n"
     ]
    },
    {
     "data": {
      "image/png": "[encoded data removed]",
      "text/plain": [
       "<Figure size 432x288 with 1 Axes>"
      ]
     },
     "metadata": {
      "needs_background": "light"
     },
     "output_type": "display_data"
    },
    {
     "name": "stdout",
     "output_type": "stream",
     "text": [
      "0.7145703611457036 125\n",
      "0.5617155198399153\n"
     ]
    },
    {
     "data": {
      "image/png": "[encoded data removed]",
      "text/plain": [
       "<Figure size 432x288 with 1 Axes>"
      ]
     },
     "metadata": {
      "needs_background": "light"
     },
     "output_type": "display_data"
    },
    {
     "name": "stdout",
     "output_type": "stream",
     "text": [
      "0.8433374844333749\n"
     ]
    },
    {
     "data": {
      "image/png": "[encoded data removed]",
      "text/plain": [
       "<Figure size 432x288 with 1 Axes>"
      ]
     },
     "metadata": {
      "needs_background": "light"
     },
     "output_type": "display_data"
    }
   ],
   "source": [
    "predicts = FMA_multi.predict(apply_selection(FMA_test, FMA_selection))\n",
    "for i, p in enumerate(predicts):\n",
    "    print(str(accuracy_score(FMA_y_test, p)) + \" \" + str(len(FMA_selection[i])))\n",
    "    print(f1_score(FMA_y_test, p, average = 'macro'))\n",
    "    display_cm(FMA_y_test, p, pd.unique(FMA_y_test))\n",
    "indicators = [[\"Classical\", \"Old-Time / Historic\"], [\"Country\", \"Rock\", \"Blues\", \"Jazz\", \"Folk\"], [\"Electronic\", \"Hip-Hop\", \"Pop\"]]\n",
    "labels = [\"Early\", \"Middle\", \"Late\"]\n",
    "parent_predict = []\n",
    "for p in predicts[4]:\n",
    "    for j, i in enumerate(indicators):\n",
    "        if p in i:\n",
    "            parent_predict.append(labels[j])\n",
    "parent_predict = np.array(parent_predict)\n",
    "parent_y, _, _ = hierarchical_taxonomy(FMA_X_test, FMA_y_test, indicators, labels = labels)\n",
    "print(accuracy_score(parent_y, parent_predict))\n",
    "display_cm(parent_y, parent_predict, pd.unique(parent_y))"
   ]
  },
  {
   "cell_type": "code",
   "execution_count": 66,
   "metadata": {},
   "outputs": [
    {
     "name": "stdout",
     "output_type": "stream",
     "text": [
      "0.6122042341220424 25\n",
      "0.4478381481216749\n"
     ]
    },
    {
     "data": {
      "image/png": "[encoded data removed]",
      "text/plain": [
       "<Figure size 432x288 with 1 Axes>"
      ]
     },
     "metadata": {
      "needs_background": "light"
     },
     "output_type": "display_data"
    },
    {
     "name": "stdout",
     "output_type": "stream",
     "text": [
      "0.638854296388543 50\n",
      "0.46527788812774096\n"
     ]
    },
    {
     "data": {
      "image/png": "[encoded data removed]",
      "text/plain": [
       "<Figure size 432x288 with 1 Axes>"
      ]
     },
     "metadata": {
      "needs_background": "light"
     },
     "output_type": "display_data"
    },
    {
     "name": "stdout",
     "output_type": "stream",
     "text": [
      "0.6702366127023661 75\n",
      "0.5047894962565989\n"
     ]
    },
    {
     "data": {
      "image/png": "[encoded data removed]",
      "text/plain": [
       "<Figure size 432x288 with 1 Axes>"
      ]
     },
     "metadata": {
      "needs_background": "light"
     },
     "output_type": "display_data"
    },
    {
     "name": "stdout",
     "output_type": "stream",
     "text": [
      "0.6978829389788294 100\n",
      "0.547153596655065\n"
     ]
    },
    {
     "data": {
      "image/png": "[encoded data removed]",
      "text/plain": [
       "<Figure size 432x288 with 1 Axes>"
      ]
     },
     "metadata": {
      "needs_background": "light"
     },
     "output_type": "display_data"
    },
    {
     "name": "stdout",
     "output_type": "stream",
     "text": [
      "0.7073474470734745 125\n",
      "0.5522679553977333\n"
     ]
    },
    {
     "data": {
      "image/png": "[encoded data removed]",
      "text/plain": [
       "<Figure size 432x288 with 1 Axes>"
      ]
     },
     "metadata": {
      "needs_background": "light"
     },
     "output_type": "display_data"
    },
    {
     "name": "stdout",
     "output_type": "stream",
     "text": [
      "0.8428393524283935\n"
     ]
    },
    {
     "data": {
      "image/png": "[encoded data removed]",
      "text/plain": [
       "<Figure size 432x288 with 1 Axes>"
      ]
     },
     "metadata": {
      "needs_background": "light"
     },
     "output_type": "display_data"
    }
   ],
   "source": [
    "predicts = FMA_multi2.predict(apply_selection(FMA_test, FMA_selection))\n",
    "for i, p in enumerate(predicts):\n",
    "    print(str(accuracy_score(FMA_y_test, p)) + \" \" + str(len(FMA_selection[i])))\n",
    "    print(f1_score(FMA_y_test, p, average = 'macro'))\n",
    "    display_cm(FMA_y_test, p, pd.unique(FMA_y_test))\n",
    "indicators = [[\"Classical\", \"Old-Time / Historic\"], [\"Country\", \"Rock\", \"Blues\", \"Jazz\", \"Folk\"], [\"Electronic\", \"Hip-Hop\", \"Pop\"]]\n",
    "labels = [\"Early\", \"Middle\", \"Late\"]\n",
    "parent_predict = []\n",
    "for p in predicts[4]:\n",
    "    for j, i in enumerate(indicators):\n",
    "        if p in i:\n",
    "            parent_predict.append(labels[j])\n",
    "parent_predict = np.array(parent_predict)\n",
    "parent_y, _, _ = hierarchical_taxonomy(FMA_X_test, FMA_y_test, indicators, labels = labels)\n",
    "print(accuracy_score(parent_y, parent_predict))\n",
    "display_cm(parent_y, parent_predict, pd.unique(parent_y))"
   ]
  }
 ],
 "metadata": {
  "kernelspec": {
   "display_name": "Python 3",
   "language": "python",
   "name": "python3"
  },
  "language_info": {
   "codemirror_mode": {
    "name": "ipython",
    "version": 3
   },
   "file_extension": ".py",
   "mimetype": "text/x-python",
   "name": "python",
   "nbconvert_exporter": "python",
   "pygments_lexer": "ipython3",
   "version": "3.7.6"
  }
 },
 "nbformat": 4,
 "nbformat_minor": 2
}

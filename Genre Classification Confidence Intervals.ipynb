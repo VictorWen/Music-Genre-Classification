{
 "cells": [
  {
   "cell_type": "markdown",
   "metadata": {},
   "source": [
    "# Preprocessing"
   ]
  },
  {
   "cell_type": "code",
   "execution_count": 1,
   "metadata": {},
   "outputs": [],
   "source": [
    "import numpy as np\n",
    "import pandas as pd\n",
    "import matplotlib as plt\n",
    "import pickle\n",
    "import datetime\n",
    "import copy"
   ]
  },
  {
   "cell_type": "code",
   "execution_count": 2,
   "metadata": {},
   "outputs": [],
   "source": [
    "dataset_folder = \"D:/datasets/genres\"\n",
    "fma_folder = dataset_folder + \"/fma\"\n",
    "gtzan_folder = dataset_folder + \"/gtzan\""
   ]
  },
  {
   "cell_type": "code",
   "execution_count": 3,
   "metadata": {
    "scrolled": false
   },
   "outputs": [
    {
     "name": "stdout",
     "output_type": "stream",
     "text": [
      "(800, 137)\n",
      "(200, 137)\n"
     ]
    }
   ],
   "source": [
    "# Load splits sets\n",
    "\n",
    "def load_dataset(folder):\n",
    "    train = pd.read_csv(folder + \"/train.csv\", index_col = 0)\n",
    "    test = pd.read_csv(folder + \"/test.csv\", index_col = 0)\n",
    "    return train, test\n",
    "\n",
    "# FMA_train, FMA_test = load_dataset(fma_folder)\n",
    "GTZAN_train, GTZAN_test = load_dataset(gtzan_folder)\n",
    "\n",
    "# Check data was loaded correctly\n",
    "\n",
    "# print(FMA_train.shape) # (16,060 X 137)\n",
    "# print(FMA_test.shape) # (4,015 X 137)\n",
    "print(GTZAN_train.shape) # (800, 137)\n",
    "print(GTZAN_test.shape) # (200, 137)\n",
    "\n",
    "from sklearn.preprocessing import StandardScaler, LabelEncoder\n",
    "\n",
    "scaler = StandardScaler()\n",
    "\n",
    "def prepare_dataset(scaler, labeler, dataset):\n",
    "    y = labeler.fit_transform(dataset.pop(\"genre\"))\n",
    "    X = scaler.fit_transform(dataset)\n",
    "    return y, X\n",
    "\n",
    "GTZAN_labeler = LabelEncoder()\n",
    "GTZAN_y, GTZAN_X = prepare_dataset(scaler, GTZAN_labeler, GTZAN_train)\n",
    "GTZAN_y_test, GTZAN_X_test = prepare_dataset(scaler, GTZAN_labeler, GTZAN_test)\n",
    "\n",
    "# FMA_labeler = LabelEncoder()\n",
    "# FMA_y, FMA_X = prepare_dataset(scaler, FMA_labeler, FMA_train)"
   ]
  },
  {
   "cell_type": "markdown",
   "metadata": {},
   "source": [
    "# Training"
   ]
  },
  {
   "cell_type": "code",
   "execution_count": 4,
   "metadata": {},
   "outputs": [],
   "source": [
    "from thundersvm import SVC as gpuSVC\n",
    "from sklearn.svm import SVC as cpuSVC\n",
    "from sklearn.model_selection import GridSearchCV\n",
    "from sklearn.utils import resample\n",
    "import datetime"
   ]
  },
  {
   "cell_type": "code",
   "execution_count": 5,
   "metadata": {},
   "outputs": [
    {
     "name": "stdout",
     "output_type": "stream",
     "text": [
      "Elapsed Time: 0:02:53.696461\n"
     ]
    }
   ],
   "source": [
    "# bootstrapping\n",
    "\n",
    "GTZAN_trials = 100\n",
    "params = {'C' : [0.1, 1, 10, 100], 'gamma' : [0.0001, 0.001, 0.01, 0.1]}\n",
    "models = []\n",
    "start_time = datetime.datetime.now() \n",
    "for i in range(GTZAN_trials):\n",
    "    a = datetime.datetime.now()\n",
    "    X, y = resample(GTZAN_X, GTZAN_y)\n",
    "    SVC = cpuSVC()\n",
    "    CV = GridSearchCV(SVC, params, n_jobs = -1, cv = 5)\n",
    "    CV.fit(X, y)\n",
    "    print(\"trial:\", i, str(datetime.datetime.now() - a), '\\r', end='')\n",
    "    models.append(CV)\n",
    "end_time = datetime.datetime.now()\n",
    "print(\"Elapsed Time: \" + str(end_time - start_time))"
   ]
  },
  {
   "cell_type": "code",
   "execution_count": 9,
   "metadata": {},
   "outputs": [
    {
     "name": "stdout",
     "output_type": "stream",
     "text": [
      "Elapsed Time: 0:00:00.842712\n"
     ]
    }
   ],
   "source": [
    "# GTZAN without hierarchy or feature selection\n",
    "start_time = datetime.datetime.now()\n",
    "\n",
    "GTZAN_SVC1 = cpuSVC(gamma = 'scale')\n",
    "params = {'C' : [0.1, 1, 10, 100], 'gamma' : [0.0001, 0.001, 0.01, 0.1]}\n",
    "\n",
    "GTZAN_CV1 = GridSearchCV(GTZAN_SVC1, params, n_jobs = -1, cv = 5)\n",
    "GTZAN_CV1.fit(GTZAN_X, GTZAN_y)\n",
    "\n",
    "end_time = datetime.datetime.now()\n",
    "\n",
    "print(\"Elapsed Time: \" + str(end_time - start_time))"
   ]
  },
  {
   "cell_type": "code",
   "execution_count": 20,
   "metadata": {},
   "outputs": [
    {
     "name": "stdout",
     "output_type": "stream",
     "text": [
      "Elapsed Time: 0:03:57.504801\n"
     ]
    }
   ],
   "source": [
    "# FMA without hierarchy or feature selection\n",
    "\n",
    "start_time = datetime.datetime.now() \n",
    "\n",
    "FMA_SVC1 = gpuSVC(cache_size=1000, n_jobs=1, shrinking=True, decision_function_shape='ovr')\n",
    "params = {'C' : [0.0001, 0.001, 0.01, 0.1, 1, 10, 100]}\n",
    "\n",
    "FMA_CV1 = GridSearchCV(FMA_SVC1, params, n_jobs = -1, cv = 5, scoring = 'f1_macro')\n",
    "FMA_CV1.fit(FMA_X, FMA_y)\n",
    "\n",
    "end_time = datetime.datetime.now()\n",
    "\n",
    "print(\"Elapsed Time: \" + str(end_time - start_time))"
   ]
  },
  {
   "cell_type": "markdown",
   "metadata": {},
   "source": [
    "# Evaluation"
   ]
  },
  {
   "cell_type": "code",
   "execution_count": 10,
   "metadata": {},
   "outputs": [],
   "source": [
    "import numpy as np\n",
    "import pandas as pd\n",
    "import matplotlib.pyplot as plt\n",
    "import matplotlib\n",
    "from sklearn.metrics import accuracy_score, precision_score, recall_score, f1_score, confusion_matrix\n",
    "import datetime\n",
    "import copy"
   ]
  },
  {
   "cell_type": "code",
   "execution_count": 55,
   "metadata": {},
   "outputs": [],
   "source": [
    "accuracies = []\n",
    "f1_scores = []\n",
    "for model in models:\n",
    "    predict = model.predict(GTZAN_X_test)\n",
    "    accuracy = accuracy_score(GTZAN_y_test, predict)\n",
    "    f1 = f1_score(GTZAN_y_test, predict, average = 'macro')\n",
    "    accuracies.append(accuracy)\n",
    "    f1_scores.append(f1)"
   ]
  },
  {
   "cell_type": "code",
   "execution_count": 46,
   "metadata": {},
   "outputs": [
    {
     "name": "stdout",
     "output_type": "stream",
     "text": [
      "0.60975 0.6625000000000001 0.7\n"
     ]
    }
   ],
   "source": [
    "# CIs using percentiles\n",
    "\n",
    "confidence = 0.95\n",
    "\n",
    "alpha = 100 - confidence * 100\n",
    "lower_p = alpha / 2.0; higher_p = 100 - lower_p\n",
    "print(np.percentile(accuracies, lower_p), np.median(accuracies), np.percentile(accuracies, higher_p))"
   ]
  },
  {
   "cell_type": "code",
   "execution_count": 47,
   "metadata": {
    "scrolled": true
   },
   "outputs": [
    {
     "name": "stdout",
     "output_type": "stream",
     "text": [
      "0.6157333701112432 0.6607999999999999 0.7058666298887567\n"
     ]
    }
   ],
   "source": [
    "# CIs using t distribution\n",
    "\n",
    "import scipy\n",
    "import math\n",
    "confidence = 0.95\n",
    "\n",
    "mean = np.mean(accuracies)\n",
    "std = np.std(accuracies)\n",
    "lo, hi = scipy.stats.t.interval(confidence, df = 99, loc=mean, scale=std)\n",
    "print(lo, mean, hi)"
   ]
  },
  {
   "cell_type": "code",
   "execution_count": 56,
   "metadata": {},
   "outputs": [
    {
     "name": "stdout",
     "output_type": "stream",
     "text": [
      "0.6162842168748737 0.6607999999999999 0.7053157831251262\n"
     ]
    }
   ],
   "source": [
    "# CIs using norm distribution\n",
    "\n",
    "import scipy\n",
    "import math\n",
    "confidence = 0.95\n",
    "\n",
    "mean = np.mean(accuracies)\n",
    "std = np.std(accuracies)\n",
    "lo, hi = scipy.stats.norm.interval(confidence, loc=mean, scale=std)\n",
    "print(lo, mean, hi)"
   ]
  },
  {
   "cell_type": "code",
   "execution_count": 57,
   "metadata": {},
   "outputs": [
    {
     "name": "stdout",
     "output_type": "stream",
     "text": [
      "0.702483107733612 0.73 0.757516892266388\n"
     ]
    }
   ],
   "source": [
    "# CIs using binomial distribution\n",
    "\n",
    "from math import sqrt\n",
    "accuracy = 0.73\n",
    "interval = 1.96 * sqrt((accuracy * (1-accuracy)) / 1000)\n",
    "print(accuracy - interval, accuracy, accuracy + interval)"
   ]
  },
  {
   "cell_type": "code",
   "execution_count": 29,
   "metadata": {},
   "outputs": [],
   "source": [
    "def display_cm(true, predict, classes, cmap = plt.cm.gray):\n",
    "    cm = confusion_matrix(true, predict, labels = classes)\n",
    "    \n",
    "    row_sums = cm.sum(axis = 1, keepdims = True)\n",
    "    norm_cm = cm / row_sums\n",
    "    \n",
    "    plt.imshow(norm_cm, cmap = cmap)\n",
    "\n",
    "    tick_marks = np.arange(len(classes))\n",
    "    plt.xticks(tick_marks, classes, rotation=90)\n",
    "    plt.yticks(tick_marks, classes)\n",
    "\n",
    "    plt.show()"
   ]
  },
  {
   "cell_type": "code",
   "execution_count": 35,
   "metadata": {},
   "outputs": [
    {
     "name": "stdout",
     "output_type": "stream",
     "text": [
      "0.73\n",
      "0.7290559184076513\n"
     ]
    },
    {
     "data": {
      "image/png": "[encoded data removed]",
      "text/plain": [
       "<Figure size 432x288 with 1 Axes>"
      ]
     },
     "metadata": {
      "needs_background": "light"
     },
     "output_type": "display_data"
    }
   ],
   "source": [
    "predict = GTZAN_CV1.predict(GTZAN_X_test)\n",
    "print(accuracy_score(GTZAN_y_test, predict))\n",
    "print(f1_score(GTZAN_y_test, predict, average = 'macro'))\n",
    "display_cm(GTZAN_y_test, predict, pd.unique(GTZAN_y_test))"
   ]
  }
 ],
 "metadata": {
  "kernelspec": {
   "display_name": "Python 3",
   "language": "python",
   "name": "python3"
  },
  "language_info": {
   "codemirror_mode": {
    "name": "ipython",
    "version": 3
   },
   "file_extension": ".py",
   "mimetype": "text/x-python",
   "name": "python",
   "nbconvert_exporter": "python",
   "pygments_lexer": "ipython3",
   "version": "3.7.6"
  }
 },
 "nbformat": 4,
 "nbformat_minor": 4
}
